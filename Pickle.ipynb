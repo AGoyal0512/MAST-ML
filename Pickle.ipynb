{
 "cells": [
  {
   "cell_type": "markdown",
   "metadata": {},
   "source": [
    "# MASTML"
   ]
  },
  {
   "cell_type": "code",
   "execution_count": 1,
   "metadata": {},
   "outputs": [],
   "source": [
    "import pickle\n",
    "import numpy as np\n",
    "import pandas as pd\n",
    "import itertools\n",
    "from mastml.mastml import Mastml\n",
    "from mastml.feature_generators import ElementalFeatureGenerator, ElementalFractionGenerator\n",
    "import matplotlib.pyplot as plt\n",
    "import random"
   ]
  },
  {
   "cell_type": "markdown",
   "metadata": {},
   "source": [
    "## Load Data"
   ]
  },
  {
   "cell_type": "code",
   "execution_count": 2,
   "metadata": {},
   "outputs": [],
   "source": [
    "pfile_X = \"Codes/bandgap_pbe_X.pickle\"\n",
    "pfile_Y = \"Codes/bandgap_pbe_Y.pickle\""
   ]
  },
  {
   "cell_type": "code",
   "execution_count": 3,
   "metadata": {},
   "outputs": [],
   "source": [
    "with open(pfile_X, 'rb') as f:\n",
    "    data = pickle.load(f)"
   ]
  },
  {
   "cell_type": "code",
   "execution_count": 4,
   "metadata": {},
   "outputs": [],
   "source": [
    "with open(pfile_Y, 'rb') as f:\n",
    "    data_y = pickle.load(f)"
   ]
  },
  {
   "cell_type": "code",
   "execution_count": 21,
   "metadata": {},
   "outputs": [
    {
     "name": "stdout",
     "output_type": "stream",
     "text": [
      "num compositions 74992\n"
     ]
    }
   ],
   "source": [
    "# PARSE DATA\n",
    "\n",
    "x_clean = data[['composition', 'structure', 'space group']]\n",
    "\n",
    "composition = x_clean['composition']\n",
    "structure = x_clean['structure']\n",
    "\n",
    "compositions = [comp for i, comp in enumerate(composition)]\n",
    "\n",
    "print(\"num compositions\", len(compositions))"
   ]
  },
  {
   "cell_type": "markdown",
   "metadata": {},
   "source": [
    "### Vectorize"
   ]
  },
  {
   "cell_type": "code",
   "execution_count": 102,
   "metadata": {},
   "outputs": [
    {
     "name": "stdout",
     "output_type": "stream",
     "text": [
      "Dropping 5/440 generated columns due to missing values\n"
     ]
    }
   ],
   "source": [
    "# subset n random values\n",
    "n = 1000\n",
    "data_y_list = data_y.T.values.tolist()[0]\n",
    "l = list(zip(compositions, data_y_list))\n",
    "subset_compositions, subset_y = zip(*random.sample(l, n))\n",
    "x_df = pd.DataFrame(subset_compositions)\n",
    "\n",
    "e_features = ElementalFeatureGenerator(x_df)\n",
    "e_fraction = ElementalFractionGenerator(x_df)\n",
    "\n",
    "e_features.fit()\n",
    "e_fraction.fit()\n",
    "feat_x, _ = e_features.transform()\n",
    "\n",
    "# efg_x, efg_y = efg.transform(fraction=False) # ! Cannot use custom function here because of how library is loaded (I did it locally...)\n",
    "frac_x, frac_y = e_fraction.transform()\n",
    "\n",
    "x = feat_x\n",
    "y = subset_y"
   ]
  },
  {
   "cell_type": "code",
   "execution_count": 103,
   "metadata": {},
   "outputs": [
    {
     "data": {
      "image/png": "[encoded data removed]",
      "text/plain": [
       "<Figure size 432x288 with 1 Axes>"
      ]
     },
     "metadata": {},
     "output_type": "display_data"
    }
   ],
   "source": [
    "# check that the y is reasonable\n",
    "plt.hist(y)\n",
    "plt.show()"
   ]
  },
  {
   "cell_type": "markdown",
   "metadata": {},
   "source": [
    "### Featurize"
   ]
  },
  {
   "cell_type": "code",
   "execution_count": 104,
   "metadata": {},
   "outputs": [],
   "source": [
    "from mastml.preprocessing import SklearnPreprocessor\n",
    "from mastml.feature_selectors import SklearnFeatureSelector, EnsembleModelFeatureSelector\n",
    "from mastml.models import SklearnModel"
   ]
  },
  {
   "cell_type": "code",
   "execution_count": 105,
   "metadata": {},
   "outputs": [],
   "source": [
    "model = SklearnModel(model='RandomForestRegressor')\n",
    "selector = EnsembleModelFeatureSelector(model=model, \n",
    "                                        n_features_to_select=25)\n",
    "X_selected = selector.evaluate(X=x, y=y)"
   ]
  },
  {
   "cell_type": "code",
   "execution_count": 106,
   "metadata": {},
   "outputs": [],
   "source": [
    "# print(X_selected)\n",
    "x = X_selected\n",
    "\n",
    "# _ = plt.ist(y)\n",
    "# plt.show()"
   ]
  },
  {
   "cell_type": "markdown",
   "metadata": {},
   "source": [
    "## GPR"
   ]
  },
  {
   "cell_type": "code",
   "execution_count": 107,
   "metadata": {},
   "outputs": [],
   "source": [
    "from sklearn.gaussian_process import GaussianProcessRegressor\n",
    "from sklearn.gaussian_process.kernels import WhiteKernel, Matern, ConstantKernel\n",
    "import time"
   ]
  },
  {
   "cell_type": "markdown",
   "metadata": {},
   "source": [
    "#### GPR for ElementalFeatureGenerator information"
   ]
  },
  {
   "cell_type": "code",
   "execution_count": 108,
   "metadata": {},
   "outputs": [
    {
     "name": "stdout",
     "output_type": "stream",
     "text": [
      "Start fitting\n",
      "Time for GPR fitting: 53.376\n",
      "Done\n"
     ]
    },
    {
     "name": "stderr",
     "output_type": "stream",
     "text": [
      "/Users/averychan/opt/anaconda3/envs/MAST_ML_env/lib/python3.7/site-packages/sklearn/gaussian_process/kernels.py:418: ConvergenceWarning: The optimal value found for dimension 0 of parameter k1__k2__length_scale is close to the specified upper bound 100000.0. Increasing the bound and calling fit again may find a better value.\n",
      "  ConvergenceWarning)\n"
     ]
    }
   ],
   "source": [
    "\n",
    "gp_kernel = ConstantKernel() * Matern() + WhiteKernel()\n",
    "gpr = GaussianProcessRegressor(kernel=gp_kernel, n_restarts_optimizer=10)\n",
    "stime = time.time()\n",
    "print(\"Start fitting\")\n",
    "gpr.fit(x, y)\n",
    "print(\"Time for GPR fitting: %.3f\" % (time.time() - stime))\n",
    "print(\"Done\")"
   ]
  },
  {
   "cell_type": "code",
   "execution_count": 109,
   "metadata": {},
   "outputs": [],
   "source": [
    "def rmse(predictions, targets):\n",
    "    return np.sqrt(((predictions - targets) ** 2).mean())"
   ]
  },
  {
   "cell_type": "code",
   "execution_count": 110,
   "metadata": {},
   "outputs": [
    {
     "data": {
      "image/png": "[encoded data removed]",
      "text/plain": [
       "<Figure size 432x288 with 1 Axes>"
      ]
     },
     "metadata": {},
     "output_type": "display_data"
    },
    {
     "data": {
      "image/png": "[encoded data removed]",
      "text/plain": [
       "<Figure size 432x288 with 1 Axes>"
      ]
     },
     "metadata": {},
     "output_type": "display_data"
    },
    {
     "name": "stdout",
     "output_type": "stream",
     "text": [
      "R^2 score: 0.49043944909403103\n",
      "R^2 score / std: 0.7138351006401751\n"
     ]
    }
   ],
   "source": [
    "# EVALUATE PERFORMANCE for all data points\n",
    "\n",
    "y_, std_ = gpr.predict(x, return_std=True)\n",
    "\n",
    "# _ = plt.hist(y_)\n",
    "# plt.show()\n",
    "# _ = plt.hist(std_)\n",
    "# plt.show()\n",
    "\n",
    "\n",
    "def showScores(x, y, y_):\n",
    "    \"\"\"Show evaluation metrics given `x`, `y`, and predicted y, `y_`\"\"\"\n",
    "    fig, ax = plt.subplots()\n",
    "    ax.scatter(x=y, y=y_)\n",
    "    max_val = max(max(y), max(y_))\n",
    "    ax.plot([0, max_val], [0, max_val])\n",
    "    plt.show()\n",
    "\n",
    "    max_val = max(max(y), max(y_))\n",
    "    fig, ax = plt.subplots()\n",
    "    ax.scatter(x=y, y=y_)\n",
    "    ax.set_xlim((0, max_val))\n",
    "    ax.set_ylim((0, max_val))\n",
    "    x0, x1 = ax.get_xlim()\n",
    "    y0, y1 = ax.get_ylim()\n",
    "    ax.set_aspect(abs(x1-x0)/abs(y1-y0))\n",
    "    ax.plot([0, 1], [0, 1], transform=ax.transAxes)\n",
    "    plt.show()\n",
    "\n",
    "    r2_score = gpr.score(x, y)\n",
    "    print(f\"R^2 score: {r2_score}\")\n",
    "    err = rmse(y, y_) / np.std(y)\n",
    "    print(f\"R^2 score / std: {err}\")\n",
    "\n",
    "\n",
    "showScores(x, y, y_)\n"
   ]
  },
  {
   "cell_type": "markdown",
   "metadata": {},
   "source": [
    "#### GPR for atomic table"
   ]
  },
  {
   "cell_type": "code",
   "execution_count": 59,
   "metadata": {},
   "outputs": [],
   "source": [
    "# list(x.items())\n",
    "# print(*x.items(), sep=\"\\n\")\n",
    "# print(x.iloc[0])\n",
    "\n",
    "## verify rows sum to 1\n",
    "# total = x.sum(axis=1, numeric_only= True)\n",
    "# print(\"total\", total)\n",
    "\n",
    "# material_group_char = [\"O\", \"B\", \"F\", \"Cl\", \"Br\", \"I\"]\n",
    "material_group_char = [\"O\"]\n",
    "thresholds = [0]\n",
    "for mat in material_group_char:\n",
    "    continue\n",
    "    print(\"Grouping for\", mat)\n",
    "    st1 = 100\n",
    "    st2 = 10\n",
    "\n",
    "    for th in thresholds:\n",
    "        # Make split\n",
    "        group_X = x[x[mat] > th]\n",
    "        not_group_X = x[x[mat] <= th]\n",
    "        # group_y = [None for x in group_X]\n",
    "        # not_group_y = [None for x in not_group_y]\n",
    "        group_y = y[x[mat] > th]\n",
    "        not_group_y = y[x[mat] <= th]\n",
    "\n",
    "        perc_in_group = group_X.shape[0]/x.shape[0]\n",
    "        print(f\"\\ttheshold:\\t{th}\\n\\tpercent in {mat}_group:\\t{perc_in_group}\")\n",
    "        # if the split leaves an empty group skip\n",
    "        if perc_in_group == 0:\n",
    "            continue\n",
    "\n",
    "        # group_X.iloc(100)\n",
    "        group_X = np.array(group_X)\n",
    "        group_y = np.array(group_y)\n",
    "\n",
    "        group_X = group_X[0:1000,:]\n",
    "        group_y = group_y[0:1000,:]\n",
    "        \n",
    "        # do GPR stuff\n",
    "        print(f\"Doing GPR for {mat}\")\n",
    "        # gp_kernel = ExpSineSquared(1.0, 5.0, periodicity_bounds=(1e-2, 1e1)) + WhiteKernel(1e-1) \n",
    "        gp_kernel = ConstantKernel() * Matern() + WhiteKernel()\n",
    "        gpr = GaussianProcessRegressor(kernel=gp_kernel, n_restarts_optimizer=10)\n",
    "        print(\"gpr:\", gpr)\n",
    "        # break\n",
    "        stime = time.time()\n",
    "        print(\"Start fitting\")\n",
    "        # gpr.fit(group_X, group_y)\n",
    "        print(\"Time for GPR fitting: %.3f\" % (time.time() - stime))\n",
    "        print(\"Done\")\n",
    "\n",
    "        x_, std_ = gpr.predict(group_X, return_std=True)\n",
    "        print(\"x_\", x_)\n",
    "        print(\"std_\", std_)\n",
    "\n",
    "        # Predict using gaussian process regressor\n",
    "        # stime = time.time()\n",
    "        # y_gpr = gpr.predict(X_plot, return_std=False)\n",
    "        # print(\"Time for GPR prediction: %.3f\" % (time.time() - stime))\n",
    "\n",
    "# gpr.kernel_\n",
    "# np.std(group_X)"
   ]
  },
  {
   "cell_type": "code",
   "execution_count": null,
   "metadata": {},
   "outputs": [],
   "source": []
  }
 ],
 "metadata": {
  "interpreter": {
   "hash": "eb9a3b69315989b71ebfa9a6e5d99cd0b47220ba2e2aefc36423c82f8837c3dc"
  },
  "kernelspec": {
   "display_name": "Python 3.8.5 64-bit ('base': conda)",
   "name": "python3"
  },
  "language_info": {
   "codemirror_mode": {
    "name": "ipython",
    "version": 3
   },
   "file_extension": ".py",
   "mimetype": "text/x-python",
   "name": "python",
   "nbconvert_exporter": "python",
   "pygments_lexer": "ipython3",
   "version": "3.7.11"
  }
 },
 "nbformat": 4,
 "nbformat_minor": 2
}
