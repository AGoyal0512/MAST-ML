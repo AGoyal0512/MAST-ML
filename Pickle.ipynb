{
 "cells": [
  {
   "cell_type": "code",
   "execution_count": 45,
   "metadata": {},
   "outputs": [],
   "source": [
    "import pickle\n",
    "import numpy as np\n",
    "import pandas as pd\n",
    "import itertools\n",
    "from mastml.mastml import Mastml\n",
    "from mastml.feature_generators import ElementalFeatureGenerator, ElementalFractionGenerator\n",
    "# from mastml.feature_generators import ElementalFeatureGenerator\n"
   ]
  },
  {
   "cell_type": "code",
   "execution_count": 2,
   "metadata": {},
   "outputs": [],
   "source": [
    "\n",
    "pfile_X = \"Codes/bandgap_pbe_X.pickle\"\n",
    "pfile_Y = \"Codes/bandgap_pbe_Y.pickle\"\n",
    "\n",
    "with open(pfile_X, 'rb') as f:\n",
    "    data = pickle.load(f)"
   ]
  },
  {
   "cell_type": "code",
   "execution_count": 6,
   "metadata": {},
   "outputs": [
    {
     "name": "stdout",
     "output_type": "stream",
     "text": [
      "num compositions 34662\n"
     ]
    }
   ],
   "source": [
    "# for k,v in data.items():\n",
    "    # print(k)\n",
    "\n",
    "# n = 74992\n",
    "# acc = 0\n",
    "# for id in data['icsd_id']:\n",
    "#     if not id:\n",
    "#         acc += 1\n",
    "\n",
    "# print(acc / n)\n",
    "# print(list(numpy.unique(data['reference'])))\n",
    "# print(list(numpy.unique(data['comments'])))\n",
    "# print(list(numpy.unique(data['bandgap type'])))\n",
    "# print(list(numpy.unique(data['comp method'])))\n",
    "\n",
    "x_clean = data[['composition', 'structure', 'space group']]\n",
    "# print(\"x_clean\", x_clean)\n",
    "\n",
    "composition = x_clean['composition']\n",
    "structure = x_clean['structure']\n",
    "\n",
    "m = float(\"inf\")\n",
    "\n",
    "# foo = structure[m]\n",
    "# compositions = [composition[i] for i in range(m)]\n",
    "compositions = [comp for i, comp in enumerate(composition) if i < m and \"O\" in comp]\n",
    "\n",
    "# sites = foo['sites']\n",
    "# print(\"compositions\", compositions)\n",
    "print(\"num compositions\", len(compositions))\n",
    "\n",
    "# l = []\n",
    "# for s in sites:\n",
    "#     l.append(s['species'])\n",
    "\n",
    "# element_names = ['H', 'He', 'Li', 'Be', 'B', 'C', 'N', 'O', 'F', 'Ne', 'Na', 'Mg', 'Al', 'Si', 'P', 'S', 'Cl', 'Ar', 'K',\n",
    "#                  'Ca', 'Sc', 'Ti', 'V', 'Cr', 'Mn', 'Fe', 'Co', 'Ni', 'Cu', 'Zn', 'Ga', 'Ge', 'As', 'Se', 'Br', 'Kr', 'Rb',\n",
    "#                  'Sr', 'Y', 'Zr', 'Nb', 'Mo', 'Tc', 'Ru', 'Rh', 'Pd', 'Ag', 'Cd', 'In', 'Sn', 'Sb', 'Te', 'I', 'Xe', 'Cs',\n",
    "#                  'Ba', 'La', 'Ce', 'Pr', 'Nd', 'Pm', 'Sm', 'Eu', 'Gd', 'Tb', 'Dy', 'Ho', 'Er', 'Tm', 'Yb', 'Lu', 'Hf', 'Ta',\n",
    "#                  'W', 'Re', 'Os', 'Ir', 'Pt', 'Au', 'Hg', 'Tl', 'Pb', 'Bi', 'Po', 'At', 'Rn', 'Fr', 'Ra', 'Ac', 'Th', 'Pa',\n",
    "#                  'U', 'Np', 'Pu', 'Am', 'Cm', 'Bk', 'Cf', 'Es', 'Fm', 'Md', 'No', 'Lr', 'Rf', 'Db', 'Sg', 'Bh', 'Hs', 'Mt',\n",
    "#                  'Ds', 'Rg', 'Cn', 'Nh', 'Fl', 'Mc', 'Lv', 'Ts', 'Og']\n",
    "\n",
    "# print(bar)\n",
    "# decomposeComposition(bar)\n",
    "# print(bar)\n",
    "# EnsembleModelFeatureSelector()\n",
    "# generate_elementfraction_features(bar)"
   ]
  },
  {
   "cell_type": "code",
   "execution_count": 23,
   "metadata": {},
   "outputs": [
    {
     "name": "stdout",
     "output_type": "stream",
     "text": [
      "vector shape (34662, 118) y None\n"
     ]
    }
   ],
   "source": [
    "# df = pd.DataFrame([compositions])\n",
    "df = pd.DataFrame(compositions)\n",
    "# print(\"df\", df)\n",
    "# ! USE ElementFraction instead ElementalFractionGenerator\n",
    "# e = ElementalFeatureGenerator(df)\n",
    "e = ElementalFractionGenerator(df)\n",
    "e.fit()\n",
    "x, y = e.transform()\n",
    "print(\"vector shape\", x.shape, \"y\", y)\n"
   ]
  },
  {
   "cell_type": "code",
   "execution_count": 56,
   "metadata": {},
   "outputs": [
    {
     "name": "stdout",
     "output_type": "stream",
     "text": [
      "dist o_cent not_o_cent 0.2969931546409783\n",
      "dist o_cent x_cent 0.09716410979255533\n",
      "dist not_o_cent x_cent 0.19982904484842295\n"
     ]
    }
   ],
   "source": [
    "# list(x.items())\n",
    "# print(*x.items(), sep=\"\\n\")\n",
    "# print(x.iloc[0])\n",
    "\n",
    "## verify rows sum to 1\n",
    "# total = x.sum(axis=1, numeric_only= True)\n",
    "# print(\"total\", total)\n",
    "\n",
    "\n",
    "thresholds = [i / 10 for i in range(10)]\n",
    "for th in thresholds:\n",
    "    O_group = x[x['O'] > th]\n",
    "    not_O_group = x[x['O'] <= th]\n",
    "    # print(\"o group shape for theshold\", th, O_group.shape, O_group.shape[0]/x.shape[0])\n",
    "    # print(\"not o group shape for theshold\", th, not_O_group.shape, not_O_group.shape[0]/x.shape[0])\n",
    "\n",
    "th = 0.5\n",
    "O_group = x[x['O'] > th]\n",
    "not_O_group = x[x['O'] <= th]\n",
    "\n",
    "o_cent = O_group.mean(axis=0)\n",
    "not_o_cent = not_O_group.mean(axis=0)\n",
    "x_cent = x.mean(axis=0)\n",
    "\n",
    "# groups = (o_cent, not_o_cent, x_cent)\n",
    "# group_names = (\"o_cent\", \"not_o_cent\", \"x_cent\")\n",
    "groups = {\n",
    "    \"o_cent\": o_cent, \"not_o_cent\": not_o_cent, \"x_cent\": x_cent\n",
    "}\n",
    "\n",
    "pairs = list(itertools.combinations(list(groups.items()), 2))\n",
    "# print(*pairs, sep=\"\\n\")\n",
    "\n",
    "for ((g1_name, g1), (g2_name, g2)) in pairs:\n",
    "    dist = np.sqrt(np.sum([(a-b)*(a-b) for a, b in zip(g1, g2)]))\n",
    "    print(f\"dist {g1_name} {g2_name}\", dist)\n",
    "\n",
    "# print(\"o_cent\", o_cent)\n",
    "# print(\"not_o_cent\", not_o_cent)\n",
    "# print(\"x_cent\", x_cent)\n"
   ]
  },
  {
   "cell_type": "code",
   "execution_count": null,
   "metadata": {},
   "outputs": [],
   "source": [
    "## Compute distances"
   ]
  }
 ],
 "metadata": {
  "interpreter": {
   "hash": "eb9a3b69315989b71ebfa9a6e5d99cd0b47220ba2e2aefc36423c82f8837c3dc"
  },
  "kernelspec": {
   "display_name": "Python 3.8.5 64-bit ('base': conda)",
   "name": "python3"
  },
  "language_info": {
   "codemirror_mode": {
    "name": "ipython",
    "version": 3
   },
   "file_extension": ".py",
   "mimetype": "text/x-python",
   "name": "python",
   "nbconvert_exporter": "python",
   "pygments_lexer": "ipython3",
   "version": "3.8.5"
  }
 },
 "nbformat": 4,
 "nbformat_minor": 2
}
