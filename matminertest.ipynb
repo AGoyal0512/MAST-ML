{
 "cells": [
  {
   "cell_type": "code",
   "execution_count": 14,
   "metadata": {},
   "outputs": [
    {
     "name": "stdout",
     "output_type": "stream",
     "text": [
      "mastml dir:  ['/Users/AlexDo/PycharmProjects/MAST-ML/mastml']\n"
     ]
    }
   ],
   "source": [
    "\"\"\"\n",
    "This module contains a collection of classes for generating input features to fit machine learning models to.\n",
    "\"\"\"\n",
    "\n",
    "import multiprocessing\n",
    "import os\n",
    "import logging\n",
    "\n",
    "import numpy as np\n",
    "import pandas as pd\n",
    "\n",
    "from sklearn.base import BaseEstimator, TransformerMixin\n",
    "from sklearn.preprocessing import PolynomialFeatures as SklearnPolynomialFeatures\n",
    "\n",
    "import pymatgen\n",
    "from pymatgen import Element, Composition\n",
    "from pymatgen.ext.matproj import MPRester\n",
    "#from citrination_client import CitrinationClient, PifQuery, SystemQuery, ChemicalFieldQuery, ChemicalFilter\n",
    "# trouble? try: `pip install citrination_client==\"2.1.0\"`\n",
    "\n",
    "# locate path to directory containing AtomicNumber.table, AtomicRadii.table AtomicVolume.table, etc\n",
    "# (needs to do it the hard way becuase python -m sets cwd to wherever python is ran from)\n",
    "\n",
    "# is this how you do it? Any other imports needed for this module then?\n",
    "import inspect # used to get a dictionary of classes in a module\n",
    "from matminer.featurizers import structure as st\n",
    "\n",
    "\n",
    "import mastml\n",
    "from mastml import utils\n",
    "log = logging.getLogger('mastml')\n",
    "print('mastml dir: ', mastml.__path__)\n",
    "MAGPIE_DATA_PATH = os.path.join(mastml.__path__[0], '../magpie/')\n",
    "\n",
    "\n",
    "class Matminer(BaseEstimator, TransformerMixin):\n",
    "    def __init__(self, structural_features, structure_col): # _instantiate only needs this\n",
    "        # assuming dataframe is coming in with a column 'Structure' with coords.\n",
    "        # where do I need to raise errors\n",
    "        structural_features = structural_features.split(', ') # structural feature is now cast as a list\n",
    "        self.structural_features = structural_features # structural feature field of class\n",
    "        self.structure_col = structure_col\n",
    "\n",
    "    def fit(self, df, y=None):\n",
    "        return self\n",
    "\n",
    "    def transform(self, df, y=None):\n",
    "        # any possible errors i need to raise?\n",
    "        for struc_feat in range(len(self.structural_features)): # nested for loop to iterate through structural features list\n",
    "          for feature_name in inspect.getmembers(structure,\n",
    "                                               inspect.isclass):  # will get list of all classes in structure module\n",
    "\n",
    "              if (feature_name[0] is self.structural_features[struc_feat]):\n",
    "                  sf = getattr(structure, self.structural_features[struc_feat])() # instantiates the structure featurizer\n",
    "                  df = sf.fit_featurize_dataframe(df, self.structure_col)  # fit_featurize_dataframe() works for all\n",
    "                  log.info(\"BITCH RICH BITCH RICH\")\n",
    "                  print(\"made it\")\n",
    "\n",
    "        # if for loop passed, structural_feature was not a valid structural feature\n",
    "\n",
    "        return df  # I think it should return the updated dataframe to concatenate"
   ]
  },
  {
   "cell_type": "code",
   "execution_count": 5,
   "metadata": {},
   "outputs": [
    {
     "data": {
      "text/html": [
       "<div>\n",
       "<style scoped>\n",
       "    .dataframe tbody tr th:only-of-type {\n",
       "        vertical-align: middle;\n",
       "    }\n",
       "\n",
       "    .dataframe tbody tr th {\n",
       "        vertical-align: top;\n",
       "    }\n",
       "\n",
       "    .dataframe thead th {\n",
       "        text-align: right;\n",
       "    }\n",
       "</style>\n",
       "<table border=\"1\" class=\"dataframe\">\n",
       "  <thead>\n",
       "    <tr style=\"text-align: right;\">\n",
       "      <th></th>\n",
       "      <th>Material</th>\n",
       "      <th>Structure</th>\n",
       "    </tr>\n",
       "  </thead>\n",
       "  <tbody>\n",
       "    <tr>\n",
       "      <th>0</th>\n",
       "      <td>GaAs</td>\n",
       "      <td>[[0. 0. 0.] Ga, [0.         2.87509131 2.87509...</td>\n",
       "    </tr>\n",
       "  </tbody>\n",
       "</table>\n",
       "</div>"
      ],
      "text/plain": [
       "  Material                                          Structure\n",
       "0     GaAs  [[0. 0. 0.] Ga, [0.         2.87509131 2.87509..."
      ]
     },
     "execution_count": 5,
     "metadata": {},
     "output_type": "execute_result"
    }
   ],
   "source": [
    "from pymatgen.io.vasp.inputs import Poscar\n",
    "from pymatgen.core import Structure\n",
    "\n",
    "STRUCTURE_DIR = '/Users/AlexDo/PycharmProjects/VASP_tools'\n",
    "\n",
    "f = Poscar.from_file(STRUCTURE_DIR+'/'+'GaAs_POSCAR.POSCAR.vasp')\n",
    "elements = f.site_symbols\n",
    "structure = f.structure\n",
    "\n",
    "df = pd.DataFrame()\n",
    "\n",
    "d = {'Material': 'GaAs', 'Structure': [structure]}\n",
    "\n",
    "df = pd.DataFrame(d)\n",
    "df"
   ]
  },
  {
   "cell_type": "code",
   "execution_count": 6,
   "metadata": {},
   "outputs": [
    {
     "data": {
      "text/plain": [
       "'AverageBondAngle'"
      ]
     },
     "execution_count": 6,
     "metadata": {},
     "output_type": "execute_result"
    }
   ],
   "source": [
    "inspect.getmembers(st, inspect.isclass)[0][0]\n"
   ]
  },
  {
   "cell_type": "code",
   "execution_count": 9,
   "metadata": {},
   "outputs": [
    {
     "data": {
      "text/plain": [
       "'Matminer'"
      ]
     },
     "execution_count": 9,
     "metadata": {},
     "output_type": "execute_result"
    }
   ],
   "source": [
    "matminer = Matminer('DensityFeatures', 'Structure')\n",
    "matminer.__class__.__name__"
   ]
  },
  {
   "cell_type": "code",
   "execution_count": 10,
   "metadata": {},
   "outputs": [
    {
     "name": "stdout",
     "output_type": "stream",
     "text": [
      "mastml dir:  ['/Users/AlexDo/PycharmProjects/MAST-ML/mastml']\n"
     ]
    },
    {
     "data": {
      "text/html": [
       "<div>\n",
       "<style scoped>\n",
       "    .dataframe tbody tr th:only-of-type {\n",
       "        vertical-align: middle;\n",
       "    }\n",
       "\n",
       "    .dataframe tbody tr th {\n",
       "        vertical-align: top;\n",
       "    }\n",
       "\n",
       "    .dataframe thead th {\n",
       "        text-align: right;\n",
       "    }\n",
       "</style>\n",
       "<table border=\"1\" class=\"dataframe\">\n",
       "  <thead>\n",
       "    <tr style=\"text-align: right;\">\n",
       "      <th></th>\n",
       "      <th>Material</th>\n",
       "      <th>Structure</th>\n",
       "    </tr>\n",
       "  </thead>\n",
       "  <tbody>\n",
       "    <tr>\n",
       "      <th>0</th>\n",
       "      <td>GaAs</td>\n",
       "      <td>[[0. 0. 0.] Ga, [0.         2.87509131 2.87509...</td>\n",
       "    </tr>\n",
       "  </tbody>\n",
       "</table>\n",
       "</div>"
      ],
      "text/plain": [
       "  Material                                          Structure\n",
       "0     GaAs  [[0. 0. 0.] Ga, [0.         2.87509131 2.87509..."
      ]
     },
     "execution_count": 10,
     "metadata": {},
     "output_type": "execute_result"
    }
   ],
   "source": [
    "import argparse\n",
    "import inspect\n",
    "import os\n",
    "import shutil\n",
    "import logging\n",
    "import warnings\n",
    "from datetime import datetime\n",
    "from collections import OrderedDict\n",
    "from os.path import join # We use join tons\n",
    "from functools import reduce\n",
    "\n",
    "import numpy as np\n",
    "import pandas as pd\n",
    "from sklearn.externals import joblib\n",
    "from sklearn.exceptions import UndefinedMetricWarning\n",
    "from sklearn.model_selection import LeaveOneGroupOut\n",
    "from sklearn.metrics import make_scorer\n",
    "\n",
    "from mastml import conf_parser, data_loader, html_helper, plot_helper, utils, learning_curve, data_cleaner, metrics\n",
    "from mastml.legos import (data_splitters, feature_generators, feature_normalizers,\n",
    "                    feature_selectors, model_finder, util_legos, randomizers, hyper_opt)\n",
    "from mastml.legos import clusterers as legos_clusterers\n",
    "\n",
    "log = logging.getLogger('mastml')\n",
    "\n",
    "y = None\n",
    "df1 = matminer.fit_transform(df, y)\n",
    "\n",
    "df1"
   ]
  },
  {
   "cell_type": "code",
   "execution_count": 15,
   "metadata": {},
   "outputs": [
    {
     "data": {
      "text/html": [
       "<div>\n",
       "<style scoped>\n",
       "    .dataframe tbody tr th:only-of-type {\n",
       "        vertical-align: middle;\n",
       "    }\n",
       "\n",
       "    .dataframe tbody tr th {\n",
       "        vertical-align: top;\n",
       "    }\n",
       "\n",
       "    .dataframe thead th {\n",
       "        text-align: right;\n",
       "    }\n",
       "</style>\n",
       "<table border=\"1\" class=\"dataframe\">\n",
       "  <thead>\n",
       "    <tr style=\"text-align: right;\">\n",
       "      <th></th>\n",
       "      <th>Material</th>\n",
       "      <th>Structure</th>\n",
       "    </tr>\n",
       "  </thead>\n",
       "  <tbody>\n",
       "    <tr>\n",
       "      <th>0</th>\n",
       "      <td>GaAs</td>\n",
       "      <td>[[0. 0. 0.] Ga, [0.         2.87509131 2.87509...</td>\n",
       "    </tr>\n",
       "  </tbody>\n",
       "</table>\n",
       "</div>"
      ],
      "text/plain": [
       "  Material                                          Structure\n",
       "0     GaAs  [[0. 0. 0.] Ga, [0.         2.87509131 2.87509..."
      ]
     },
     "execution_count": 15,
     "metadata": {},
     "output_type": "execute_result"
    }
   ],
   "source": [
    "matminer.fit_transform(df, y)"
   ]
  },
  {
   "cell_type": "code",
   "execution_count": 75,
   "metadata": {},
   "outputs": [
    {
     "data": {
      "text/html": [
       "<div>\n",
       "<style scoped>\n",
       "    .dataframe tbody tr th:only-of-type {\n",
       "        vertical-align: middle;\n",
       "    }\n",
       "\n",
       "    .dataframe tbody tr th {\n",
       "        vertical-align: top;\n",
       "    }\n",
       "\n",
       "    .dataframe thead th {\n",
       "        text-align: right;\n",
       "    }\n",
       "</style>\n",
       "<table border=\"1\" class=\"dataframe\">\n",
       "  <thead>\n",
       "    <tr style=\"text-align: right;\">\n",
       "      <th></th>\n",
       "      <th>Material</th>\n",
       "      <th>Structure</th>\n",
       "      <th>spacegroup_num</th>\n",
       "      <th>crystal_system</th>\n",
       "      <th>crystal_system_int</th>\n",
       "      <th>is_centrosymmetric</th>\n",
       "      <th>dimensionality</th>\n",
       "    </tr>\n",
       "  </thead>\n",
       "  <tbody>\n",
       "    <tr>\n",
       "      <th>0</th>\n",
       "      <td>GaAs</td>\n",
       "      <td>[[0. 0. 0.] Ga, [0.         2.87509131 2.87509...</td>\n",
       "      <td>216</td>\n",
       "      <td>cubic</td>\n",
       "      <td>1</td>\n",
       "      <td>False</td>\n",
       "      <td>3</td>\n",
       "    </tr>\n",
       "  </tbody>\n",
       "</table>\n",
       "</div>"
      ],
      "text/plain": [
       "  Material                                          Structure  spacegroup_num  \\\n",
       "0     GaAs  [[0. 0. 0.] Ga, [0.         2.87509131 2.87509...             216   \n",
       "\n",
       "  crystal_system  crystal_system_int  is_centrosymmetric  dimensionality  \n",
       "0          cubic                   1               False               3  "
      ]
     },
     "execution_count": 75,
     "metadata": {},
     "output_type": "execute_result"
    }
   ],
   "source": [
    "matminer('ElectronicRadialDistribution').fit_transform(df, y)"
   ]
  },
  {
   "cell_type": "code",
   "execution_count": 76,
   "metadata": {},
   "outputs": [
    {
     "data": {
      "application/vnd.jupyter.widget-view+json": {
       "model_id": "ec9d7c77451043f691650603580cabed",
       "version_major": 2,
       "version_minor": 0
      },
      "text/plain": [
       "HBox(children=(IntProgress(value=0, description='JarvisCFID', max=1, style=ProgressStyle(description_width='in…"
      ]
     },
     "metadata": {},
     "output_type": "display_data"
    },
    {
     "name": "stdout",
     "output_type": "stream",
     "text": [
      "\n"
     ]
    },
    {
     "data": {
      "text/html": [
       "<div>\n",
       "<style scoped>\n",
       "    .dataframe tbody tr th:only-of-type {\n",
       "        vertical-align: middle;\n",
       "    }\n",
       "\n",
       "    .dataframe tbody tr th {\n",
       "        vertical-align: top;\n",
       "    }\n",
       "\n",
       "    .dataframe thead th {\n",
       "        text-align: right;\n",
       "    }\n",
       "</style>\n",
       "<table border=\"1\" class=\"dataframe\">\n",
       "  <thead>\n",
       "    <tr style=\"text-align: right;\">\n",
       "      <th></th>\n",
       "      <th>Material</th>\n",
       "      <th>Structure</th>\n",
       "      <th>spacegroup_num</th>\n",
       "      <th>crystal_system</th>\n",
       "      <th>crystal_system_int</th>\n",
       "      <th>is_centrosymmetric</th>\n",
       "      <th>dimensionality</th>\n",
       "      <th>jml_bp_mult_atom_rad</th>\n",
       "      <th>jml_hfus_add_bp</th>\n",
       "      <th>jml_elec_aff_mult_voro_coord</th>\n",
       "      <th>...</th>\n",
       "      <th>jml_nn_91</th>\n",
       "      <th>jml_nn_92</th>\n",
       "      <th>jml_nn_93</th>\n",
       "      <th>jml_nn_94</th>\n",
       "      <th>jml_nn_95</th>\n",
       "      <th>jml_nn_96</th>\n",
       "      <th>jml_nn_97</th>\n",
       "      <th>jml_nn_98</th>\n",
       "      <th>jml_nn_99</th>\n",
       "      <th>jml_nn_100</th>\n",
       "    </tr>\n",
       "  </thead>\n",
       "  <tbody>\n",
       "    <tr>\n",
       "      <th>0</th>\n",
       "      <td>GaAs</td>\n",
       "      <td>[[0. 0. 0.] Ga, [0.         2.87509131 2.87509...</td>\n",
       "      <td>216</td>\n",
       "      <td>cubic</td>\n",
       "      <td>1</td>\n",
       "      <td>False</td>\n",
       "      <td>3</td>\n",
       "      <td>2120.075</td>\n",
       "      <td>1682.150125</td>\n",
       "      <td>2.6725</td>\n",
       "      <td>...</td>\n",
       "      <td>24.0</td>\n",
       "      <td>0.0</td>\n",
       "      <td>0.0</td>\n",
       "      <td>0.0</td>\n",
       "      <td>12.0</td>\n",
       "      <td>0.0</td>\n",
       "      <td>0.0</td>\n",
       "      <td>0.0</td>\n",
       "      <td>0.0</td>\n",
       "      <td>8.0</td>\n",
       "    </tr>\n",
       "  </tbody>\n",
       "</table>\n",
       "<p>1 rows × 1564 columns</p>\n",
       "</div>"
      ],
      "text/plain": [
       "  Material                                          Structure  spacegroup_num  \\\n",
       "0     GaAs  [[0. 0. 0.] Ga, [0.         2.87509131 2.87509...             216   \n",
       "\n",
       "  crystal_system  crystal_system_int  is_centrosymmetric  dimensionality  \\\n",
       "0          cubic                   1               False               3   \n",
       "\n",
       "   jml_bp_mult_atom_rad  jml_hfus_add_bp  jml_elec_aff_mult_voro_coord  \\\n",
       "0              2120.075      1682.150125                        2.6725   \n",
       "\n",
       "      ...      jml_nn_91  jml_nn_92  jml_nn_93  jml_nn_94  jml_nn_95  \\\n",
       "0     ...           24.0        0.0        0.0        0.0       12.0   \n",
       "\n",
       "   jml_nn_96  jml_nn_97  jml_nn_98  jml_nn_99  jml_nn_100  \n",
       "0        0.0        0.0        0.0        0.0         8.0  \n",
       "\n",
       "[1 rows x 1564 columns]"
      ]
     },
     "execution_count": 76,
     "metadata": {},
     "output_type": "execute_result"
    }
   ],
   "source": [
    "matminer('JarvisCFID').fit_transform(df, y)"
   ]
  },
  {
   "cell_type": "code",
   "execution_count": 77,
   "metadata": {},
   "outputs": [
    {
     "data": {
      "application/vnd.jupyter.widget-view+json": {
       "model_id": "4f9e1cb023f24e4d9d613b12bc56851d",
       "version_major": 2,
       "version_minor": 0
      },
      "text/plain": [
       "HBox(children=(IntProgress(value=0, description='DensityFeatures', max=1, style=ProgressStyle(description_widt…"
      ]
     },
     "metadata": {},
     "output_type": "display_data"
    },
    {
     "name": "stdout",
     "output_type": "stream",
     "text": [
      "\n"
     ]
    },
    {
     "data": {
      "text/html": [
       "<div>\n",
       "<style scoped>\n",
       "    .dataframe tbody tr th:only-of-type {\n",
       "        vertical-align: middle;\n",
       "    }\n",
       "\n",
       "    .dataframe tbody tr th {\n",
       "        vertical-align: top;\n",
       "    }\n",
       "\n",
       "    .dataframe thead th {\n",
       "        text-align: right;\n",
       "    }\n",
       "</style>\n",
       "<table border=\"1\" class=\"dataframe\">\n",
       "  <thead>\n",
       "    <tr style=\"text-align: right;\">\n",
       "      <th></th>\n",
       "      <th>Material</th>\n",
       "      <th>Structure</th>\n",
       "      <th>spacegroup_num</th>\n",
       "      <th>crystal_system</th>\n",
       "      <th>crystal_system_int</th>\n",
       "      <th>is_centrosymmetric</th>\n",
       "      <th>dimensionality</th>\n",
       "      <th>jml_bp_mult_atom_rad</th>\n",
       "      <th>jml_hfus_add_bp</th>\n",
       "      <th>jml_elec_aff_mult_voro_coord</th>\n",
       "      <th>...</th>\n",
       "      <th>jml_nn_94</th>\n",
       "      <th>jml_nn_95</th>\n",
       "      <th>jml_nn_96</th>\n",
       "      <th>jml_nn_97</th>\n",
       "      <th>jml_nn_98</th>\n",
       "      <th>jml_nn_99</th>\n",
       "      <th>jml_nn_100</th>\n",
       "      <th>density</th>\n",
       "      <th>vpa</th>\n",
       "      <th>packing fraction</th>\n",
       "    </tr>\n",
       "  </thead>\n",
       "  <tbody>\n",
       "    <tr>\n",
       "      <th>0</th>\n",
       "      <td>GaAs</td>\n",
       "      <td>[[0. 0. 0.] Ga, [0.         2.87509131 2.87509...</td>\n",
       "      <td>216</td>\n",
       "      <td>cubic</td>\n",
       "      <td>1</td>\n",
       "      <td>False</td>\n",
       "      <td>3</td>\n",
       "      <td>2120.075</td>\n",
       "      <td>1682.150125</td>\n",
       "      <td>2.6725</td>\n",
       "      <td>...</td>\n",
       "      <td>0.0</td>\n",
       "      <td>12.0</td>\n",
       "      <td>0.0</td>\n",
       "      <td>0.0</td>\n",
       "      <td>0.0</td>\n",
       "      <td>0.0</td>\n",
       "      <td>8.0</td>\n",
       "      <td>5.053199</td>\n",
       "      <td>23.765936</td>\n",
       "      <td>0.327641</td>\n",
       "    </tr>\n",
       "  </tbody>\n",
       "</table>\n",
       "<p>1 rows × 1567 columns</p>\n",
       "</div>"
      ],
      "text/plain": [
       "  Material                                          Structure  spacegroup_num  \\\n",
       "0     GaAs  [[0. 0. 0.] Ga, [0.         2.87509131 2.87509...             216   \n",
       "\n",
       "  crystal_system  crystal_system_int  is_centrosymmetric  dimensionality  \\\n",
       "0          cubic                   1               False               3   \n",
       "\n",
       "   jml_bp_mult_atom_rad  jml_hfus_add_bp  jml_elec_aff_mult_voro_coord  \\\n",
       "0              2120.075      1682.150125                        2.6725   \n",
       "\n",
       "         ...         jml_nn_94  jml_nn_95  jml_nn_96  jml_nn_97  jml_nn_98  \\\n",
       "0        ...               0.0       12.0        0.0        0.0        0.0   \n",
       "\n",
       "   jml_nn_99  jml_nn_100   density        vpa  packing fraction  \n",
       "0        0.0         8.0  5.053199  23.765936          0.327641  \n",
       "\n",
       "[1 rows x 1567 columns]"
      ]
     },
     "execution_count": 77,
     "metadata": {},
     "output_type": "execute_result"
    }
   ],
   "source": [
    "matminer('DensityFeatures').fit_transform(df, y)"
   ]
  },
  {
   "cell_type": "code",
   "execution_count": 96,
   "metadata": {},
   "outputs": [
    {
     "data": {
      "text/html": [
       "<div>\n",
       "<style scoped>\n",
       "    .dataframe tbody tr th:only-of-type {\n",
       "        vertical-align: middle;\n",
       "    }\n",
       "\n",
       "    .dataframe tbody tr th {\n",
       "        vertical-align: top;\n",
       "    }\n",
       "\n",
       "    .dataframe thead th {\n",
       "        text-align: right;\n",
       "    }\n",
       "</style>\n",
       "<table border=\"1\" class=\"dataframe\">\n",
       "  <thead>\n",
       "    <tr style=\"text-align: right;\">\n",
       "      <th></th>\n",
       "      <th>Material</th>\n",
       "      <th>Structure</th>\n",
       "      <th>spacegroup_num</th>\n",
       "      <th>crystal_system</th>\n",
       "      <th>crystal_system_int</th>\n",
       "      <th>is_centrosymmetric</th>\n",
       "      <th>dimensionality</th>\n",
       "      <th>jml_bp_mult_atom_rad</th>\n",
       "      <th>jml_hfus_add_bp</th>\n",
       "      <th>jml_elec_aff_mult_voro_coord</th>\n",
       "      <th>...</th>\n",
       "      <th>xrd_118</th>\n",
       "      <th>xrd_119</th>\n",
       "      <th>xrd_120</th>\n",
       "      <th>xrd_121</th>\n",
       "      <th>xrd_122</th>\n",
       "      <th>xrd_123</th>\n",
       "      <th>xrd_124</th>\n",
       "      <th>xrd_125</th>\n",
       "      <th>xrd_126</th>\n",
       "      <th>xrd_127</th>\n",
       "    </tr>\n",
       "  </thead>\n",
       "  <tbody>\n",
       "    <tr>\n",
       "      <th>0</th>\n",
       "      <td>GaAs</td>\n",
       "      <td>[[0. 0. 0.] Ga, [0.         2.87509131 2.87509...</td>\n",
       "      <td>216</td>\n",
       "      <td>cubic</td>\n",
       "      <td>1</td>\n",
       "      <td>False</td>\n",
       "      <td>3</td>\n",
       "      <td>2120.075</td>\n",
       "      <td>1682.150125</td>\n",
       "      <td>2.6725</td>\n",
       "      <td>...</td>\n",
       "      <td>0.005027</td>\n",
       "      <td>0.001625</td>\n",
       "      <td>0.000972</td>\n",
       "      <td>0.002412</td>\n",
       "      <td>0.005063</td>\n",
       "      <td>0.006674</td>\n",
       "      <td>0.00546</td>\n",
       "      <td>0.00277</td>\n",
       "      <td>0.000872</td>\n",
       "      <td>0.00017</td>\n",
       "    </tr>\n",
       "  </tbody>\n",
       "</table>\n",
       "<p>1 rows × 1781 columns</p>\n",
       "</div>"
      ],
      "text/plain": [
       "  Material                                          Structure  spacegroup_num  \\\n",
       "0     GaAs  [[0. 0. 0.] Ga, [0.         2.87509131 2.87509...             216   \n",
       "\n",
       "  crystal_system  crystal_system_int  is_centrosymmetric  dimensionality  \\\n",
       "0          cubic                   1               False               3   \n",
       "\n",
       "   jml_bp_mult_atom_rad  jml_hfus_add_bp  jml_elec_aff_mult_voro_coord  \\\n",
       "0              2120.075      1682.150125                        2.6725   \n",
       "\n",
       "    ...      xrd_118   xrd_119   xrd_120   xrd_121   xrd_122   xrd_123  \\\n",
       "0   ...     0.005027  0.001625  0.000972  0.002412  0.005063  0.006674   \n",
       "\n",
       "   xrd_124  xrd_125   xrd_126  xrd_127  \n",
       "0  0.00546  0.00277  0.000872  0.00017  \n",
       "\n",
       "[1 rows x 1781 columns]"
      ]
     },
     "execution_count": 96,
     "metadata": {},
     "output_type": "execute_result"
    }
   ],
   "source": [
    "matminer('SOAP').fit_transform(df, y)"
   ]
  },
  {
   "cell_type": "code",
   "execution_count": 1,
   "metadata": {},
   "outputs": [
    {
     "data": {
      "text/plain": [
       "['Jar']"
      ]
     },
     "execution_count": 1,
     "metadata": {},
     "output_type": "execute_result"
    }
   ],
   "source": [
    "ht = 'Jar'\n",
    "\n",
    "ht.split()"
   ]
  },
  {
   "cell_type": "code",
   "execution_count": 2,
   "metadata": {},
   "outputs": [
    {
     "data": {
      "text/plain": [
       "['Jar']"
      ]
     },
     "execution_count": 2,
     "metadata": {},
     "output_type": "execute_result"
    }
   ],
   "source": [
    "ht = 'Jar'\n",
    "\n",
    "ht.split(',')"
   ]
  },
  {
   "cell_type": "code",
   "execution_count": 4,
   "metadata": {},
   "outputs": [
    {
     "data": {
      "text/plain": [
       "['Jar', 'Bar', 'Tar', 'Car', 'Far']"
      ]
     },
     "execution_count": 4,
     "metadata": {},
     "output_type": "execute_result"
    }
   ],
   "source": [
    "ht = 'Jar, Bar, Tar, Car, Far'\n",
    "\n",
    "ht.split(', ')"
   ]
  },
  {
   "cell_type": "code",
   "execution_count": null,
   "metadata": {},
   "outputs": [],
   "source": []
  }
 ],
 "metadata": {
  "kernelspec": {
   "display_name": "Python 3",
   "language": "python",
   "name": "python3"
  },
  "language_info": {
   "codemirror_mode": {
    "name": "ipython",
    "version": 3
   },
   "file_extension": ".py",
   "mimetype": "text/x-python",
   "name": "python",
   "nbconvert_exporter": "python",
   "pygments_lexer": "ipython3",
   "version": "3.6.8"
  }
 },
 "nbformat": 4,
 "nbformat_minor": 2
}
