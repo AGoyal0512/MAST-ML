{
 "cells": [
  {
   "cell_type": "code",
   "execution_count": 3,
   "metadata": {},
   "outputs": [
    {
     "name": "stdout",
     "output_type": "stream",
     "text": [
      "mastml dir:  ['/Users/AlexDo/PycharmProjects/MAST-ML/mastml']\n"
     ]
    }
   ],
   "source": [
    "\"\"\"\n",
    "This module contains a collection of classes for generating input features to fit machine learning models to.\n",
    "\"\"\"\n",
    "\n",
    "import multiprocessing\n",
    "import os\n",
    "import logging\n",
    "\n",
    "import numpy as np\n",
    "import pandas as pd\n",
    "\n",
    "from sklearn.base import BaseEstimator, TransformerMixin\n",
    "from sklearn.preprocessing import PolynomialFeatures as SklearnPolynomialFeatures\n",
    "\n",
    "import pymatgen\n",
    "from pymatgen import Element, Composition\n",
    "from pymatgen.ext.matproj import MPRester\n",
    "#from citrination_client import CitrinationClient, PifQuery, SystemQuery, ChemicalFieldQuery, ChemicalFilter\n",
    "# trouble? try: `pip install citrination_client==\"2.1.0\"`\n",
    "\n",
    "# locate path to directory containing AtomicNumber.table, AtomicRadii.table AtomicVolume.table, etc\n",
    "# (needs to do it the hard way becuase python -m sets cwd to wherever python is ran from)\n",
    "\n",
    "# is this how you do it? Any other imports needed for this module then?\n",
    "import inspect # used to get a dictionary of classes in a module\n",
    "from matminer.featurizers import structure\n",
    "\n",
    "\n",
    "import mastml\n",
    "from mastml import utils\n",
    "log = logging.getLogger('mastml')\n",
    "print('mastml dir: ', mastml.__path__)\n",
    "MAGPIE_DATA_PATH = os.path.join(mastml.__path__[0], '../magpie/')\n",
    "\n",
    "\n",
    "class matminer (BaseEstimator, TransformerMixin):\n",
    "    def __init__(self, dataframe, structural_feature):\n",
    "        # assuming dataframe is coming in with a column 'Structure' with coords.\n",
    "        # where do I need to raise errors\n",
    "        self.dataframe = dataframe\n",
    "        feature = getattr(structure, structural_feature) # get the name of class\n",
    "        self.structural_feature = feature()\n",
    "\n",
    "        # instantiate structure feature\n",
    "\n",
    "    def fit(self):\n",
    "        return self\n",
    "\n",
    "    def transform(self, df, y=None):\n",
    "        sf = self.structural_feature\n",
    "        gen_df = pd.DataFrame\n",
    "\n",
    "        # any possible errors i need to raise?\n",
    "        for feature_name in inspect.getmembers(structure,\n",
    "                                               inspect.isclass):  # will get list of all classes in structure module\n",
    "            if (feature_name[0] is sf):\n",
    "                gen_df = sf.fit_featurize_dataframe(df, 'Structure')  # fit_featurize_dataframe() works for all\n",
    "\n",
    "        return gen_df  # I think it should return generated dataframe to concatenate\n",
    "    \n",
    "name_to_constructor = {\n",
    "    'matminer':matminer\n",
    "}"
   ]
  },
  {
   "cell_type": "code",
   "execution_count": null,
   "metadata": {},
   "outputs": [],
   "source": []
  }
 ],
 "metadata": {
  "kernelspec": {
   "display_name": "Python 3",
   "language": "python",
   "name": "python3"
  },
  "language_info": {
   "codemirror_mode": {
    "name": "ipython",
    "version": 3
   },
   "file_extension": ".py",
   "mimetype": "text/x-python",
   "name": "python",
   "nbconvert_exporter": "python",
   "pygments_lexer": "ipython3",
   "version": "3.6.8"
  }
 },
 "nbformat": 4,
 "nbformat_minor": 2
}
