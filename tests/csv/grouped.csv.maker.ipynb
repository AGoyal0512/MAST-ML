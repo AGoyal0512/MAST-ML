{
 "cells": [
  {
   "cell_type": "code",
   "execution_count": 1,
   "metadata": {},
   "outputs": [],
   "source": [
    "import numpy as np\n",
    "import pandas as pd"
   ]
  },
  {
   "cell_type": "code",
   "execution_count": 2,
   "metadata": {},
   "outputs": [],
   "source": [
    "groupsize = [100, 20, 10]\n",
    "n_rows = sum(groupsize)"
   ]
  },
  {
   "cell_type": "code",
   "execution_count": 3,
   "metadata": {},
   "outputs": [],
   "source": [
    "a1 = np.random.random(groupsize[0])\n",
    "b1 = np.random.random(groupsize[0])\n",
    "c1 = np.random.random(groupsize[0])\n",
    "y1 = a1 * 3 + b1 * 2 + c1 * 0.5 + 1\n",
    "\n",
    "a2 = 10*np.random.random(groupsize[1])\n",
    "b2 = 10*np.random.random(groupsize[1])\n",
    "c2 = 10*np.random.random(groupsize[1])\n",
    "y2 = a2 * 5 + b2 * 1 + c2 * 0.3 + 2\n",
    "\n",
    "a3 = -np.random.random(groupsize[2])\n",
    "b3 = -np.random.random(groupsize[2])\n",
    "c3 = -np.random.random(groupsize[2])\n",
    "y3 = a3 * 7 + a3 * 2 + a3 * 0.2 + 3"
   ]
  },
  {
   "cell_type": "code",
   "execution_count": 4,
   "metadata": {},
   "outputs": [],
   "source": [
    "a = np.around(np.hstack((a1, a2, a3)), 3)\n",
    "b = np.around(np.hstack((b1, b2, b3)), 3)\n",
    "c = np.around(np.hstack((c1, c2, c3)), 3)\n",
    "y = np.around(np.hstack((y1, y2, y3)), 3)\n",
    "groups = np.array(sum(((name,) * n for name, n in zip(('foo', 'bar', 'rosco'), groupsize)), tuple()))"
   ]
  },
  {
   "cell_type": "code",
   "execution_count": 5,
   "metadata": {},
   "outputs": [
    {
     "data": {
      "text/html": [
       "<div>\n",
       "<style scoped>\n",
       "    .dataframe tbody tr th:only-of-type {\n",
       "        vertical-align: middle;\n",
       "    }\n",
       "\n",
       "    .dataframe tbody tr th {\n",
       "        vertical-align: top;\n",
       "    }\n",
       "\n",
       "    .dataframe thead th {\n",
       "        text-align: right;\n",
       "    }\n",
       "</style>\n",
       "<table border=\"1\" class=\"dataframe\">\n",
       "  <thead>\n",
       "    <tr style=\"text-align: right;\">\n",
       "      <th></th>\n",
       "      <th>a</th>\n",
       "      <th>b</th>\n",
       "      <th>c</th>\n",
       "      <th>grouping</th>\n",
       "      <th>y</th>\n",
       "    </tr>\n",
       "  </thead>\n",
       "  <tbody>\n",
       "    <tr>\n",
       "      <th>0</th>\n",
       "      <td>0.366</td>\n",
       "      <td>0.194</td>\n",
       "      <td>0.758</td>\n",
       "      <td>foo</td>\n",
       "      <td>2.865</td>\n",
       "    </tr>\n",
       "    <tr>\n",
       "      <th>1</th>\n",
       "      <td>0.046</td>\n",
       "      <td>0.833</td>\n",
       "      <td>0.774</td>\n",
       "      <td>foo</td>\n",
       "      <td>3.193</td>\n",
       "    </tr>\n",
       "    <tr>\n",
       "      <th>2</th>\n",
       "      <td>0.355</td>\n",
       "      <td>0.463</td>\n",
       "      <td>0.372</td>\n",
       "      <td>foo</td>\n",
       "      <td>3.177</td>\n",
       "    </tr>\n",
       "    <tr>\n",
       "      <th>3</th>\n",
       "      <td>0.642</td>\n",
       "      <td>0.608</td>\n",
       "      <td>0.038</td>\n",
       "      <td>foo</td>\n",
       "      <td>4.16</td>\n",
       "    </tr>\n",
       "    <tr>\n",
       "      <th>4</th>\n",
       "      <td>0.004</td>\n",
       "      <td>0.587</td>\n",
       "      <td>0.168</td>\n",
       "      <td>foo</td>\n",
       "      <td>2.271</td>\n",
       "    </tr>\n",
       "  </tbody>\n",
       "</table>\n",
       "</div>"
      ],
      "text/plain": [
       "       a      b      c grouping      y\n",
       "0  0.366  0.194  0.758      foo  2.865\n",
       "1  0.046  0.833  0.774      foo  3.193\n",
       "2  0.355  0.463  0.372      foo  3.177\n",
       "3  0.642  0.608  0.038      foo   4.16\n",
       "4  0.004  0.587  0.168      foo  2.271"
      ]
     },
     "execution_count": 5,
     "metadata": {},
     "output_type": "execute_result"
    }
   ],
   "source": [
    "df = pd.DataFrame(np.column_stack((a, b, c, groups, y)), columns=('a', 'b', 'c', 'grouping', 'y'))\n",
    "df.head()"
   ]
  },
  {
   "cell_type": "code",
   "execution_count": 6,
   "metadata": {},
   "outputs": [],
   "source": [
    "df.to_csv('grouping.csv', index=None)"
   ]
  }
 ],
 "metadata": {
  "kernelspec": {
   "display_name": "Python 3",
   "language": "python",
   "name": "python3"
  },
  "language_info": {
   "codemirror_mode": {
    "name": "ipython",
    "version": 3
   },
   "file_extension": ".py",
   "mimetype": "text/x-python",
   "name": "python",
   "nbconvert_exporter": "python",
   "pygments_lexer": "ipython3",
   "version": "3.6.5"
  }
 },
 "nbformat": 4,
 "nbformat_minor": 2
}
