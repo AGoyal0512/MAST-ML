{
 "cells": [
  {
   "cell_type": "code",
   "execution_count": 1,
   "metadata": {},
   "outputs": [],
   "source": [
    "import numpy as np\n",
    "import pandas as pd\n",
    "import random"
   ]
  },
  {
   "cell_type": "code",
   "execution_count": 2,
   "metadata": {},
   "outputs": [],
   "source": [
    "groupsize = [100, 70, 50]\n",
    "n_rows = sum(groupsize)"
   ]
  },
  {
   "cell_type": "code",
   "execution_count": 3,
   "metadata": {},
   "outputs": [],
   "source": [
    "a1 = np.random.random(groupsize[0])\n",
    "b1 = np.random.random(groupsize[0])\n",
    "c1 = np.random.random(groupsize[0])\n",
    "y1 = a1 * 3 + b1 * 2 + c1 * 0.5 + 1\n",
    "\n",
    "a2 = 10*np.random.random(groupsize[1])\n",
    "b2 = 10*np.random.random(groupsize[1])\n",
    "c2 = 10*np.random.random(groupsize[1])\n",
    "y2 = a2 * 5 + b2 * 1 + c2 * 0.3 + 2\n",
    "\n",
    "a3 = -10*np.random.random(groupsize[2]) - 5\n",
    "b3 = -10*np.random.random(groupsize[2]) - 5\n",
    "c3 = -10+np.random.random(groupsize[2]) - 5\n",
    "y3 = a3 * 7 + a3 * 2 + a3 * 0.2 + 3"
   ]
  },
  {
   "cell_type": "code",
   "execution_count": 4,
   "metadata": {},
   "outputs": [
    {
     "data": {
      "text/plain": [
       "['Co4O3N2', 'Co3N4', 'C', 'Pb2', 'C4', 'Pb3', 'Pb2', 'Pb2', 'C2', 'O2Fe']"
      ]
     },
     "execution_count": 4,
     "metadata": {},
     "output_type": "execute_result"
    }
   ],
   "source": [
    "base_elements = ('Fe', 'O', 'C', 'Co', 'N', 'H', 'Pb')\n",
    "def random_compound():\n",
    "    compound = \"\"\n",
    "    elements = list(base_elements) # take a copy\n",
    "    random.shuffle(elements)\n",
    "    for element in elements:\n",
    "        compound += element + (lambda x: str(x) if x > 1 else '')(random.randint(1,4))\n",
    "        if random.random() > 0.3:\n",
    "            break\n",
    "    return compound\n",
    "    \n",
    "[random_compound() for _ in range(10)]"
   ]
  },
  {
   "cell_type": "code",
   "execution_count": 6,
   "metadata": {},
   "outputs": [],
   "source": [
    "a = np.around(np.hstack((a1, a2, a3)), 3)\n",
    "b = np.around(np.hstack((b1, b2, b3)), 3)\n",
    "c = np.around(np.hstack((c1, c2, c3)), 3)\n",
    "y = np.around(np.hstack((y1, y2, y3)), 3)\n",
    "groups = np.array(sum(((name,) * n for name, n in zip(('foo', 'bar', 'rosco'), groupsize)), tuple()))\n",
    "composition = np.array([random_compound() if g=='foo' else random_compound() + 'Au' for g in groups])"
   ]
  },
  {
   "cell_type": "code",
   "execution_count": 9,
   "metadata": {},
   "outputs": [
    {
     "data": {
      "text/html": [
       "<div>\n",
       "<style scoped>\n",
       "    .dataframe tbody tr th:only-of-type {\n",
       "        vertical-align: middle;\n",
       "    }\n",
       "\n",
       "    .dataframe tbody tr th {\n",
       "        vertical-align: top;\n",
       "    }\n",
       "\n",
       "    .dataframe thead th {\n",
       "        text-align: right;\n",
       "    }\n",
       "</style>\n",
       "<table border=\"1\" class=\"dataframe\">\n",
       "  <thead>\n",
       "    <tr style=\"text-align: right;\">\n",
       "      <th></th>\n",
       "      <th>a</th>\n",
       "      <th>b</th>\n",
       "      <th>c</th>\n",
       "      <th>grouping</th>\n",
       "      <th>composition</th>\n",
       "      <th>y</th>\n",
       "    </tr>\n",
       "  </thead>\n",
       "  <tbody>\n",
       "    <tr>\n",
       "      <th>0</th>\n",
       "      <td>0.743</td>\n",
       "      <td>0.071</td>\n",
       "      <td>0.308</td>\n",
       "      <td>foo</td>\n",
       "      <td>O3Pb2</td>\n",
       "      <td>3.524</td>\n",
       "    </tr>\n",
       "    <tr>\n",
       "      <th>1</th>\n",
       "      <td>0.707</td>\n",
       "      <td>0.236</td>\n",
       "      <td>0.758</td>\n",
       "      <td>foo</td>\n",
       "      <td>N</td>\n",
       "      <td>3.973</td>\n",
       "    </tr>\n",
       "    <tr>\n",
       "      <th>2</th>\n",
       "      <td>0.644</td>\n",
       "      <td>0.288</td>\n",
       "      <td>0.78</td>\n",
       "      <td>foo</td>\n",
       "      <td>Pb3</td>\n",
       "      <td>3.896</td>\n",
       "    </tr>\n",
       "    <tr>\n",
       "      <th>3</th>\n",
       "      <td>0.696</td>\n",
       "      <td>0.346</td>\n",
       "      <td>0.03</td>\n",
       "      <td>foo</td>\n",
       "      <td>Fe3N2</td>\n",
       "      <td>3.795</td>\n",
       "    </tr>\n",
       "    <tr>\n",
       "      <th>4</th>\n",
       "      <td>0.477</td>\n",
       "      <td>0.802</td>\n",
       "      <td>0.296</td>\n",
       "      <td>foo</td>\n",
       "      <td>N2</td>\n",
       "      <td>4.184</td>\n",
       "    </tr>\n",
       "  </tbody>\n",
       "</table>\n",
       "</div>"
      ],
      "text/plain": [
       "       a      b      c grouping composition      y\n",
       "0  0.743  0.071  0.308      foo       O3Pb2  3.524\n",
       "1  0.707  0.236  0.758      foo           N  3.973\n",
       "2  0.644  0.288   0.78      foo         Pb3  3.896\n",
       "3  0.696  0.346   0.03      foo       Fe3N2  3.795\n",
       "4  0.477  0.802  0.296      foo          N2  4.184"
      ]
     },
     "execution_count": 9,
     "metadata": {},
     "output_type": "execute_result"
    }
   ],
   "source": [
    "df = pd.DataFrame(np.column_stack((a, b, c, groups, composition, y)), \n",
    "                  columns=('a', 'b', 'c', 'grouping', 'composition', 'y'))\n",
    "df.head()"
   ]
  },
  {
   "cell_type": "code",
   "execution_count": 10,
   "metadata": {},
   "outputs": [],
   "source": [
    "df.to_csv('grouped.csv', index=None)"
   ]
  }
 ],
 "metadata": {
  "kernelspec": {
   "display_name": "Python 3",
   "language": "python",
   "name": "python3"
  },
  "language_info": {
   "codemirror_mode": {
    "name": "ipython",
    "version": 3
   },
   "file_extension": ".py",
   "mimetype": "text/x-python",
   "name": "python",
   "nbconvert_exporter": "python",
   "pygments_lexer": "ipython3",
   "version": "3.6.5"
  }
 },
 "nbformat": 4,
 "nbformat_minor": 2
}
