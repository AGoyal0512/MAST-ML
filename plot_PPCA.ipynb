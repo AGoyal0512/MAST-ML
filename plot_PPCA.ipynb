{
 "cells": [
  {
   "cell_type": "code",
   "execution_count": 1,
   "metadata": {
    "collapsed": true
   },
   "outputs": [],
   "source": [
    "%matplotlib inline"
   ]
  },
  {
   "cell_type": "markdown",
   "metadata": {},
   "source": [
    "\n",
    "# Interpolating missing data with probabalistic PCA\n",
    "\n",
    "\n",
    "When you pass a matrix with with missing data, hypertools will attempt to\n",
    "fill in the values using probabalistic principal components analysis (PPCA).\n",
    "Here is an example where we generate some synthetic data, remove some of the\n",
    "values, and then use PPCA to interpolate those missing values. Then, we plot\n",
    "both the original and data with missing values together to see how it performed.\n",
    "\n"
   ]
  },
  {
   "cell_type": "code",
   "execution_count": 1,
   "metadata": {},
   "outputs": [
    {
     "ename": "ImportError",
     "evalue": "No module named hypertools",
     "output_type": "error",
     "traceback": [
      "\u001b[1;31m\u001b[0m",
      "\u001b[1;31mImportError\u001b[0mTraceback (most recent call last)",
      "\u001b[1;32m<ipython-input-1-dcda4da1e68f>\u001b[0m in \u001b[0;36m<module>\u001b[1;34m()\u001b[0m\n\u001b[0;32m      6\u001b[0m \u001b[1;32mimport\u001b[0m \u001b[0mnumpy\u001b[0m \u001b[1;32mas\u001b[0m \u001b[0mnp\u001b[0m\u001b[1;33m\u001b[0m\u001b[0m\n\u001b[0;32m      7\u001b[0m \u001b[1;32mfrom\u001b[0m \u001b[0mcopy\u001b[0m \u001b[1;32mimport\u001b[0m \u001b[0mcopy\u001b[0m\u001b[1;33m\u001b[0m\u001b[0m\n\u001b[1;32m----> 8\u001b[1;33m \u001b[1;32mimport\u001b[0m \u001b[0mhypertools\u001b[0m \u001b[1;32mas\u001b[0m \u001b[0mhyp\u001b[0m\u001b[1;33m\u001b[0m\u001b[0m\n\u001b[0m\u001b[0;32m      9\u001b[0m \u001b[1;33m\u001b[0m\u001b[0m\n\u001b[0;32m     10\u001b[0m \u001b[1;31m# simulate data\u001b[0m\u001b[1;33m\u001b[0m\u001b[1;33m\u001b[0m\u001b[0m\n",
      "\u001b[1;31mImportError\u001b[0m: No module named hypertools"
     ]
    }
   ],
   "source": [
    "# Code source: Andrew Heusser\n",
    "# License: MIT\n",
    "\n",
    "# import\n",
    "from scipy.linalg import toeplitz\n",
    "import numpy as np\n",
    "from copy import copy\n",
    "import hypertools as hyp\n",
    "\n",
    "# simulate data\n",
    "K = 10 - toeplitz(np.arange(10))\n",
    "data1 = np.cumsum(np.random.multivariate_normal(np.zeros(10), K, 250), axis=0)\n",
    "data2 = copy(data1)\n",
    "\n",
    "# simulate missing data\n",
    "missing = .1\n",
    "inds = [(i,j) for i in range(data2.shape[0]) for j in range(data2.shape[1])]\n",
    "missing_data = [inds[i] for i in np.random.choice(int(len(inds)), int(len(inds)*missing))]\n",
    "for i,j in missing_data:\n",
    "    data2[i,j]=np.nan\n",
    "\n",
    "# plot\n",
    "hyp.plot([data1, data2], linestyle=['-',':'], legend=['Original', 'PPCA'])"
   ]
  },
  {
   "cell_type": "code",
   "execution_count": null,
   "metadata": {
    "collapsed": true
   },
   "outputs": [],
   "source": []
  }
 ],
 "metadata": {
  "kernelspec": {
   "display_name": "Python 2",
   "language": "python",
   "name": "python2"
  },
  "language_info": {
   "codemirror_mode": {
    "name": "ipython",
    "version": 2
   },
   "file_extension": ".py",
   "mimetype": "text/x-python",
   "name": "python",
   "nbconvert_exporter": "python",
   "pygments_lexer": "ipython2",
   "version": "2.7.14"
  }
 },
 "nbformat": 4,
 "nbformat_minor": 1
}
