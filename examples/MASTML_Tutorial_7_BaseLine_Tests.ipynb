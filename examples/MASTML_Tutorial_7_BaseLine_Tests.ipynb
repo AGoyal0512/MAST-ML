{
 "cells": [
  {
   "cell_type": "markdown",
   "id": "sexual-vacuum",
   "metadata": {
    "colab": {
     "base_uri": "https://localhost:8080/"
    },
    "executionInfo": {
     "elapsed": 10523,
     "status": "ok",
     "timestamp": 1614624209059,
     "user": {
      "displayName": "Ryan Jacobs",
      "photoUrl": "",
      "userId": "08020825119070462259"
     },
     "user_tz": 360
    },
    "id": "xdEXmdzP7kWN",
    "outputId": "52f31504-19a9-4897-d4b5-39b27b3efaab"
   },
   "source": [
    "# *INSERT TUTORIAL PIC HERE*"
   ]
  },
  {
   "cell_type": "markdown",
   "id": "affecting-outside",
   "metadata": {},
   "source": [
    "# Welcome to the seventh MAST-ML tutorial notebook, \n",
    "\n",
    "# Model Base Line Tests with MAST-ML! \n",
    "\n",
    "## In this notebook, we will learn how to run some baseline tests on our models. In this tutorial, we will:\n",
    "\n",
    "1. [Set up MAST-ML on Colab and begin session](#task1)\n",
    "2. [Import Dataset](#task2)\n",
    "3. [Run Base line tests on our model](#task3)"
   ]
  },
  {
   "cell_type": "markdown",
   "id": "scientific-sullivan",
   "metadata": {},
   "source": [
    "## Task 1: Set up MAST-ML on Colab and begin session <a name=\"task1\"></a>"
   ]
  },
  {
   "cell_type": "markdown",
   "id": "essential-nebraska",
   "metadata": {},
   "source": [
    "If you are working on Google Colab and need to install MAST-ML, \n",
    "begin by cloning the relevant branch of MAST-ML to the Colab session\n",
    "and install the needed dependencies:"
   ]
  },
  {
   "cell_type": "code",
   "execution_count": 1,
   "id": "respective-import",
   "metadata": {},
   "outputs": [],
   "source": [
    "# !git clone --single-branch --branch dev_Ryan_2020-12-21 https://github.com/uw-cmg/MAST-ML\n",
    "# !pip install -r MAST-ML/requirements.txt"
   ]
  },
  {
   "cell_type": "markdown",
   "id": "official-warrior",
   "metadata": {},
   "source": [
    "Sync your Google drive to Colab so that we can save MAST-ML results to our Google\n",
    "Drive. If we save to the Colab session, the data will be deleted when the session \n",
    "ends."
   ]
  },
  {
   "cell_type": "code",
   "execution_count": 2,
   "id": "appreciated-malawi",
   "metadata": {
    "colab": {
     "base_uri": "https://localhost:8080/"
    },
    "executionInfo": {
     "elapsed": 23965,
     "status": "ok",
     "timestamp": 1614624307314,
     "user": {
      "displayName": "Ryan Jacobs",
      "photoUrl": "",
      "userId": "08020825119070462259"
     },
     "user_tz": 360
    },
    "id": "w-jHgEAFquSh",
    "outputId": "3a745bff-5d3b-4f64-df23-7095a8d0c670"
   },
   "outputs": [],
   "source": [
    "# from google.colab import drive\n",
    "# drive.mount('/content/drive', force_remount=True)"
   ]
  },
  {
   "cell_type": "markdown",
   "id": "naked-raising",
   "metadata": {},
   "source": [
    "We need to add the MAST-ML folder to our sys path so that python can find the modules"
   ]
  },
  {
   "cell_type": "code",
   "execution_count": 3,
   "id": "municipal-instruction",
   "metadata": {
    "executionInfo": {
     "elapsed": 322,
     "status": "ok",
     "timestamp": 1614624313213,
     "user": {
      "displayName": "Ryan Jacobs",
      "photoUrl": "",
      "userId": "08020825119070462259"
     },
     "user_tz": 360
    },
    "id": "nwQO48j1ws3S"
   },
   "outputs": [],
   "source": [
    "# import sys\n",
    "# sys.path.append('MAST-ML')"
   ]
  },
  {
   "cell_type": "markdown",
   "id": "isolated-default",
   "metadata": {},
   "source": [
    "Here we import the MAST-ML modules used in this tutorial"
   ]
  },
  {
   "cell_type": "code",
   "execution_count": 4,
   "id": "missing-motivation",
   "metadata": {
    "colab": {
     "base_uri": "https://localhost:8080/"
    },
    "executionInfo": {
     "elapsed": 2336,
     "status": "ok",
     "timestamp": 1614624316133,
     "user": {
      "displayName": "Ryan Jacobs",
      "photoUrl": "",
      "userId": "08020825119070462259"
     },
     "user_tz": 360
    },
    "id": "x8GIei1qQoWL",
    "outputId": "6480ed4e-44d3-43c9-f5c3-1fb1c1063801"
   },
   "outputs": [
    {
     "name": "stdout",
     "output_type": "stream",
     "text": [
      "Figshare is an optional dependency. To import data from figshare, manually install figshare via git clone of git clone https://github.com/cognoma/figshare.git\n",
      "Keras is an optional dependency. To use keras, do pip install keras tensorflow\n",
      "forestci is an optional dependency. To install latest forestci compatabilty with scikit-learn>=0.24, run pip install git+git://github.com/scikit-learn-contrib/forest-confidence-interval.git\n"
     ]
    }
   ],
   "source": [
    "import mastml\n",
    "from mastml.datasets import LocalDatasets\n",
    "from mastml.models import SklearnModel, EnsembleModel\n",
    "from mastml.preprocessing import SklearnPreprocessor\n",
    "from mastml.metrics import Metrics\n",
    "from mastml.baseline_tests import Baseline_tests\n",
    "import os\n",
    "data_path = os.path.join(mastml.__path__[0], 'data')"
   ]
  },
  {
   "cell_type": "markdown",
   "id": "virgin-commitment",
   "metadata": {},
   "source": [
    "## Task 2: Import dataset <a name=\"task2\"></a>"
   ]
  },
  {
   "cell_type": "markdown",
   "id": "better-angle",
   "metadata": {},
   "source": [
    "In this tutorial, we will again use the diffusion dataset that we examined in the previous tutorial. Here, we use the LocalDatasets module to load in the diffusion dataset."
   ]
  },
  {
   "cell_type": "code",
   "execution_count": 5,
   "id": "british-drive",
   "metadata": {},
   "outputs": [
    {
     "name": "stdout",
     "output_type": "stream",
     "text": [
      "WARNING: feature_names not specified but target was specified. Assuming all columns except target and extra columns are features\n"
     ]
    }
   ],
   "source": [
    "target = 'E_regression'\n",
    "\n",
    "extra_columns = ['Material compositions 1', 'Material compositions 2']\n",
    "\n",
    "d = LocalDatasets(file_path=data_path+'\\\\diffusion_data_selectfeatures.xlsx', \n",
    "                  target=target, \n",
    "                  extra_columns=extra_columns, \n",
    "                  group_column='Material compositions 1',\n",
    "                  testdata_columns=None,\n",
    "                  as_frame=True)\n",
    "\n",
    "# Load the data with the load_data() method\n",
    "data_dict = d.load_data()\n",
    "\n",
    "# Let's assign each data object to its respective name\n",
    "X = data_dict['X']\n",
    "y = data_dict['y']\n",
    "X_extra = data_dict['X_extra']\n",
    "groups = data_dict['groups']"
   ]
  },
  {
   "cell_type": "markdown",
   "id": "color-given",
   "metadata": {},
   "source": [
    " In this tutorial, we will be using RandomForestRegressor as our model"
   ]
  },
  {
   "cell_type": "code",
   "execution_count": 6,
   "id": "expanded-liabilities",
   "metadata": {},
   "outputs": [],
   "source": [
    "model = SklearnModel(model='RandomForestRegressor', n_estimators=150)"
   ]
  },
  {
   "cell_type": "markdown",
   "id": "becoming-israeli",
   "metadata": {},
   "source": [
    "## Task 3:  Run baseline tests on our model <a name=\"task3\"></a>"
   ]
  },
  {
   "cell_type": "markdown",
   "id": "voluntary-frederick",
   "metadata": {},
   "source": [
    "We list which metrics we want to evaluate. If none are given, MAST-ML will default to evaulating just the root mean squared error. A complete list of metrics can be obtained from calling Metrics()._metric_zoo() in metrics.py.\n",
    "\n"
   ]
  },
  {
   "cell_type": "code",
   "execution_count": 7,
   "id": "demographic-distance",
   "metadata": {},
   "outputs": [],
   "source": [
    "metrics = ['r2_score', 'mean_absolute_error', 'root_mean_squared_error', 'rmse_over_stdev']"
   ]
  },
  {
   "cell_type": "markdown",
   "id": "thousand-salvation",
   "metadata": {},
   "source": [
    "As in the previous tutorial, we need to define our preprocessing function. We are just going to use the basic StandardScaler in scikit-learn to normalize each column to have mean zero and standard deviation of one."
   ]
  },
  {
   "cell_type": "code",
   "execution_count": 8,
   "id": "productive-lighter",
   "metadata": {},
   "outputs": [
    {
     "data": {
      "text/html": [
       "<div>\n",
       "<style scoped>\n",
       "    .dataframe tbody tr th:only-of-type {\n",
       "        vertical-align: middle;\n",
       "    }\n",
       "\n",
       "    .dataframe tbody tr th {\n",
       "        vertical-align: top;\n",
       "    }\n",
       "\n",
       "    .dataframe thead th {\n",
       "        text-align: right;\n",
       "    }\n",
       "</style>\n",
       "<table border=\"1\" class=\"dataframe\">\n",
       "  <thead>\n",
       "    <tr style=\"text-align: right;\">\n",
       "      <th></th>\n",
       "      <th>Site2_MeltingT</th>\n",
       "      <th>BCCenergy_pa_max_value</th>\n",
       "      <th>BCCefflatcnt_difference</th>\n",
       "      <th>Site1_BCCefflatcnt</th>\n",
       "      <th>Site1_CovalentRadius</th>\n",
       "      <th>NdUnfilled_max_value</th>\n",
       "      <th>n_ws^third_max_value</th>\n",
       "      <th>Site2_Row</th>\n",
       "      <th>Site2_NdUnfilled</th>\n",
       "      <th>MendeleevNumber_composition_average</th>\n",
       "      <th>Site2_MendeleevNumber</th>\n",
       "      <th>Site2_IonizationEnergy</th>\n",
       "      <th>Site1_GSestFCClatcnt</th>\n",
       "      <th>IonicRadii_composition_average</th>\n",
       "      <th>HeatVaporization_min_value</th>\n",
       "      <th>HHIr_difference</th>\n",
       "      <th>Site2_ICSDVolume</th>\n",
       "      <th>NdUnfilled_composition_average</th>\n",
       "      <th>Polarizability_max_value</th>\n",
       "      <th>Site2_BCCvolume_padiff</th>\n",
       "    </tr>\n",
       "  </thead>\n",
       "  <tbody>\n",
       "    <tr>\n",
       "      <th>0</th>\n",
       "      <td>-0.531814</td>\n",
       "      <td>0.931053</td>\n",
       "      <td>-1.254233</td>\n",
       "      <td>0.147244</td>\n",
       "      <td>0.412734</td>\n",
       "      <td>-1.388936</td>\n",
       "      <td>-1.573418</td>\n",
       "      <td>0.218361</td>\n",
       "      <td>-0.943565</td>\n",
       "      <td>0.587584</td>\n",
       "      <td>0.446102</td>\n",
       "      <td>-0.017709</td>\n",
       "      <td>0.183395</td>\n",
       "      <td>3.133860</td>\n",
       "      <td>-0.156934</td>\n",
       "      <td>-1.099257</td>\n",
       "      <td>-0.312672</td>\n",
       "      <td>-1.260505</td>\n",
       "      <td>-0.891095</td>\n",
       "      <td>0.279416</td>\n",
       "    </tr>\n",
       "    <tr>\n",
       "      <th>1</th>\n",
       "      <td>0.064051</td>\n",
       "      <td>0.931053</td>\n",
       "      <td>0.204143</td>\n",
       "      <td>0.147244</td>\n",
       "      <td>0.412734</td>\n",
       "      <td>-0.369717</td>\n",
       "      <td>0.477555</td>\n",
       "      <td>-0.855029</td>\n",
       "      <td>-0.009161</td>\n",
       "      <td>0.265113</td>\n",
       "      <td>0.081144</td>\n",
       "      <td>0.224198</td>\n",
       "      <td>0.183395</td>\n",
       "      <td>1.357710</td>\n",
       "      <td>-0.156934</td>\n",
       "      <td>-0.580394</td>\n",
       "      <td>-1.040516</td>\n",
       "      <td>-0.495578</td>\n",
       "      <td>-0.802413</td>\n",
       "      <td>0.442443</td>\n",
       "    </tr>\n",
       "    <tr>\n",
       "      <th>2</th>\n",
       "      <td>0.524584</td>\n",
       "      <td>0.931053</td>\n",
       "      <td>-0.006534</td>\n",
       "      <td>0.147244</td>\n",
       "      <td>0.412734</td>\n",
       "      <td>0.309763</td>\n",
       "      <td>0.372377</td>\n",
       "      <td>-0.855029</td>\n",
       "      <td>0.613776</td>\n",
       "      <td>-0.149493</td>\n",
       "      <td>-0.388087</td>\n",
       "      <td>-0.718343</td>\n",
       "      <td>0.183395</td>\n",
       "      <td>1.251141</td>\n",
       "      <td>-0.156934</td>\n",
       "      <td>-0.021619</td>\n",
       "      <td>-0.929489</td>\n",
       "      <td>0.014374</td>\n",
       "      <td>-0.089477</td>\n",
       "      <td>0.334594</td>\n",
       "    </tr>\n",
       "    <tr>\n",
       "      <th>3</th>\n",
       "      <td>-0.394504</td>\n",
       "      <td>0.931053</td>\n",
       "      <td>0.018934</td>\n",
       "      <td>0.147244</td>\n",
       "      <td>0.412734</td>\n",
       "      <td>-1.388936</td>\n",
       "      <td>-0.994938</td>\n",
       "      <td>-0.855029</td>\n",
       "      <td>-0.943565</td>\n",
       "      <td>0.541517</td>\n",
       "      <td>0.393965</td>\n",
       "      <td>0.111308</td>\n",
       "      <td>0.183395</td>\n",
       "      <td>1.641894</td>\n",
       "      <td>-0.156934</td>\n",
       "      <td>-1.059344</td>\n",
       "      <td>-0.954162</td>\n",
       "      <td>-1.260505</td>\n",
       "      <td>-0.891095</td>\n",
       "      <td>0.349643</td>\n",
       "    </tr>\n",
       "    <tr>\n",
       "      <th>4</th>\n",
       "      <td>0.112116</td>\n",
       "      <td>0.931053</td>\n",
       "      <td>0.119309</td>\n",
       "      <td>0.147244</td>\n",
       "      <td>0.412734</td>\n",
       "      <td>-0.029977</td>\n",
       "      <td>0.582733</td>\n",
       "      <td>-0.855029</td>\n",
       "      <td>0.302307</td>\n",
       "      <td>0.126911</td>\n",
       "      <td>-0.075266</td>\n",
       "      <td>0.235845</td>\n",
       "      <td>0.183395</td>\n",
       "      <td>1.002480</td>\n",
       "      <td>-0.156934</td>\n",
       "      <td>-1.099257</td>\n",
       "      <td>-0.966498</td>\n",
       "      <td>-0.240602</td>\n",
       "      <td>-0.645915</td>\n",
       "      <td>0.344627</td>\n",
       "    </tr>\n",
       "    <tr>\n",
       "      <th>...</th>\n",
       "      <td>...</td>\n",
       "      <td>...</td>\n",
       "      <td>...</td>\n",
       "      <td>...</td>\n",
       "      <td>...</td>\n",
       "      <td>...</td>\n",
       "      <td>...</td>\n",
       "      <td>...</td>\n",
       "      <td>...</td>\n",
       "      <td>...</td>\n",
       "      <td>...</td>\n",
       "      <td>...</td>\n",
       "      <td>...</td>\n",
       "      <td>...</td>\n",
       "      <td>...</td>\n",
       "      <td>...</td>\n",
       "      <td>...</td>\n",
       "      <td>...</td>\n",
       "      <td>...</td>\n",
       "      <td>...</td>\n",
       "    </tr>\n",
       "    <tr>\n",
       "      <th>403</th>\n",
       "      <td>1.161729</td>\n",
       "      <td>-0.781716</td>\n",
       "      <td>-0.390855</td>\n",
       "      <td>1.377227</td>\n",
       "      <td>2.514173</td>\n",
       "      <td>1.328982</td>\n",
       "      <td>-0.100925</td>\n",
       "      <td>0.218361</td>\n",
       "      <td>0.925244</td>\n",
       "      <td>-1.209041</td>\n",
       "      <td>-0.492361</td>\n",
       "      <td>-0.617997</td>\n",
       "      <td>1.447955</td>\n",
       "      <td>0.220974</td>\n",
       "      <td>2.400344</td>\n",
       "      <td>1.375318</td>\n",
       "      <td>-0.176972</td>\n",
       "      <td>2.309155</td>\n",
       "      <td>1.006009</td>\n",
       "      <td>0.344627</td>\n",
       "    </tr>\n",
       "    <tr>\n",
       "      <th>404</th>\n",
       "      <td>1.765340</td>\n",
       "      <td>-0.781716</td>\n",
       "      <td>-0.378603</td>\n",
       "      <td>1.377227</td>\n",
       "      <td>2.514173</td>\n",
       "      <td>1.328982</td>\n",
       "      <td>-0.153514</td>\n",
       "      <td>1.291752</td>\n",
       "      <td>1.236712</td>\n",
       "      <td>-1.162974</td>\n",
       "      <td>-0.440224</td>\n",
       "      <td>0.251076</td>\n",
       "      <td>1.447955</td>\n",
       "      <td>0.220974</td>\n",
       "      <td>2.400344</td>\n",
       "      <td>-0.221182</td>\n",
       "      <td>-0.238654</td>\n",
       "      <td>2.564131</td>\n",
       "      <td>1.006009</td>\n",
       "      <td>0.344627</td>\n",
       "    </tr>\n",
       "    <tr>\n",
       "      <th>405</th>\n",
       "      <td>0.257430</td>\n",
       "      <td>-0.781716</td>\n",
       "      <td>-0.110537</td>\n",
       "      <td>1.377227</td>\n",
       "      <td>2.514173</td>\n",
       "      <td>1.328982</td>\n",
       "      <td>-0.731993</td>\n",
       "      <td>-0.855029</td>\n",
       "      <td>1.548180</td>\n",
       "      <td>-1.393311</td>\n",
       "      <td>-0.700908</td>\n",
       "      <td>-0.671754</td>\n",
       "      <td>1.447955</td>\n",
       "      <td>0.114405</td>\n",
       "      <td>1.156580</td>\n",
       "      <td>-0.700132</td>\n",
       "      <td>-0.238654</td>\n",
       "      <td>2.819107</td>\n",
       "      <td>1.006009</td>\n",
       "      <td>0.419870</td>\n",
       "    </tr>\n",
       "    <tr>\n",
       "      <th>406</th>\n",
       "      <td>0.888986</td>\n",
       "      <td>-0.781716</td>\n",
       "      <td>-1.097630</td>\n",
       "      <td>1.377227</td>\n",
       "      <td>2.514173</td>\n",
       "      <td>1.328982</td>\n",
       "      <td>-1.100116</td>\n",
       "      <td>1.291752</td>\n",
       "      <td>1.548180</td>\n",
       "      <td>-1.301176</td>\n",
       "      <td>-0.596634</td>\n",
       "      <td>-0.815106</td>\n",
       "      <td>1.447955</td>\n",
       "      <td>0.895911</td>\n",
       "      <td>2.400344</td>\n",
       "      <td>-1.099257</td>\n",
       "      <td>0.353491</td>\n",
       "      <td>2.819107</td>\n",
       "      <td>1.006009</td>\n",
       "      <td>0.179091</td>\n",
       "    </tr>\n",
       "    <tr>\n",
       "      <th>407</th>\n",
       "      <td>-1.347640</td>\n",
       "      <td>-0.781716</td>\n",
       "      <td>-0.833573</td>\n",
       "      <td>1.377227</td>\n",
       "      <td>2.514173</td>\n",
       "      <td>1.328982</td>\n",
       "      <td>-1.310473</td>\n",
       "      <td>0.218361</td>\n",
       "      <td>-0.943565</td>\n",
       "      <td>0.311180</td>\n",
       "      <td>1.228154</td>\n",
       "      <td>-0.218402</td>\n",
       "      <td>1.447955</td>\n",
       "      <td>0.469635</td>\n",
       "      <td>0.142081</td>\n",
       "      <td>-0.700132</td>\n",
       "      <td>0.920963</td>\n",
       "      <td>0.779301</td>\n",
       "      <td>1.006009</td>\n",
       "      <td>-3.695946</td>\n",
       "    </tr>\n",
       "  </tbody>\n",
       "</table>\n",
       "<p>408 rows × 20 columns</p>\n",
       "</div>"
      ],
      "text/plain": [
       "     Site2_MeltingT  BCCenergy_pa_max_value  BCCefflatcnt_difference  \\\n",
       "0         -0.531814                0.931053                -1.254233   \n",
       "1          0.064051                0.931053                 0.204143   \n",
       "2          0.524584                0.931053                -0.006534   \n",
       "3         -0.394504                0.931053                 0.018934   \n",
       "4          0.112116                0.931053                 0.119309   \n",
       "..              ...                     ...                      ...   \n",
       "403        1.161729               -0.781716                -0.390855   \n",
       "404        1.765340               -0.781716                -0.378603   \n",
       "405        0.257430               -0.781716                -0.110537   \n",
       "406        0.888986               -0.781716                -1.097630   \n",
       "407       -1.347640               -0.781716                -0.833573   \n",
       "\n",
       "     Site1_BCCefflatcnt  Site1_CovalentRadius  NdUnfilled_max_value  \\\n",
       "0              0.147244              0.412734             -1.388936   \n",
       "1              0.147244              0.412734             -0.369717   \n",
       "2              0.147244              0.412734              0.309763   \n",
       "3              0.147244              0.412734             -1.388936   \n",
       "4              0.147244              0.412734             -0.029977   \n",
       "..                  ...                   ...                   ...   \n",
       "403            1.377227              2.514173              1.328982   \n",
       "404            1.377227              2.514173              1.328982   \n",
       "405            1.377227              2.514173              1.328982   \n",
       "406            1.377227              2.514173              1.328982   \n",
       "407            1.377227              2.514173              1.328982   \n",
       "\n",
       "     n_ws^third_max_value  Site2_Row  Site2_NdUnfilled  \\\n",
       "0               -1.573418   0.218361         -0.943565   \n",
       "1                0.477555  -0.855029         -0.009161   \n",
       "2                0.372377  -0.855029          0.613776   \n",
       "3               -0.994938  -0.855029         -0.943565   \n",
       "4                0.582733  -0.855029          0.302307   \n",
       "..                    ...        ...               ...   \n",
       "403             -0.100925   0.218361          0.925244   \n",
       "404             -0.153514   1.291752          1.236712   \n",
       "405             -0.731993  -0.855029          1.548180   \n",
       "406             -1.100116   1.291752          1.548180   \n",
       "407             -1.310473   0.218361         -0.943565   \n",
       "\n",
       "     MendeleevNumber_composition_average  Site2_MendeleevNumber  \\\n",
       "0                               0.587584               0.446102   \n",
       "1                               0.265113               0.081144   \n",
       "2                              -0.149493              -0.388087   \n",
       "3                               0.541517               0.393965   \n",
       "4                               0.126911              -0.075266   \n",
       "..                                   ...                    ...   \n",
       "403                            -1.209041              -0.492361   \n",
       "404                            -1.162974              -0.440224   \n",
       "405                            -1.393311              -0.700908   \n",
       "406                            -1.301176              -0.596634   \n",
       "407                             0.311180               1.228154   \n",
       "\n",
       "     Site2_IonizationEnergy  Site1_GSestFCClatcnt  \\\n",
       "0                 -0.017709              0.183395   \n",
       "1                  0.224198              0.183395   \n",
       "2                 -0.718343              0.183395   \n",
       "3                  0.111308              0.183395   \n",
       "4                  0.235845              0.183395   \n",
       "..                      ...                   ...   \n",
       "403               -0.617997              1.447955   \n",
       "404                0.251076              1.447955   \n",
       "405               -0.671754              1.447955   \n",
       "406               -0.815106              1.447955   \n",
       "407               -0.218402              1.447955   \n",
       "\n",
       "     IonicRadii_composition_average  HeatVaporization_min_value  \\\n",
       "0                          3.133860                   -0.156934   \n",
       "1                          1.357710                   -0.156934   \n",
       "2                          1.251141                   -0.156934   \n",
       "3                          1.641894                   -0.156934   \n",
       "4                          1.002480                   -0.156934   \n",
       "..                              ...                         ...   \n",
       "403                        0.220974                    2.400344   \n",
       "404                        0.220974                    2.400344   \n",
       "405                        0.114405                    1.156580   \n",
       "406                        0.895911                    2.400344   \n",
       "407                        0.469635                    0.142081   \n",
       "\n",
       "     HHIr_difference  Site2_ICSDVolume  NdUnfilled_composition_average  \\\n",
       "0          -1.099257         -0.312672                       -1.260505   \n",
       "1          -0.580394         -1.040516                       -0.495578   \n",
       "2          -0.021619         -0.929489                        0.014374   \n",
       "3          -1.059344         -0.954162                       -1.260505   \n",
       "4          -1.099257         -0.966498                       -0.240602   \n",
       "..               ...               ...                             ...   \n",
       "403         1.375318         -0.176972                        2.309155   \n",
       "404        -0.221182         -0.238654                        2.564131   \n",
       "405        -0.700132         -0.238654                        2.819107   \n",
       "406        -1.099257          0.353491                        2.819107   \n",
       "407        -0.700132          0.920963                        0.779301   \n",
       "\n",
       "     Polarizability_max_value  Site2_BCCvolume_padiff  \n",
       "0                   -0.891095                0.279416  \n",
       "1                   -0.802413                0.442443  \n",
       "2                   -0.089477                0.334594  \n",
       "3                   -0.891095                0.349643  \n",
       "4                   -0.645915                0.344627  \n",
       "..                        ...                     ...  \n",
       "403                  1.006009                0.344627  \n",
       "404                  1.006009                0.344627  \n",
       "405                  1.006009                0.419870  \n",
       "406                  1.006009                0.179091  \n",
       "407                  1.006009               -3.695946  \n",
       "\n",
       "[408 rows x 20 columns]"
      ]
     },
     "execution_count": 8,
     "metadata": {},
     "output_type": "execute_result"
    }
   ],
   "source": [
    "preprocessor = SklearnPreprocessor(preprocessor='StandardScaler', as_frame=True)\n",
    "preprocessor.evaluate(X,y)"
   ]
  },
  {
   "cell_type": "code",
   "execution_count": 9,
   "id": "republican-stock",
   "metadata": {},
   "outputs": [
    {
     "data": {
      "text/plain": [
       "RandomForestRegressor(n_estimators=150)"
      ]
     },
     "execution_count": 9,
     "metadata": {},
     "output_type": "execute_result"
    }
   ],
   "source": [
    "model.fit(X=X, y=y)"
   ]
  },
  {
   "cell_type": "markdown",
   "id": "informal-thickness",
   "metadata": {},
   "source": [
    "Baseline_test takes in the argument X, y, model, and the metrics used to evaluate the model. Here we will go through on how to use the mean test"
   ]
  },
  {
   "cell_type": "code",
   "execution_count": 10,
   "id": "varying-treaty",
   "metadata": {},
   "outputs": [],
   "source": [
    "baseline_test = Baseline_tests()"
   ]
  },
  {
   "cell_type": "markdown",
   "id": "aboriginal-bearing",
   "metadata": {},
   "source": [
    "test_mean will print out the score of the model tested with the actual y compared with the naive score of the model tested with the mean value of y"
   ]
  },
  {
   "cell_type": "code",
   "execution_count": 11,
   "id": "waiting-prayer",
   "metadata": {},
   "outputs": [
    {
     "name": "stdout",
     "output_type": "stream",
     "text": [
      "r2_score score:\n",
      "Real: 0.9860966513738642\n",
      "Fake: 0.0 \n",
      "\n",
      "mean_absolute_error score:\n",
      "Real: 0.033630887315884726\n",
      "Fake: 0.27009516853493065 \n",
      "\n",
      "root_mean_squared_error score:\n",
      "Real: 0.044880660122330884\n",
      "Fake: 0.36528166602821 \n",
      "\n",
      "rmse_over_stdev score:\n",
      "Real: 0.1179124617084038\n",
      "Fake: inf \n",
      "\n"
     ]
    }
   ],
   "source": [
    "baseline_test.test_mean(X=X, y=y, model=model, metrics=metrics)"
   ]
  },
  {
   "cell_type": "markdown",
   "id": "mathematical-exemption",
   "metadata": {},
   "source": [
    "test_permuted will print out the score of the model tested with the actual y compared with the naive score of the model tested with the y shuffled so that it does not correspond to the X data"
   ]
  },
  {
   "cell_type": "code",
   "execution_count": 12,
   "id": "continuous-scene",
   "metadata": {},
   "outputs": [
    {
     "name": "stdout",
     "output_type": "stream",
     "text": [
      "r2_score score:\n",
      "Real: 0.9898502340600586\n",
      "Fake: -1.106237719534085 \n",
      "\n",
      "mean_absolute_error score:\n",
      "Real: 0.038726365323045325\n",
      "Fake: 0.574799797547572 \n",
      "\n",
      "root_mean_squared_error score:\n",
      "Real: 0.052002046246263506\n",
      "Fake: 0.7491108934778808 \n",
      "\n",
      "rmse_over_stdev score:\n",
      "Real: 0.10074604677078593\n",
      "Fake: 1.4512882964918048 \n",
      "\n"
     ]
    }
   ],
   "source": [
    "baseline_test.test_permuted(X=X, y=y, model=model, metrics=metrics)"
   ]
  },
  {
   "cell_type": "markdown",
   "id": "different-scheme",
   "metadata": {},
   "source": [
    "test_nearest_neighbour_kdTree will print out the score of the model tested with the actual y compared with the naive score of the model tested with the nearest neighbour datapoint's y "
   ]
  },
  {
   "cell_type": "code",
   "execution_count": 19,
   "id": "qualified-herald",
   "metadata": {},
   "outputs": [
    {
     "name": "stdout",
     "output_type": "stream",
     "text": [
      "r2_score score:\n",
      "Real: 0.9870998616288861\n",
      "Fake: 0.8612690048984513 \n",
      "\n",
      "mean_absolute_error score:\n",
      "Real: 0.04060911469670776\n",
      "Fake: 0.12403551359481474 \n",
      "\n",
      "root_mean_squared_error score:\n",
      "Real: 0.056280333841246304\n",
      "Fake: 0.18725850497701466 \n",
      "\n",
      "rmse_over_stdev score:\n",
      "Real: 0.11357877605923553\n",
      "Fake: 0    0.372466\n",
      "dtype: float64 \n",
      "\n"
     ]
    }
   ],
   "source": [
    "baseline_test.test_nearest_neighbour_kdtree(X=X, y=y, model=model, metrics=metrics)"
   ]
  },
  {
   "cell_type": "markdown",
   "id": "removable-shark",
   "metadata": {},
   "source": [
    "test_nearest_neighbour_cdist will print out the score of the model tested with the actual y compared with the naive score of the model tested with the nearest neighbour datapoint's y. This method can take an extra argument d_metric as a metric to calculate the distance such as:\n",
    "\n",
    "‘braycurtis’, ‘canberra’, ‘chebyshev’, ‘cityblock’, ‘correlation’, ‘cosine’, ‘dice’, ‘euclidean’, ‘hamming’, ‘jaccard’, ‘jensenshannon’, ‘kulsinski’, ‘mahalanobis’, ‘matching’, ‘minkowski’, ‘rogerstanimoto’, ‘russellrao’, ‘seuclidean’, ‘sokalmichener’, ‘sokalsneath’, ‘sqeuclidean’, ‘wminkowski’, ‘yule’\n",
    "\n",
    "d"
   ]
  },
  {
   "cell_type": "code",
   "execution_count": 21,
   "id": "given-slovak",
   "metadata": {},
   "outputs": [
    {
     "name": "stdout",
     "output_type": "stream",
     "text": [
      "r2_score score:\n",
      "Real: 0.9851254574546906\n",
      "Fake: 0.8139639073358658 \n",
      "\n",
      "mean_absolute_error score:\n",
      "Real: 0.039519676035391\n",
      "Fake: 0.14520873788148153 \n",
      "\n",
      "root_mean_squared_error score:\n",
      "Real: 0.0523224180563892\n",
      "Fake: 0.2159302731602251 \n",
      "\n",
      "rmse_over_stdev score:\n",
      "Real: 0.12196123378069527\n",
      "Fake: 0.4313190149577622 \n",
      "\n"
     ]
    }
   ],
   "source": [
    "baseline_test.test_nearest_neighbour_cdist(X=X, y=y, model=model, metrics=metrics, d_metric =\"euclidean\")"
   ]
  },
  {
   "cell_type": "code",
   "execution_count": null,
   "id": "faced-finding",
   "metadata": {},
   "outputs": [],
   "source": []
  }
 ],
 "metadata": {
  "kernelspec": {
   "display_name": "Python 3",
   "language": "python",
   "name": "python3"
  },
  "language_info": {
   "codemirror_mode": {
    "name": "ipython",
    "version": 3
   },
   "file_extension": ".py",
   "mimetype": "text/x-python",
   "name": "python",
   "nbconvert_exporter": "python",
   "pygments_lexer": "ipython3",
   "version": "3.8.0"
  }
 },
 "nbformat": 4,
 "nbformat_minor": 5
}
