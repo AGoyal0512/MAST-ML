{
 "cells": [
  {
   "cell_type": "markdown",
   "id": "sexual-vacuum",
   "metadata": {
    "colab": {
     "base_uri": "https://localhost:8080/"
    },
    "executionInfo": {
     "elapsed": 10523,
     "status": "ok",
     "timestamp": 1614624209059,
     "user": {
      "displayName": "Ryan Jacobs",
      "photoUrl": "",
      "userId": "08020825119070462259"
     },
     "user_tz": 360
    },
    "id": "xdEXmdzP7kWN",
    "outputId": "52f31504-19a9-4897-d4b5-39b27b3efaab"
   },
   "source": [
    "# *INSERT TUTORIAL PIC HERE*"
   ]
  },
  {
   "cell_type": "markdown",
   "id": "affecting-outside",
   "metadata": {},
   "source": [
    "# Welcome to the seventh MAST-ML tutorial notebook, \n",
    "\n",
    "# Model Base Line Tests with MAST-ML! \n",
    "\n",
    "## In this notebook, we will learn how to run some baseline tests on our models. In this tutorial, we will:\n",
    "\n",
    "1. [Set up MAST-ML on Colab and begin session](#task1)\n",
    "2. [Import Dataset](#task2)\n",
    "3. [Run Base line tests on our model](#task3)"
   ]
  },
  {
   "cell_type": "markdown",
   "id": "scientific-sullivan",
   "metadata": {},
   "source": [
    "## Task 1: Set up MAST-ML on Colab and begin session <a name=\"task1\"></a>"
   ]
  },
  {
   "cell_type": "markdown",
   "id": "essential-nebraska",
   "metadata": {},
   "source": [
    "If you are working on Google Colab and need to install MAST-ML, \n",
    "begin by cloning the relevant branch of MAST-ML to the Colab session\n",
    "and install the needed dependencies:"
   ]
  },
  {
   "cell_type": "code",
   "execution_count": 1,
   "id": "respective-import",
   "metadata": {},
   "outputs": [],
   "source": [
    "# !git clone --single-branch --branch dev_Ryan_2020-12-21 https://github.com/uw-cmg/MAST-ML\n",
    "# !pip install -r MAST-ML/requirements.txt"
   ]
  },
  {
   "cell_type": "markdown",
   "id": "official-warrior",
   "metadata": {},
   "source": [
    "Sync your Google drive to Colab so that we can save MAST-ML results to our Google\n",
    "Drive. If we save to the Colab session, the data will be deleted when the session \n",
    "ends."
   ]
  },
  {
   "cell_type": "code",
   "execution_count": 2,
   "id": "appreciated-malawi",
   "metadata": {
    "colab": {
     "base_uri": "https://localhost:8080/"
    },
    "executionInfo": {
     "elapsed": 23965,
     "status": "ok",
     "timestamp": 1614624307314,
     "user": {
      "displayName": "Ryan Jacobs",
      "photoUrl": "",
      "userId": "08020825119070462259"
     },
     "user_tz": 360
    },
    "id": "w-jHgEAFquSh",
    "outputId": "3a745bff-5d3b-4f64-df23-7095a8d0c670"
   },
   "outputs": [],
   "source": [
    "# from google.colab import drive\n",
    "# drive.mount('/content/drive', force_remount=True)"
   ]
  },
  {
   "cell_type": "markdown",
   "id": "naked-raising",
   "metadata": {},
   "source": [
    "We need to add the MAST-ML folder to our sys path so that python can find the modules"
   ]
  },
  {
   "cell_type": "code",
   "execution_count": 3,
   "id": "municipal-instruction",
   "metadata": {
    "executionInfo": {
     "elapsed": 322,
     "status": "ok",
     "timestamp": 1614624313213,
     "user": {
      "displayName": "Ryan Jacobs",
      "photoUrl": "",
      "userId": "08020825119070462259"
     },
     "user_tz": 360
    },
    "id": "nwQO48j1ws3S"
   },
   "outputs": [],
   "source": [
    "# import sys\n",
    "# sys.path.append('MAST-ML')"
   ]
  },
  {
   "cell_type": "markdown",
   "id": "isolated-default",
   "metadata": {},
   "source": [
    "Here we import the MAST-ML modules used in this tutorial"
   ]
  },
  {
   "cell_type": "code",
   "execution_count": 11,
   "id": "missing-motivation",
   "metadata": {
    "colab": {
     "base_uri": "https://localhost:8080/"
    },
    "executionInfo": {
     "elapsed": 2336,
     "status": "ok",
     "timestamp": 1614624316133,
     "user": {
      "displayName": "Ryan Jacobs",
      "photoUrl": "",
      "userId": "08020825119070462259"
     },
     "user_tz": 360
    },
    "id": "x8GIei1qQoWL",
    "outputId": "6480ed4e-44d3-43c9-f5c3-1fb1c1063801"
   },
   "outputs": [
    {
     "ename": "ModuleNotFoundError",
     "evalue": "No module named 'mastml.baseline_tests'",
     "output_type": "error",
     "traceback": [
      "\u001b[1;31m---------------------------------------------------------------------------\u001b[0m",
      "\u001b[1;31mModuleNotFoundError\u001b[0m                       Traceback (most recent call last)",
      "\u001b[1;32m<ipython-input-11-35ca9b5ce825>\u001b[0m in \u001b[0;36m<module>\u001b[1;34m\u001b[0m\n\u001b[0;32m      5\u001b[0m \u001b[1;32mfrom\u001b[0m \u001b[0mmastml\u001b[0m\u001b[1;33m.\u001b[0m\u001b[0mpreprocessing\u001b[0m \u001b[1;32mimport\u001b[0m \u001b[0mSklearnPreprocessor\u001b[0m\u001b[1;33m\u001b[0m\u001b[1;33m\u001b[0m\u001b[0m\n\u001b[0;32m      6\u001b[0m \u001b[1;32mfrom\u001b[0m \u001b[0mmastml\u001b[0m\u001b[1;33m.\u001b[0m\u001b[0mmetrics\u001b[0m \u001b[1;32mimport\u001b[0m \u001b[0mMetrics\u001b[0m\u001b[1;33m\u001b[0m\u001b[1;33m\u001b[0m\u001b[0m\n\u001b[1;32m----> 7\u001b[1;33m \u001b[1;32mfrom\u001b[0m \u001b[0mmastml\u001b[0m\u001b[1;33m.\u001b[0m\u001b[0mbaseline_tests\u001b[0m \u001b[1;32mimport\u001b[0m \u001b[0mBaseline_tests\u001b[0m\u001b[1;33m\u001b[0m\u001b[1;33m\u001b[0m\u001b[0m\n\u001b[0m\u001b[0;32m      8\u001b[0m \u001b[1;32mimport\u001b[0m \u001b[0mos\u001b[0m\u001b[1;33m\u001b[0m\u001b[1;33m\u001b[0m\u001b[0m\n\u001b[0;32m      9\u001b[0m \u001b[0mdata_path\u001b[0m \u001b[1;33m=\u001b[0m \u001b[0mos\u001b[0m\u001b[1;33m.\u001b[0m\u001b[0mpath\u001b[0m\u001b[1;33m.\u001b[0m\u001b[0mjoin\u001b[0m\u001b[1;33m(\u001b[0m\u001b[0mmastml\u001b[0m\u001b[1;33m.\u001b[0m\u001b[0m__path__\u001b[0m\u001b[1;33m[\u001b[0m\u001b[1;36m0\u001b[0m\u001b[1;33m]\u001b[0m\u001b[1;33m,\u001b[0m \u001b[1;34m'data'\u001b[0m\u001b[1;33m)\u001b[0m\u001b[1;33m\u001b[0m\u001b[1;33m\u001b[0m\u001b[0m\n",
      "\u001b[1;31mModuleNotFoundError\u001b[0m: No module named 'mastml.baseline_tests'"
     ]
    }
   ],
   "source": [
    "import mastml\n",
    "from mastml.mastml import Mastml\n",
    "from mastml.datasets import LocalDatasets\n",
    "from mastml.models import SklearnModel, EnsembleModel\n",
    "from mastml.preprocessing import SklearnPreprocessor\n",
    "from mastml.metrics import Metrics\n",
    "from mastml.baseline_tests import Baseline_tests\n",
    "import os\n",
    "data_path = os.path.join(mastml.__path__[0], 'data')"
   ]
  },
  {
   "cell_type": "markdown",
   "id": "virgin-commitment",
   "metadata": {},
   "source": [
    "## Task 2: Import dataset <a name=\"task2\"></a>"
   ]
  },
  {
   "cell_type": "markdown",
   "id": "better-angle",
   "metadata": {},
   "source": [
    "In this tutorial, we will again use the diffusion dataset that we examined in the previous tutorial. Here, we use the LocalDatasets module to load in the diffusion dataset."
   ]
  },
  {
   "cell_type": "code",
   "execution_count": null,
   "id": "british-drive",
   "metadata": {},
   "outputs": [],
   "source": [
    "target = 'E_regression'\n",
    "\n",
    "extra_columns = ['Material compositions 1', 'Material compositions 2']\n",
    "\n",
    "d = LocalDatasets(file_path=data_path+'\\\\diffusion_data_selectfeatures.xlsx', \n",
    "                  target=target, \n",
    "                  extra_columns=extra_columns, \n",
    "                  group_column='Material compositions 1',\n",
    "                  testdata_columns=None,\n",
    "                  as_frame=True)\n",
    "\n",
    "# Load the data with the load_data() method\n",
    "data_dict = d.load_data()\n",
    "\n",
    "# Let's assign each data object to its respective name\n",
    "X = data_dict['X']\n",
    "y = data_dict['y']\n",
    "X_extra = data_dict['X_extra']\n",
    "groups = data_dict['groups']"
   ]
  },
  {
   "cell_type": "markdown",
   "id": "color-given",
   "metadata": {},
   "source": [
    " In this tutorial, we will be using RandomForestRegressor as our model"
   ]
  },
  {
   "cell_type": "code",
   "execution_count": null,
   "id": "expanded-liabilities",
   "metadata": {},
   "outputs": [],
   "source": [
    "model = SklearnModel(model='RandomForestRegressor', n_estimators=150)"
   ]
  },
  {
   "cell_type": "markdown",
   "id": "becoming-israeli",
   "metadata": {},
   "source": [
    "## Task 3:  Run baseline tests on our model <a name=\"task3\"></a>"
   ]
  },
  {
   "cell_type": "markdown",
   "id": "voluntary-frederick",
   "metadata": {},
   "source": [
    "We list which metrics we want to evaluate. If none are given, MAST-ML will default to evaulating just the root mean squared error. A complete list of metrics can be obtained from calling Metrics()._metric_zoo() in metrics.py.\n",
    "\n"
   ]
  },
  {
   "cell_type": "code",
   "execution_count": null,
   "id": "demographic-distance",
   "metadata": {},
   "outputs": [],
   "source": [
    "metrics = ['r2_score', 'mean_absolute_error', 'root_mean_squared_error', 'rmse_over_stdev']"
   ]
  },
  {
   "cell_type": "markdown",
   "id": "thousand-salvation",
   "metadata": {},
   "source": [
    "As in the previous tutorial, we need to define our preprocessing function. We are just going to use the basic StandardScaler in scikit-learn to normalize each column to have mean zero and standard deviation of one."
   ]
  },
  {
   "cell_type": "code",
   "execution_count": null,
   "id": "productive-lighter",
   "metadata": {},
   "outputs": [],
   "source": [
    "preprocessor = SklearnPreprocessor(preprocessor='StandardScaler', as_frame=True)\n",
    "preprocessor.evaluate(X,y)"
   ]
  },
  {
   "cell_type": "code",
   "execution_count": null,
   "id": "republican-stock",
   "metadata": {},
   "outputs": [],
   "source": [
    "model.fit(X=X, y=y)"
   ]
  },
  {
   "cell_type": "markdown",
   "id": "informal-thickness",
   "metadata": {},
   "source": [
    "Baseline_test takes in the argument X, y, model, and the metrics used to evaluate the model. Here we will go through on how to use the mean test"
   ]
  },
  {
   "cell_type": "code",
   "execution_count": null,
   "id": "varying-treaty",
   "metadata": {},
   "outputs": [],
   "source": [
    "baseline_test = Baseline_tests()"
   ]
  },
  {
   "cell_type": "markdown",
   "id": "aboriginal-bearing",
   "metadata": {},
   "source": [
    "test_mean will print out the score of the model tested with the actual y compared with the naive score of the model tested with the mean value of y"
   ]
  },
  {
   "cell_type": "code",
   "execution_count": null,
   "id": "waiting-prayer",
   "metadata": {},
   "outputs": [],
   "source": [
    "baseline_test.test_mean(X=X, y=y, model=model, metrics=metrics)"
   ]
  },
  {
   "cell_type": "markdown",
   "id": "mathematical-exemption",
   "metadata": {},
   "source": [
    "test_permuted will print out the score of the model tested with the actual y compared with the naive score of the model tested with the y shuffled so that it does not correspond to the X data"
   ]
  },
  {
   "cell_type": "code",
   "execution_count": null,
   "id": "continuous-scene",
   "metadata": {},
   "outputs": [],
   "source": [
    "baseline_test.test_permuted(X=X, y=y, model=model, metrics=metrics)"
   ]
  }
 ],
 "metadata": {
  "kernelspec": {
   "display_name": "Python 3",
   "language": "python",
   "name": "python3"
  },
  "language_info": {
   "codemirror_mode": {
    "name": "ipython",
    "version": 3
   },
   "file_extension": ".py",
   "mimetype": "text/x-python",
   "name": "python",
   "nbconvert_exporter": "python",
   "pygments_lexer": "ipython3",
   "version": "3.8.0"
  }
 },
 "nbformat": 4,
 "nbformat_minor": 5
}
