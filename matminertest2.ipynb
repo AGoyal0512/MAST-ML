{
 "cells": [
  {
   "cell_type": "code",
   "execution_count": 109,
   "metadata": {},
   "outputs": [],
   "source": [
    "from pymatgen.io.vasp.inputs import Poscar\n",
    "from pymatgen.core import Structure\n",
    "import pandas as pd\n",
    "\n",
    "STRUCTURE_DIR = '/Users/AlexDo/PycharmProjects/VASP_tools'\n",
    "\n",
    "f = Poscar.from_file(STRUCTURE_DIR+'/'+'Al2O3_POSCAR.POSCAR.vasp')\n",
    "elements = f.site_symbols\n",
    "structure = f.structure # This returns the data in the imported file as a pymatgen structure object\n",
    "\n",
    "\n",
    "d = {'Material': 'Al2O3', 'Structure': [structure]} # I think we want the entire structure object in a single cell of the dataframe\n",
    "df = pd.DataFrame(d)\n"
   ]
  },
  {
   "cell_type": "code",
   "execution_count": 110,
   "metadata": {},
   "outputs": [
    {
     "name": "stdout",
     "output_type": "stream",
     "text": [
      "mastml dir:  ['/Users/AlexDo/PycharmProjects/MAST-ML/mastml']\n"
     ]
    }
   ],
   "source": [
    "import multiprocessing\n",
    "import os\n",
    "import logging\n",
    "\n",
    "import numpy as np\n",
    "import pandas as pd\n",
    "\n",
    "from sklearn.base import BaseEstimator, TransformerMixin\n",
    "from sklearn.preprocessing import PolynomialFeatures as SklearnPolynomialFeatures\n",
    "\n",
    "# locate path to directory containing AtomicNumber.table, AtomicRadii.table AtomicVolume.table, etc\n",
    "# (needs to do it the hard way becuase python -m sets cwd to wherever python is ran from)\n",
    "\n",
    "# is this how you do it? Any other imports needed for this module then?\n",
    "import inspect # used to get a dictionary of classes in a module\n",
    "from matminer.featurizers import structure\n",
    "\n",
    "\n",
    "import mastml\n",
    "from mastml import utils\n",
    "log = logging.getLogger('mastml')\n",
    "print('mastml dir: ', mastml.__path__)\n",
    "MAGPIE_DATA_PATH = os.path.join(mastml.__path__[0], '../magpie/')\n",
    "\n",
    "\n",
    "class Matminer(BaseEstimator, TransformerMixin):\n",
    "    def __init__(self, structural_features, structure_col): # _instantiate only needs this\n",
    "        # assuming dataframe is coming in with a column 'Structure' with coords.\n",
    "        # where do I need to raise errors\n",
    "        structural_features = structural_features.split(', ') # structural feature is now cast as a list\n",
    "        self.structural_features = structural_features # structural feature field of class\n",
    "        self.structure_col = structure_col\n",
    "\n",
    "    def fit(self, df, y=None):\n",
    "        return self\n",
    "\n",
    "    def transform(self, df, y=None):\n",
    "        # any possible errors i need to raise?\n",
    "        for struc_feat in range(len(self.structural_features)): # nested for loop to iterate through structural features list\n",
    "            for feature_name in inspect.getmembers(structure, inspect.isclass):\n",
    "              # will get list of all classes in structure module\n",
    "                if feature_name[0] == self.structural_features[struc_feat]:\n",
    "                    sf = getattr(structure, self.structural_features[struc_feat])() # instantiates the structure featurizer\n",
    "                    df = sf.fit_featurize_dataframe(df, self.structure_col)  # fit_featurize_dataframe() works for all\n",
    "                     # if for loop passed, structural_feature was not a valid structural feature\n",
    "                    break\n",
    "                    \n",
    "        return df  # I think it should return the updated dataframe to concatenate\n",
    "\n"
   ]
  },
  {
   "cell_type": "code",
   "execution_count": 111,
   "metadata": {},
   "outputs": [
    {
     "data": {
      "application/vnd.jupyter.widget-view+json": {
       "model_id": "643554dc4c654521b24ac24b1381d3fc",
       "version_major": 2,
       "version_minor": 0
      },
      "text/plain": [
       "HBox(children=(IntProgress(value=0, description='Dimensionality', max=1, style=ProgressStyle(description_width…"
      ]
     },
     "metadata": {},
     "output_type": "display_data"
    },
    {
     "name": "stderr",
     "output_type": "stream",
     "text": [
      "/Users/AlexDo/anaconda3/lib/python3.6/site-packages/matminer/featurizers/structure.py:184: DeprecationWarning:\n",
      "\n",
      "get_dimensionality is deprecated\n",
      "find_dimension has been moved topymatgen.analysis.dimensionality.get_dimensionality_gorai this method will be removed in pymatgen v2019.1.1.\n",
      "\n"
     ]
    },
    {
     "name": "stdout",
     "output_type": "stream",
     "text": [
      "\n"
     ]
    },
    {
     "data": {
      "application/vnd.jupyter.widget-view+json": {
       "model_id": "efb92c54ff0442339d6b3528a2ffa91a",
       "version_major": 2,
       "version_minor": 0
      },
      "text/plain": [
       "HBox(children=(IntProgress(value=0, description='CoulombMatrix', max=1, style=ProgressStyle(description_width=…"
      ]
     },
     "metadata": {},
     "output_type": "display_data"
    },
    {
     "name": "stdout",
     "output_type": "stream",
     "text": [
      "\n"
     ]
    },
    {
     "data": {
      "application/vnd.jupyter.widget-view+json": {
       "model_id": "f1e83b050743499d84bdd509974fc955",
       "version_major": 2,
       "version_minor": 0
      },
      "text/plain": [
       "HBox(children=(IntProgress(value=0, description='SineCoulombMatrix', max=1, style=ProgressStyle(description_wi…"
      ]
     },
     "metadata": {},
     "output_type": "display_data"
    },
    {
     "name": "stdout",
     "output_type": "stream",
     "text": [
      "\n"
     ]
    },
    {
     "data": {
      "application/vnd.jupyter.widget-view+json": {
       "model_id": "9dd5888c01fb4164a8451d0fe7c3777c",
       "version_major": 2,
       "version_minor": 0
      },
      "text/plain": [
       "HBox(children=(IntProgress(value=0, description='GlobalSymmetryFeatures', max=1, style=ProgressStyle(descripti…"
      ]
     },
     "metadata": {},
     "output_type": "display_data"
    },
    {
     "name": "stdout",
     "output_type": "stream",
     "text": [
      "\n"
     ]
    },
    {
     "data": {
      "text/html": [
       "<div>\n",
       "<style scoped>\n",
       "    .dataframe tbody tr th:only-of-type {\n",
       "        vertical-align: middle;\n",
       "    }\n",
       "\n",
       "    .dataframe tbody tr th {\n",
       "        vertical-align: top;\n",
       "    }\n",
       "\n",
       "    .dataframe thead th {\n",
       "        text-align: right;\n",
       "    }\n",
       "</style>\n",
       "<table border=\"1\" class=\"dataframe\">\n",
       "  <thead>\n",
       "    <tr style=\"text-align: right;\">\n",
       "      <th></th>\n",
       "      <th>Material</th>\n",
       "      <th>Structure</th>\n",
       "      <th>dimensionality</th>\n",
       "      <th>coulomb matrix</th>\n",
       "      <th>sine coulomb matrix</th>\n",
       "      <th>spacegroup_num</th>\n",
       "      <th>crystal_system</th>\n",
       "      <th>crystal_system_int</th>\n",
       "      <th>is_centrosymmetric</th>\n",
       "    </tr>\n",
       "  </thead>\n",
       "  <tbody>\n",
       "    <tr>\n",
       "      <th>0</th>\n",
       "      <td>Al2O3</td>\n",
       "      <td>[[0.         0.         1.93994619] Al, [ 0.  ...</td>\n",
       "      <td>3</td>\n",
       "      <td>[[235.74041833262768, 23.049509471319066, 33.3...</td>\n",
       "      <td>[[235.74041833262768, 10.621430816382633, 19.0...</td>\n",
       "      <td>167</td>\n",
       "      <td>trigonal</td>\n",
       "      <td>3</td>\n",
       "      <td>True</td>\n",
       "    </tr>\n",
       "  </tbody>\n",
       "</table>\n",
       "</div>"
      ],
      "text/plain": [
       "  Material                                          Structure  dimensionality  \\\n",
       "0    Al2O3  [[0.         0.         1.93994619] Al, [ 0.  ...               3   \n",
       "\n",
       "                                      coulomb matrix  \\\n",
       "0  [[235.74041833262768, 23.049509471319066, 33.3...   \n",
       "\n",
       "                                 sine coulomb matrix  spacegroup_num  \\\n",
       "0  [[235.74041833262768, 10.621430816382633, 19.0...             167   \n",
       "\n",
       "  crystal_system  crystal_system_int  is_centrosymmetric  \n",
       "0       trigonal                   3                True  "
      ]
     },
     "execution_count": 111,
     "metadata": {},
     "output_type": "execute_result"
    }
   ],
   "source": [
    "y = None\n",
    "Matminer(\"Dimensionality, CoulombMatrix, SineCoulombMatrix, GlobalSymmetryFeatures\", \"Structure\").fit_transform(df, y)"
   ]
  },
  {
   "cell_type": "code",
   "execution_count": 78,
   "metadata": {},
   "outputs": [
    {
     "data": {
      "text/plain": [
       "'str'"
      ]
     },
     "execution_count": 78,
     "metadata": {},
     "output_type": "execute_result"
    }
   ],
   "source": [
    "s1 = \"Dimensionality\"\n",
    "s2 = \"Dimensionality\"\n",
    "s1.__class__.__name__\n"
   ]
  },
  {
   "cell_type": "code",
   "execution_count": 12,
   "metadata": {},
   "outputs": [
    {
     "data": {
      "text/plain": [
       "('Dimensionality, CoulombMatrix, SineCoulomb, GlobalSymmetryFeatures',\n",
       " ['Structure'])"
      ]
     },
     "execution_count": 12,
     "metadata": {},
     "output_type": "execute_result"
    }
   ],
   "source": []
  },
  {
   "cell_type": "code",
   "execution_count": null,
   "metadata": {},
   "outputs": [],
   "source": []
  }
 ],
 "metadata": {
  "kernelspec": {
   "display_name": "Python 3",
   "language": "python",
   "name": "python3"
  },
  "language_info": {
   "codemirror_mode": {
    "name": "ipython",
    "version": 3
   },
   "file_extension": ".py",
   "mimetype": "text/x-python",
   "name": "python",
   "nbconvert_exporter": "python",
   "pygments_lexer": "ipython3",
   "version": "3.6.8"
  }
 },
 "nbformat": 4,
 "nbformat_minor": 2
}
