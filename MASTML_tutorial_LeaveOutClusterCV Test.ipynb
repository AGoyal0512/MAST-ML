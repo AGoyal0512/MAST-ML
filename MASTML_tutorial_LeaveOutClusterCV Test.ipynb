{
 "cells": [
  {
   "cell_type": "code",
   "execution_count": null,
   "metadata": {
    "colab": {
     "base_uri": "https://localhost:8080/"
    },
    "executionInfo": {
     "elapsed": 10523,
     "status": "ok",
     "timestamp": 1614624209059,
     "user": {
      "displayName": "Ryan Jacobs",
      "photoUrl": "",
      "userId": "08020825119070462259"
     },
     "user_tz": 360
    },
    "id": "xdEXmdzP7kWN",
    "outputId": "52f31504-19a9-4897-d4b5-39b27b3efaab"
   },
   "outputs": [],
   "source": [
    "# Begin by cloning the development branch of MAST-ML to the Colab session\n",
    "!git clone --single-branch --branch dev_Ryan_2020-12-21 https://github.com/uw-cmg/MAST-ML"
   ]
  },
  {
   "cell_type": "code",
   "execution_count": null,
   "metadata": {
    "colab": {
     "base_uri": "https://localhost:8080/"
    },
    "executionInfo": {
     "elapsed": 64855,
     "status": "ok",
     "timestamp": 1614624274653,
     "user": {
      "displayName": "Ryan Jacobs",
      "photoUrl": "",
      "userId": "08020825119070462259"
     },
     "user_tz": 360
    },
    "id": "hqhQ2pXcvCwU",
    "outputId": "98a12756-3d2c-46b6-90be-b29e08f913c7"
   },
   "outputs": [],
   "source": [
    "# Next, we install the required dependencies of MAST-ML to our Colab session\n",
    "!pip install -r MAST-ML/requirements.txt"
   ]
  },
  {
   "cell_type": "code",
   "execution_count": 1,
   "metadata": {
    "colab": {
     "base_uri": "https://localhost:8080/"
    },
    "executionInfo": {
     "elapsed": 23965,
     "status": "ok",
     "timestamp": 1614624307314,
     "user": {
      "displayName": "Ryan Jacobs",
      "photoUrl": "",
      "userId": "08020825119070462259"
     },
     "user_tz": 360
    },
    "id": "w-jHgEAFquSh",
    "outputId": "3a745bff-5d3b-4f64-df23-7095a8d0c670"
   },
   "outputs": [
    {
     "ename": "ModuleNotFoundError",
     "evalue": "No module named 'google'",
     "output_type": "error",
     "traceback": [
      "\u001b[1;31m---------------------------------------------------------------------------\u001b[0m",
      "\u001b[1;31mModuleNotFoundError\u001b[0m                       Traceback (most recent call last)",
      "\u001b[1;32m<ipython-input-1-f3dcea2dd795>\u001b[0m in \u001b[0;36m<module>\u001b[1;34m\u001b[0m\n\u001b[0;32m      2\u001b[0m \u001b[1;31m# Drive. If we save to the Colab session, the data will be deleted when the session\u001b[0m\u001b[1;33m\u001b[0m\u001b[1;33m\u001b[0m\u001b[1;33m\u001b[0m\u001b[0m\n\u001b[0;32m      3\u001b[0m \u001b[1;31m# ends.\u001b[0m\u001b[1;33m\u001b[0m\u001b[1;33m\u001b[0m\u001b[1;33m\u001b[0m\u001b[0m\n\u001b[1;32m----> 4\u001b[1;33m \u001b[1;32mfrom\u001b[0m \u001b[0mgoogle\u001b[0m\u001b[1;33m.\u001b[0m\u001b[0mcolab\u001b[0m \u001b[1;32mimport\u001b[0m \u001b[0mdrive\u001b[0m\u001b[1;33m\u001b[0m\u001b[1;33m\u001b[0m\u001b[0m\n\u001b[0m\u001b[0;32m      5\u001b[0m \u001b[0mdrive\u001b[0m\u001b[1;33m.\u001b[0m\u001b[0mmount\u001b[0m\u001b[1;33m(\u001b[0m\u001b[1;34m'/content/drive'\u001b[0m\u001b[1;33m,\u001b[0m \u001b[0mforce_remount\u001b[0m\u001b[1;33m=\u001b[0m\u001b[1;32mTrue\u001b[0m\u001b[1;33m)\u001b[0m\u001b[1;33m\u001b[0m\u001b[1;33m\u001b[0m\u001b[0m\n",
      "\u001b[1;31mModuleNotFoundError\u001b[0m: No module named 'google'"
     ]
    }
   ],
   "source": [
    "# Sync your Google drive to Colab so that we can save MAST-ML results to our Google\n",
    "# Drive. If we save to the Colab session, the data will be deleted when the session \n",
    "# ends.\n",
    "from google.colab import drive\n",
    "drive.mount('/content/drive', force_remount=True)"
   ]
  },
  {
   "cell_type": "code",
   "execution_count": 2,
   "metadata": {
    "executionInfo": {
     "elapsed": 322,
     "status": "ok",
     "timestamp": 1614624313213,
     "user": {
      "displayName": "Ryan Jacobs",
      "photoUrl": "",
      "userId": "08020825119070462259"
     },
     "user_tz": 360
    },
    "id": "nwQO48j1ws3S"
   },
   "outputs": [],
   "source": [
    "# We need to add the MAST-ML folder to our sys path so that python can find the modules\n",
    "import sys\n",
    "sys.path.append('MAST-ML')"
   ]
  },
  {
   "cell_type": "code",
   "execution_count": 3,
   "metadata": {
    "colab": {
     "base_uri": "https://localhost:8080/"
    },
    "executionInfo": {
     "elapsed": 2336,
     "status": "ok",
     "timestamp": 1614624316133,
     "user": {
      "displayName": "Ryan Jacobs",
      "photoUrl": "",
      "userId": "08020825119070462259"
     },
     "user_tz": 360
    },
    "id": "x8GIei1qQoWL",
    "outputId": "6480ed4e-44d3-43c9-f5c3-1fb1c1063801"
   },
   "outputs": [
    {
     "name": "stdout",
     "output_type": "stream",
     "text": [
      "Figshare is an optional dependency. To import data from figshare, manually install figshare via git clone of git clone https://github.com/cognoma/figshare.git\n",
      "forestci is an optional dependency. To install latest forestci compatabilty with scikit-learn>=0.24, run pip install git+git://github.com/scikit-learn-contrib/forest-confidence-interval.git\n",
      "XGBoost is an optional dependency. If you want to use XGBoost models, please manually install xgboost package with pip install xgboost. If have error with finding libxgboost.dylib library, dobrew install libomp. If do not have brew on your system, first do ruby -e \"$(curl -fsSL https://raw.githubusercontent.com/Homebrew/install/master/install)\" from the Terminal\n",
      "Keras is an optional dependency. To use keras, do pip install keras tensorflow\n",
      "matminer and pymatgen are optional dependencies. To use data splitter methods invoking these packages,do pip install matminer pymatgen\n"
     ]
    }
   ],
   "source": [
    "# Here we import the MAST-ML modules used in this tutorial\n",
    "from mastml.mastml import Mastml\n",
    "from mastml.datasets import LocalDatasets#, DataCleaning\n",
    "from mastml.data_cleaning import DataCleaning\n",
    "from mastml.preprocessing import SklearnPreprocessor\n",
    "from mastml.models import SklearnModel\n",
    "from mastml.data_splitters import SklearnDataSplitter, NoSplit\n",
    "from mastml.feature_selectors import EnsembleModelFeatureSelector, NoSelect"
   ]
  },
  {
   "cell_type": "code",
   "execution_count": 4,
   "metadata": {
    "colab": {
     "base_uri": "https://localhost:8080/"
    },
    "executionInfo": {
     "elapsed": 385,
     "status": "ok",
     "timestamp": 1614624317207,
     "user": {
      "displayName": "Ryan Jacobs",
      "photoUrl": "",
      "userId": "08020825119070462259"
     },
     "user_tz": 360
    },
    "id": "Xf8MFHjlM7Oe",
    "outputId": "71bbe4eb-544e-40de-ef0d-b57e8f632841"
   },
   "outputs": [
    {
     "name": "stdout",
     "output_type": "stream",
     "text": [
      "drive/MyDrive/MASTML_results_2021-03-01 not empty. Renaming...\n"
     ]
    }
   ],
   "source": [
    "# Set the name of the savepath to save MAST-ML results to\n",
    "SAVEPATH = 'drive/MyDrive/MASTML_results_2021-03-01'\n",
    "\n",
    "# Initialize the MAST-ML run, write savepath\n",
    "mastml = Mastml(savepath=SAVEPATH)\n",
    "savepath = mastml.get_savepath"
   ]
  },
  {
   "cell_type": "code",
   "execution_count": 5,
   "metadata": {
    "colab": {
     "base_uri": "https://localhost:8080/"
    },
    "executionInfo": {
     "elapsed": 1703,
     "status": "ok",
     "timestamp": 1614624321127,
     "user": {
      "displayName": "Ryan Jacobs",
      "photoUrl": "",
      "userId": "08020825119070462259"
     },
     "user_tz": 360
    },
    "id": "kWxrG-RgxeTA",
    "outputId": "2e65e0d7-bb6e-47ea-8258-74fb55ce65a9"
   },
   "outputs": [
    {
     "name": "stdout",
     "output_type": "stream",
     "text": [
      "WARNING: feature_names not specified but target was specified. Assuming all columns except target and extra columns are features\n"
     ]
    }
   ],
   "source": [
    "# Here, we use the LocalDatasets module to load in a dataset. We are using the\n",
    "# diffusion dataset for this example\n",
    "\n",
    "# Need to denote the column name of the target (y-data)\n",
    "target = 'E_regression.1'\n",
    "\n",
    "# There are columns in the data file not used as features or target. We need to\n",
    "# list them here in the parameter extra_columns\n",
    "extra_columns = ['Material compositions 1', 'Material compositions 2', 'Hop activation barrier', 'E_regression']\n",
    "\n",
    "# Here, we make an instance of our LocalDatasets class. It needs a few parameters:\n",
    "#   file_path: where the data is stored\n",
    "#   target: the column name of the y-data\n",
    "#   extra_columns: list containing extra columns in the data file not used for fitting\n",
    "#   group_column: column name denoting group labels (only used for LeaveOutGroup CV)\n",
    "#   testdata_columns: column names denoting left-out data to evaluate using best\n",
    "#     model from CV tests. This is manual way to leave out data. Can also be done\n",
    "#     automatically using nested CV (will see below)\n",
    "#   as_frame: whether to return data as dataframe. Want this to be true.\n",
    "d = LocalDatasets(file_path='mastml/data/figshare_7418492/All_Model_Data.xlsx', \n",
    "                  target=target, \n",
    "                  extra_columns=extra_columns, \n",
    "                  group_column='Material compositions 1',\n",
    "                  testdata_columns=None,\n",
    "                  as_frame=True)\n",
    "\n",
    "# Load the data with the load_data() method\n",
    "data_dict = d.load_data()"
   ]
  },
  {
   "cell_type": "code",
   "execution_count": 6,
   "metadata": {
    "colab": {
     "base_uri": "https://localhost:8080/"
    },
    "executionInfo": {
     "elapsed": 359,
     "status": "ok",
     "timestamp": 1614624323588,
     "user": {
      "displayName": "Ryan Jacobs",
      "photoUrl": "",
      "userId": "08020825119070462259"
     },
     "user_tz": 360
    },
    "id": "Nrx-OGW3_dap",
    "outputId": "29637430-ed31-420f-b1f7-1e6bba82ed68"
   },
   "outputs": [
    {
     "data": {
      "text/plain": [
       "dict_keys(['X', 'y', 'groups', 'X_extra', 'X_testdata'])"
      ]
     },
     "execution_count": 6,
     "metadata": {},
     "output_type": "execute_result"
    }
   ],
   "source": [
    "# Let's look at the contents of the loaded data_dict\n",
    "data_dict.keys()\n",
    "\n",
    "# We see there are 5 keys:\n",
    "#   X: the X feature matrix (used to fit the ML model)\n",
    "#   y: the y target data vector (true values)\n",
    "#   X_extra: matrix of extra information not used in fitting (i.e. not part of X or y)\n",
    "#   groups: vector of group labels (here, a list of host elements)\n",
    "#   X_testdata: matrix or vector of left out data. Empty for our current example."
   ]
  },
  {
   "cell_type": "code",
   "execution_count": 7,
   "metadata": {
    "executionInfo": {
     "elapsed": 347,
     "status": "ok",
     "timestamp": 1614624324573,
     "user": {
      "displayName": "Ryan Jacobs",
      "photoUrl": "",
      "userId": "08020825119070462259"
     },
     "user_tz": 360
    },
    "id": "a-Lrm2lG_7hi"
   },
   "outputs": [],
   "source": [
    "# Let's assign each data object to its respective name\n",
    "\n",
    "X = data_dict['X']\n",
    "y = data_dict['y']\n",
    "X_extra = data_dict['X_extra']\n",
    "groups = data_dict['groups']\n",
    "X_testdata = data_dict['X_testdata']"
   ]
  },
  {
   "cell_type": "code",
   "execution_count": 8,
   "metadata": {
    "colab": {
     "base_uri": "https://localhost:8080/",
     "height": 439
    },
    "executionInfo": {
     "elapsed": 479,
     "status": "ok",
     "timestamp": 1614624326745,
     "user": {
      "displayName": "Ryan Jacobs",
      "photoUrl": "",
      "userId": "08020825119070462259"
     },
     "user_tz": 360
    },
    "id": "pR-pTG-Zx-AW",
    "outputId": "61821148-e448-4f58-fefe-e2a1e72e7fdf"
   },
   "outputs": [
    {
     "data": {
      "text/html": [
       "<div>\n",
       "<style scoped>\n",
       "    .dataframe tbody tr th:only-of-type {\n",
       "        vertical-align: middle;\n",
       "    }\n",
       "\n",
       "    .dataframe tbody tr th {\n",
       "        vertical-align: top;\n",
       "    }\n",
       "\n",
       "    .dataframe thead th {\n",
       "        text-align: right;\n",
       "    }\n",
       "</style>\n",
       "<table border=\"1\" class=\"dataframe\">\n",
       "  <thead>\n",
       "    <tr style=\"text-align: right;\">\n",
       "      <th></th>\n",
       "      <th>valence_composition_average</th>\n",
       "      <th>phi_composition_average</th>\n",
       "      <th>NdValence_composition_average</th>\n",
       "      <th>MiracleRadius_composition_average</th>\n",
       "      <th>GSestFCClatcnt_composition_average</th>\n",
       "      <th>SecondIonizationEnergy_composition_average</th>\n",
       "      <th>IonizationEnergy_composition_average</th>\n",
       "      <th>n_ws^third_composition_average</th>\n",
       "      <th>ThermalConductivity_composition_average</th>\n",
       "      <th>CovalentRadius_composition_average</th>\n",
       "      <th>...</th>\n",
       "      <th>Site2_MendeleevNumber</th>\n",
       "      <th>Site2_ElasticModulus</th>\n",
       "      <th>Site2_Electronegativity</th>\n",
       "      <th>Site2_AtomicWeight</th>\n",
       "      <th>Site2_HeatFusion</th>\n",
       "      <th>Site2_SpecificHeatCapacity</th>\n",
       "      <th>Site2_AtomicRadii</th>\n",
       "      <th>Site2_ThermalExpansionCoefficient</th>\n",
       "      <th>Site2_BCCefflatcnt</th>\n",
       "      <th>Site2_AtomicVolume</th>\n",
       "    </tr>\n",
       "  </thead>\n",
       "  <tbody>\n",
       "    <tr>\n",
       "      <th>0</th>\n",
       "      <td>2.0</td>\n",
       "      <td>4.350</td>\n",
       "      <td>10.0</td>\n",
       "      <td>144.0</td>\n",
       "      <td>4.027313</td>\n",
       "      <td>21.4900</td>\n",
       "      <td>731.00</td>\n",
       "      <td>1.360</td>\n",
       "      <td>429.00</td>\n",
       "      <td>145.0</td>\n",
       "      <td>...</td>\n",
       "      <td>65</td>\n",
       "      <td>80.0</td>\n",
       "      <td>1.93</td>\n",
       "      <td>107.868200</td>\n",
       "      <td>11.30</td>\n",
       "      <td>0.235</td>\n",
       "      <td>1.444</td>\n",
       "      <td>18.9</td>\n",
       "      <td>6.375951</td>\n",
       "      <td>17.075648</td>\n",
       "    </tr>\n",
       "    <tr>\n",
       "      <th>1</th>\n",
       "      <td>2.5</td>\n",
       "      <td>4.725</td>\n",
       "      <td>8.5</td>\n",
       "      <td>134.5</td>\n",
       "      <td>3.737485</td>\n",
       "      <td>19.2750</td>\n",
       "      <td>744.50</td>\n",
       "      <td>1.555</td>\n",
       "      <td>264.50</td>\n",
       "      <td>135.5</td>\n",
       "      <td>...</td>\n",
       "      <td>58</td>\n",
       "      <td>208.0</td>\n",
       "      <td>1.88</td>\n",
       "      <td>58.933195</td>\n",
       "      <td>16.20</td>\n",
       "      <td>0.421</td>\n",
       "      <td>1.253</td>\n",
       "      <td>13.0</td>\n",
       "      <td>5.507318</td>\n",
       "      <td>10.995861</td>\n",
       "    </tr>\n",
       "    <tr>\n",
       "      <th>2</th>\n",
       "      <td>4.0</td>\n",
       "      <td>4.500</td>\n",
       "      <td>7.5</td>\n",
       "      <td>137.0</td>\n",
       "      <td>3.788936</td>\n",
       "      <td>18.9950</td>\n",
       "      <td>691.90</td>\n",
       "      <td>1.545</td>\n",
       "      <td>261.35</td>\n",
       "      <td>142.0</td>\n",
       "      <td>...</td>\n",
       "      <td>49</td>\n",
       "      <td>259.0</td>\n",
       "      <td>1.66</td>\n",
       "      <td>51.996100</td>\n",
       "      <td>21.00</td>\n",
       "      <td>0.449</td>\n",
       "      <td>1.249</td>\n",
       "      <td>4.9</td>\n",
       "      <td>5.632801</td>\n",
       "      <td>12.092937</td>\n",
       "    </tr>\n",
       "    <tr>\n",
       "      <th>3</th>\n",
       "      <td>2.0</td>\n",
       "      <td>4.400</td>\n",
       "      <td>10.0</td>\n",
       "      <td>135.0</td>\n",
       "      <td>3.782567</td>\n",
       "      <td>20.8910</td>\n",
       "      <td>738.20</td>\n",
       "      <td>1.415</td>\n",
       "      <td>415.00</td>\n",
       "      <td>138.5</td>\n",
       "      <td>...</td>\n",
       "      <td>64</td>\n",
       "      <td>124.0</td>\n",
       "      <td>1.90</td>\n",
       "      <td>63.546000</td>\n",
       "      <td>13.60</td>\n",
       "      <td>0.385</td>\n",
       "      <td>1.278</td>\n",
       "      <td>16.5</td>\n",
       "      <td>5.617632</td>\n",
       "      <td>11.829942</td>\n",
       "    </tr>\n",
       "    <tr>\n",
       "      <th>4</th>\n",
       "      <td>4.0</td>\n",
       "      <td>4.640</td>\n",
       "      <td>8.0</td>\n",
       "      <td>134.5</td>\n",
       "      <td>3.764269</td>\n",
       "      <td>18.8350</td>\n",
       "      <td>745.15</td>\n",
       "      <td>1.565</td>\n",
       "      <td>254.60</td>\n",
       "      <td>138.5</td>\n",
       "      <td>...</td>\n",
       "      <td>55</td>\n",
       "      <td>211.0</td>\n",
       "      <td>1.83</td>\n",
       "      <td>55.845000</td>\n",
       "      <td>13.81</td>\n",
       "      <td>0.449</td>\n",
       "      <td>1.241</td>\n",
       "      <td>11.8</td>\n",
       "      <td>5.557847</td>\n",
       "      <td>11.777365</td>\n",
       "    </tr>\n",
       "    <tr>\n",
       "      <th>...</th>\n",
       "      <td>...</td>\n",
       "      <td>...</td>\n",
       "      <td>...</td>\n",
       "      <td>...</td>\n",
       "      <td>...</td>\n",
       "      <td>...</td>\n",
       "      <td>...</td>\n",
       "      <td>...</td>\n",
       "      <td>...</td>\n",
       "      <td>...</td>\n",
       "      <td>...</td>\n",
       "      <td>...</td>\n",
       "      <td>...</td>\n",
       "      <td>...</td>\n",
       "      <td>...</td>\n",
       "      <td>...</td>\n",
       "      <td>...</td>\n",
       "      <td>...</td>\n",
       "      <td>...</td>\n",
       "      <td>...</td>\n",
       "      <td>...</td>\n",
       "    </tr>\n",
       "    <tr>\n",
       "      <th>403</th>\n",
       "      <td>4.5</td>\n",
       "      <td>3.750</td>\n",
       "      <td>3.0</td>\n",
       "      <td>150.5</td>\n",
       "      <td>4.350534</td>\n",
       "      <td>13.7250</td>\n",
       "      <td>662.00</td>\n",
       "      <td>1.525</td>\n",
       "      <td>38.20</td>\n",
       "      <td>169.5</td>\n",
       "      <td>...</td>\n",
       "      <td>47</td>\n",
       "      <td>104.0</td>\n",
       "      <td>1.60</td>\n",
       "      <td>92.906380</td>\n",
       "      <td>30.00</td>\n",
       "      <td>0.265</td>\n",
       "      <td>1.429</td>\n",
       "      <td>7.3</td>\n",
       "      <td>6.625794</td>\n",
       "      <td>18.002133</td>\n",
       "    </tr>\n",
       "    <tr>\n",
       "      <th>404</th>\n",
       "      <td>4.5</td>\n",
       "      <td>3.750</td>\n",
       "      <td>2.5</td>\n",
       "      <td>151.5</td>\n",
       "      <td>4.348236</td>\n",
       "      <td>6.5650</td>\n",
       "      <td>710.50</td>\n",
       "      <td>1.520</td>\n",
       "      <td>40.10</td>\n",
       "      <td>172.5</td>\n",
       "      <td>...</td>\n",
       "      <td>48</td>\n",
       "      <td>183.0</td>\n",
       "      <td>1.50</td>\n",
       "      <td>180.947880</td>\n",
       "      <td>36.57</td>\n",
       "      <td>0.140</td>\n",
       "      <td>1.430</td>\n",
       "      <td>6.3</td>\n",
       "      <td>6.618497</td>\n",
       "      <td>18.046730</td>\n",
       "    </tr>\n",
       "    <tr>\n",
       "      <th>405</th>\n",
       "      <td>4.0</td>\n",
       "      <td>3.625</td>\n",
       "      <td>2.0</td>\n",
       "      <td>150.0</td>\n",
       "      <td>4.291886</td>\n",
       "      <td>13.3550</td>\n",
       "      <td>659.00</td>\n",
       "      <td>1.465</td>\n",
       "      <td>22.30</td>\n",
       "      <td>167.5</td>\n",
       "      <td>...</td>\n",
       "      <td>43</td>\n",
       "      <td>110.0</td>\n",
       "      <td>1.54</td>\n",
       "      <td>47.867000</td>\n",
       "      <td>14.15</td>\n",
       "      <td>0.523</td>\n",
       "      <td>1.448</td>\n",
       "      <td>8.6</td>\n",
       "      <td>6.458833</td>\n",
       "      <td>17.636317</td>\n",
       "    </tr>\n",
       "    <tr>\n",
       "      <th>406</th>\n",
       "      <td>4.0</td>\n",
       "      <td>3.525</td>\n",
       "      <td>2.0</td>\n",
       "      <td>158.0</td>\n",
       "      <td>4.494239</td>\n",
       "      <td>14.0275</td>\n",
       "      <td>651.00</td>\n",
       "      <td>1.430</td>\n",
       "      <td>22.85</td>\n",
       "      <td>175.0</td>\n",
       "      <td>...</td>\n",
       "      <td>45</td>\n",
       "      <td>139.0</td>\n",
       "      <td>1.30</td>\n",
       "      <td>178.490000</td>\n",
       "      <td>27.20</td>\n",
       "      <td>0.140</td>\n",
       "      <td>1.564</td>\n",
       "      <td>5.9</td>\n",
       "      <td>7.046762</td>\n",
       "      <td>22.268711</td>\n",
       "    </tr>\n",
       "    <tr>\n",
       "      <th>407</th>\n",
       "      <td>4.0</td>\n",
       "      <td>3.800</td>\n",
       "      <td>6.0</td>\n",
       "      <td>156.5</td>\n",
       "      <td>4.816669</td>\n",
       "      <td>13.8810</td>\n",
       "      <td>684.30</td>\n",
       "      <td>1.325</td>\n",
       "      <td>44.65</td>\n",
       "      <td>157.0</td>\n",
       "      <td>...</td>\n",
       "      <td>80</td>\n",
       "      <td>50.0</td>\n",
       "      <td>1.96</td>\n",
       "      <td>118.710000</td>\n",
       "      <td>7.15</td>\n",
       "      <td>0.228</td>\n",
       "      <td>1.620</td>\n",
       "      <td>22.0</td>\n",
       "      <td>7.390589</td>\n",
       "      <td>26.966785</td>\n",
       "    </tr>\n",
       "  </tbody>\n",
       "</table>\n",
       "<p>408 rows × 287 columns</p>\n",
       "</div>"
      ],
      "text/plain": [
       "     valence_composition_average  phi_composition_average  \\\n",
       "0                            2.0                    4.350   \n",
       "1                            2.5                    4.725   \n",
       "2                            4.0                    4.500   \n",
       "3                            2.0                    4.400   \n",
       "4                            4.0                    4.640   \n",
       "..                           ...                      ...   \n",
       "403                          4.5                    3.750   \n",
       "404                          4.5                    3.750   \n",
       "405                          4.0                    3.625   \n",
       "406                          4.0                    3.525   \n",
       "407                          4.0                    3.800   \n",
       "\n",
       "     NdValence_composition_average  MiracleRadius_composition_average  \\\n",
       "0                             10.0                              144.0   \n",
       "1                              8.5                              134.5   \n",
       "2                              7.5                              137.0   \n",
       "3                             10.0                              135.0   \n",
       "4                              8.0                              134.5   \n",
       "..                             ...                                ...   \n",
       "403                            3.0                              150.5   \n",
       "404                            2.5                              151.5   \n",
       "405                            2.0                              150.0   \n",
       "406                            2.0                              158.0   \n",
       "407                            6.0                              156.5   \n",
       "\n",
       "     GSestFCClatcnt_composition_average  \\\n",
       "0                              4.027313   \n",
       "1                              3.737485   \n",
       "2                              3.788936   \n",
       "3                              3.782567   \n",
       "4                              3.764269   \n",
       "..                                  ...   \n",
       "403                            4.350534   \n",
       "404                            4.348236   \n",
       "405                            4.291886   \n",
       "406                            4.494239   \n",
       "407                            4.816669   \n",
       "\n",
       "     SecondIonizationEnergy_composition_average  \\\n",
       "0                                       21.4900   \n",
       "1                                       19.2750   \n",
       "2                                       18.9950   \n",
       "3                                       20.8910   \n",
       "4                                       18.8350   \n",
       "..                                          ...   \n",
       "403                                     13.7250   \n",
       "404                                      6.5650   \n",
       "405                                     13.3550   \n",
       "406                                     14.0275   \n",
       "407                                     13.8810   \n",
       "\n",
       "     IonizationEnergy_composition_average  n_ws^third_composition_average  \\\n",
       "0                                  731.00                           1.360   \n",
       "1                                  744.50                           1.555   \n",
       "2                                  691.90                           1.545   \n",
       "3                                  738.20                           1.415   \n",
       "4                                  745.15                           1.565   \n",
       "..                                    ...                             ...   \n",
       "403                                662.00                           1.525   \n",
       "404                                710.50                           1.520   \n",
       "405                                659.00                           1.465   \n",
       "406                                651.00                           1.430   \n",
       "407                                684.30                           1.325   \n",
       "\n",
       "     ThermalConductivity_composition_average  \\\n",
       "0                                     429.00   \n",
       "1                                     264.50   \n",
       "2                                     261.35   \n",
       "3                                     415.00   \n",
       "4                                     254.60   \n",
       "..                                       ...   \n",
       "403                                    38.20   \n",
       "404                                    40.10   \n",
       "405                                    22.30   \n",
       "406                                    22.85   \n",
       "407                                    44.65   \n",
       "\n",
       "     CovalentRadius_composition_average  ...  Site2_MendeleevNumber  \\\n",
       "0                                 145.0  ...                     65   \n",
       "1                                 135.5  ...                     58   \n",
       "2                                 142.0  ...                     49   \n",
       "3                                 138.5  ...                     64   \n",
       "4                                 138.5  ...                     55   \n",
       "..                                  ...  ...                    ...   \n",
       "403                               169.5  ...                     47   \n",
       "404                               172.5  ...                     48   \n",
       "405                               167.5  ...                     43   \n",
       "406                               175.0  ...                     45   \n",
       "407                               157.0  ...                     80   \n",
       "\n",
       "     Site2_ElasticModulus  Site2_Electronegativity  Site2_AtomicWeight  \\\n",
       "0                    80.0                     1.93          107.868200   \n",
       "1                   208.0                     1.88           58.933195   \n",
       "2                   259.0                     1.66           51.996100   \n",
       "3                   124.0                     1.90           63.546000   \n",
       "4                   211.0                     1.83           55.845000   \n",
       "..                    ...                      ...                 ...   \n",
       "403                 104.0                     1.60           92.906380   \n",
       "404                 183.0                     1.50          180.947880   \n",
       "405                 110.0                     1.54           47.867000   \n",
       "406                 139.0                     1.30          178.490000   \n",
       "407                  50.0                     1.96          118.710000   \n",
       "\n",
       "     Site2_HeatFusion  Site2_SpecificHeatCapacity  Site2_AtomicRadii  \\\n",
       "0               11.30                       0.235              1.444   \n",
       "1               16.20                       0.421              1.253   \n",
       "2               21.00                       0.449              1.249   \n",
       "3               13.60                       0.385              1.278   \n",
       "4               13.81                       0.449              1.241   \n",
       "..                ...                         ...                ...   \n",
       "403             30.00                       0.265              1.429   \n",
       "404             36.57                       0.140              1.430   \n",
       "405             14.15                       0.523              1.448   \n",
       "406             27.20                       0.140              1.564   \n",
       "407              7.15                       0.228              1.620   \n",
       "\n",
       "     Site2_ThermalExpansionCoefficient  Site2_BCCefflatcnt  Site2_AtomicVolume  \n",
       "0                                 18.9            6.375951           17.075648  \n",
       "1                                 13.0            5.507318           10.995861  \n",
       "2                                  4.9            5.632801           12.092937  \n",
       "3                                 16.5            5.617632           11.829942  \n",
       "4                                 11.8            5.557847           11.777365  \n",
       "..                                 ...                 ...                 ...  \n",
       "403                                7.3            6.625794           18.002133  \n",
       "404                                6.3            6.618497           18.046730  \n",
       "405                                8.6            6.458833           17.636317  \n",
       "406                                5.9            7.046762           22.268711  \n",
       "407                               22.0            7.390589           26.966785  \n",
       "\n",
       "[408 rows x 287 columns]"
      ]
     },
     "execution_count": 8,
     "metadata": {},
     "output_type": "execute_result"
    }
   ],
   "source": [
    "# Let's have a look at the X feature matrix. It contains 287 elemental features.\n",
    "# There are a total of 408 diffusion activation barriers used for fitting\n",
    "X"
   ]
  },
  {
   "cell_type": "code",
   "execution_count": 9,
   "metadata": {
    "colab": {
     "base_uri": "https://localhost:8080/"
    },
    "executionInfo": {
     "elapsed": 492,
     "status": "ok",
     "timestamp": 1614624327905,
     "user": {
      "displayName": "Ryan Jacobs",
      "photoUrl": "",
      "userId": "08020825119070462259"
     },
     "user_tz": 360
    },
    "id": "DDRPN14syAue",
    "outputId": "563e9c85-6c3e-4af5-e5d1-c2d27d3f270c"
   },
   "outputs": [
    {
     "data": {
      "text/plain": [
       "0      Ag\n",
       "1      Ag\n",
       "2      Ag\n",
       "3      Ag\n",
       "4      Ag\n",
       "       ..\n",
       "403    Zr\n",
       "404    Zr\n",
       "405    Zr\n",
       "406    Zr\n",
       "407    Zr\n",
       "Name: Material compositions 1, Length: 408, dtype: object"
      ]
     },
     "execution_count": 9,
     "metadata": {},
     "output_type": "execute_result"
    }
   ],
   "source": [
    "# Let's look at the groups list. The groups denote the element identity of the host \n",
    "# metal\n",
    "groups"
   ]
  },
  {
   "cell_type": "code",
   "execution_count": 10,
   "metadata": {
    "colab": {
     "base_uri": "https://localhost:8080/",
     "height": 419
    },
    "executionInfo": {
     "elapsed": 368,
     "status": "ok",
     "timestamp": 1614624328768,
     "user": {
      "displayName": "Ryan Jacobs",
      "photoUrl": "",
      "userId": "08020825119070462259"
     },
     "user_tz": 360
    },
    "id": "VuKB49u_yM9c",
    "outputId": "8b4b4efd-8527-4a70-dda6-232c58e3c241"
   },
   "outputs": [
    {
     "data": {
      "text/html": [
       "<div>\n",
       "<style scoped>\n",
       "    .dataframe tbody tr th:only-of-type {\n",
       "        vertical-align: middle;\n",
       "    }\n",
       "\n",
       "    .dataframe tbody tr th {\n",
       "        vertical-align: top;\n",
       "    }\n",
       "\n",
       "    .dataframe thead th {\n",
       "        text-align: right;\n",
       "    }\n",
       "</style>\n",
       "<table border=\"1\" class=\"dataframe\">\n",
       "  <thead>\n",
       "    <tr style=\"text-align: right;\">\n",
       "      <th></th>\n",
       "      <th>Material compositions 1</th>\n",
       "      <th>Material compositions 2</th>\n",
       "      <th>Hop activation barrier</th>\n",
       "      <th>E_regression</th>\n",
       "    </tr>\n",
       "  </thead>\n",
       "  <tbody>\n",
       "    <tr>\n",
       "      <th>0</th>\n",
       "      <td>Ag</td>\n",
       "      <td>Ag</td>\n",
       "      <td>-0.365590</td>\n",
       "      <td>1.824500</td>\n",
       "    </tr>\n",
       "    <tr>\n",
       "      <th>1</th>\n",
       "      <td>Ag</td>\n",
       "      <td>Co</td>\n",
       "      <td>-0.675263</td>\n",
       "      <td>1.734358</td>\n",
       "    </tr>\n",
       "    <tr>\n",
       "      <th>2</th>\n",
       "      <td>Ag</td>\n",
       "      <td>Cr</td>\n",
       "      <td>-0.047690</td>\n",
       "      <td>2.083639</td>\n",
       "    </tr>\n",
       "    <tr>\n",
       "      <th>3</th>\n",
       "      <td>Ag</td>\n",
       "      <td>Cu</td>\n",
       "      <td>-0.428459</td>\n",
       "      <td>1.802300</td>\n",
       "    </tr>\n",
       "    <tr>\n",
       "      <th>4</th>\n",
       "      <td>Ag</td>\n",
       "      <td>Fe</td>\n",
       "      <td>0.081529</td>\n",
       "      <td>2.142172</td>\n",
       "    </tr>\n",
       "    <tr>\n",
       "      <th>...</th>\n",
       "      <td>...</td>\n",
       "      <td>...</td>\n",
       "      <td>...</td>\n",
       "      <td>...</td>\n",
       "    </tr>\n",
       "    <tr>\n",
       "      <th>403</th>\n",
       "      <td>Zr</td>\n",
       "      <td>Nb</td>\n",
       "      <td>-0.478007</td>\n",
       "      <td>2.523770</td>\n",
       "    </tr>\n",
       "    <tr>\n",
       "      <th>404</th>\n",
       "      <td>Zr</td>\n",
       "      <td>Ta</td>\n",
       "      <td>-0.054726</td>\n",
       "      <td>2.747650</td>\n",
       "    </tr>\n",
       "    <tr>\n",
       "      <th>405</th>\n",
       "      <td>Zr</td>\n",
       "      <td>Ti</td>\n",
       "      <td>-0.022476</td>\n",
       "      <td>2.842630</td>\n",
       "    </tr>\n",
       "    <tr>\n",
       "      <th>406</th>\n",
       "      <td>Zr</td>\n",
       "      <td>Hf</td>\n",
       "      <td>-0.104201</td>\n",
       "      <td>2.801830</td>\n",
       "    </tr>\n",
       "    <tr>\n",
       "      <th>407</th>\n",
       "      <td>Zr</td>\n",
       "      <td>Sn</td>\n",
       "      <td>-0.045931</td>\n",
       "      <td>2.844570</td>\n",
       "    </tr>\n",
       "  </tbody>\n",
       "</table>\n",
       "<p>408 rows × 4 columns</p>\n",
       "</div>"
      ],
      "text/plain": [
       "    Material compositions 1 Material compositions 2  Hop activation barrier  \\\n",
       "0                        Ag                      Ag               -0.365590   \n",
       "1                        Ag                      Co               -0.675263   \n",
       "2                        Ag                      Cr               -0.047690   \n",
       "3                        Ag                      Cu               -0.428459   \n",
       "4                        Ag                      Fe                0.081529   \n",
       "..                      ...                     ...                     ...   \n",
       "403                      Zr                      Nb               -0.478007   \n",
       "404                      Zr                      Ta               -0.054726   \n",
       "405                      Zr                      Ti               -0.022476   \n",
       "406                      Zr                      Hf               -0.104201   \n",
       "407                      Zr                      Sn               -0.045931   \n",
       "\n",
       "     E_regression  \n",
       "0        1.824500  \n",
       "1        1.734358  \n",
       "2        2.083639  \n",
       "3        1.802300  \n",
       "4        2.142172  \n",
       "..            ...  \n",
       "403      2.523770  \n",
       "404      2.747650  \n",
       "405      2.842630  \n",
       "406      2.801830  \n",
       "407      2.844570  \n",
       "\n",
       "[408 rows x 4 columns]"
      ]
     },
     "execution_count": 10,
     "metadata": {},
     "output_type": "execute_result"
    }
   ],
   "source": [
    "# Let's examine the extra data not used in fitting. Note that the y-data we are \n",
    "# fitting to are equal to the E_regression values listed here, minus the E_regression\n",
    "# value of the pure material. Material compositions 1 are the host elements, which\n",
    "# are the same values used in the groups list. Material compositions 2 are the solute\n",
    "# elements (i.e. the diffusing impurity in the host material)\n",
    "X_extra"
   ]
  },
  {
   "cell_type": "code",
   "execution_count": 11,
   "metadata": {
    "executionInfo": {
     "elapsed": 350,
     "status": "ok",
     "timestamp": 1614624329686,
     "user": {
      "displayName": "Ryan Jacobs",
      "photoUrl": "",
      "userId": "08020825119070462259"
     },
     "user_tz": 360
    },
    "id": "_jdQjcY5yN6z"
   },
   "outputs": [],
   "source": [
    "# Finally, we can look at our manually left-out data set. For this tutorial we\n",
    "# have left this blank\n",
    "X_testdata"
   ]
  },
  {
   "cell_type": "code",
   "execution_count": 12,
   "metadata": {
    "executionInfo": {
     "elapsed": 7779,
     "status": "ok",
     "timestamp": 1614624338092,
     "user": {
      "displayName": "Ryan Jacobs",
      "photoUrl": "",
      "userId": "08020825119070462259"
     },
     "user_tz": 360
    },
    "id": "YgQJg2fDyQRU"
   },
   "outputs": [],
   "source": [
    "# If the data contains missing values (this one doesn't), we can clean the data, \n",
    "# which corrects missing values and provides some basic analysis of the input data.\n",
    "# Since there are no missing values the data cleaner will still output some useful\n",
    "# plots and statistics of our input data\n",
    "\n",
    "cleaner = DataCleaning()\n",
    "X, y = cleaner.evaluate(X=X, \n",
    "                        y=y, \n",
    "                        method='imputation', \n",
    "                        strategy='mean', \n",
    "                        savepath=savepath)"
   ]
  },
  {
   "cell_type": "code",
   "execution_count": 13,
   "metadata": {
    "executionInfo": {
     "elapsed": 630,
     "status": "ok",
     "timestamp": 1614624361653,
     "user": {
      "displayName": "Ryan Jacobs",
      "photoUrl": "",
      "userId": "08020825119070462259"
     },
     "user_tz": 360
    },
    "id": "GZ0eK7wHySen"
   },
   "outputs": [],
   "source": [
    "# Here is where we can specify some of the core MAST-ML options, like how to \n",
    "# preprocess our data, what models to use in fitting, and how to select features.\n",
    "# In addition, we would also specify how to optimize model hyperparameters, but\n",
    "# we don't need to do that for this first tutorial. Lastly, we can decide which\n",
    "# metrics to evaluate in our fits.\n",
    "\n",
    "# Here, we define two models. The first is a random forest model, the second is\n",
    "# a Gaussian process model. The scikit-learn model name can just be given as\n",
    "# a string matching the model name in the \"model\" field. The remaining arguments\n",
    "# are the parameters to pass to the model. If no parameters are given, default\n",
    "# values are used.\n",
    "model1 = SklearnModel(model='RandomForestRegressor', n_estimators=150, max_depth=30)\n",
    "model2 = SklearnModel(model='GaussianProcessRegressor', kernel='ConstantKernel*RBF', n_restarts_optimizer=10)\n",
    "# MAST-ML takes a list of the models as input.\n",
    "models = [model1, model2]\n",
    "\n",
    "# Here, we define our preprocessing function. We are just going to use the basic\n",
    "# StandardScaler in scikit-learn to normalize each column to have mean zero and\n",
    "# standard deviation of one.\n",
    "preprocessor = SklearnPreprocessor(preprocessor='StandardScaler', as_frame=True)\n",
    "\n",
    "# Next, we define a couple ways to select features. The first method, NoSelect,\n",
    "# just uses all features in the X feature set. The second method, EnsembleModelFeatureSelector,\n",
    "# uses a random forest model to select the top (here, 20) features based on \n",
    "# ranked random forest feature importance scores.\n",
    "selector1 = NoSelect()\n",
    "selector2 = EnsembleModelFeatureSelector(model=SklearnModel(model='RandomForestRegressor'), n_features_to_select=20)\n",
    "selectors = [selector1, selector2]\n",
    "\n",
    "# Finally, we list which metrics we want to evaluate. If none are given, MAST-ML\n",
    "# will default to evaulating just the mean absolute error. A complete list of \n",
    "# metrics can be obtained from calling Metrics()._metric_zoo() in metrics.py.\n",
    "metrics = ['r2_score', 'mean_absolute_error', 'root_mean_squared_error', 'rmse_over_stdev']\n"
   ]
  },
  {
   "cell_type": "code",
   "execution_count": 14,
   "metadata": {
    "executionInfo": {
     "elapsed": 64356,
     "status": "ok",
     "timestamp": 1614624428656,
     "user": {
      "displayName": "Ryan Jacobs",
      "photoUrl": "",
      "userId": "08020825119070462259"
     },
     "user_tz": 360
    },
    "id": "svALcnnCzQ2O"
   },
   "outputs": [],
   "source": [
    "# As a first run, we want to define and run the case where no data split is \n",
    "# performed. This represents a full fit to all of the data. We will fit both our\n",
    "# random forest and Gaussian process model, but just for the case where all\n",
    "# features are used.\n",
    "\n",
    "#splitter = NoSplit()\n",
    "#splitter.evaluate(X=X,\n",
    "#                  y=y, \n",
    "#                  models=models,\n",
    "#                  preprocessor=preprocessor,\n",
    "#                  selectors=[selector1],\n",
    "#                  metrics=metrics,\n",
    "#                  savepath=savepath,\n",
    "#                  X_extra=X_extra,\n",
    "#                  verbosity=3)"
   ]
  },
  {
   "cell_type": "code",
   "execution_count": 15,
   "metadata": {
    "executionInfo": {
     "elapsed": 339113,
     "status": "ok",
     "timestamp": 1614624870694,
     "user": {
      "displayName": "Ryan Jacobs",
      "photoUrl": "",
      "userId": "08020825119070462259"
     },
     "user_tz": 360
    },
    "id": "3-urmYsIzU7H"
   },
   "outputs": [],
   "source": [
    "# Next, we want to do something a bit more informative. We will do a random \n",
    "# leave-out cross validation test (5-fold CV). MAST-ML will output data and plots\n",
    "# for each split as well as some more comprehensive analysis performed over all\n",
    "# splits. The saved model and preprocessor corresponding to the best split will\n",
    "# also be put in the split directory, which can be imported for use in future\n",
    "# predictions \n",
    "\n",
    "#splitter = SklearnDataSplitter(splitter='RepeatedKFold', n_repeats=1, n_splits=5)\n",
    "#splitter.evaluate(X=X,\n",
    "#                  y=y, \n",
    "#                  models=models,\n",
    "#                  preprocessor=preprocessor,\n",
    "#                  selectors=[selector2],\n",
    "#                  metrics=metrics,\n",
    "#                  plots=['Scatter', 'Histogram'],\n",
    "#                  savepath=savepath,\n",
    "#                  X_extra=X_extra,\n",
    "#                  verbosity=3)"
   ]
  },
  {
   "cell_type": "code",
   "execution_count": 16,
   "metadata": {
    "executionInfo": {
     "elapsed": 326204,
     "status": "ok",
     "timestamp": 1614625221533,
     "user": {
      "displayName": "Ryan Jacobs",
      "photoUrl": "",
      "userId": "08020825119070462259"
     },
     "user_tz": 360
    },
    "id": "5Eagr4cZ7H23"
   },
   "outputs": [],
   "source": [
    "# Randomly leaving out data isn't the only way to assess model performance. This\n",
    "# dataset has logical groupings based on which element is the host. So, we can\n",
    "# do another cross validation test where this time we leave out each host once.\n",
    "# Let's test just our random forest model with the leave out group CV method.\n",
    "\n",
    "#splitter = SklearnDataSplitter(splitter='LeaveOneGroupOut')\n",
    "#splitter.evaluate(X=X,\n",
    "#                  y=y, \n",
    "#                  models=[model1],\n",
    "#                  preprocessor=preprocessor,\n",
    "#                  groups=groups,\n",
    "#                  selectors=[selector2],\n",
    "#                  metrics=metrics,\n",
    "#                  plots=['Scatter', 'Histogram'],\n",
    "#                  savepath=savepath,\n",
    "#                  X_extra=X_extra,\n",
    "#                  verbosity=3)"
   ]
  },
  {
   "cell_type": "code",
   "execution_count": 17,
   "metadata": {
    "colab": {
     "base_uri": "https://localhost:8080/"
    },
    "executionInfo": {
     "elapsed": 434803,
     "status": "ok",
     "timestamp": 1614625685084,
     "user": {
      "displayName": "Ryan Jacobs",
      "photoUrl": "",
      "userId": "08020825119070462259"
     },
     "user_tz": 360
    },
    "id": "ZJS2DSdp0ET-",
    "outputId": "4caf90c6-c755-45b3-f450-2be71ad7f360"
   },
   "outputs": [],
   "source": [
    "# Now lets use just random forest and the full feature set to do random leave out CV, \n",
    "# but let's do a nested variant so we can recalibrate the predicted random forest errors.\n",
    "# This will allow us to more deeply assess the uncertainty estimates of the \n",
    "# random forest model, and see that they would benefit from a correction scheme,\n",
    "# which in this case is applied following the method of Palmer et al.\n",
    "#\n",
    "# Note that this will take longer than previous runs since we are doing nested\n",
    "# CV. Since we are doing 2 repeats of leave out 1/3 of the data (n_splits=3), and \n",
    "# nesting is turned on, means we have (2*3)^2 = 36 total splits\n",
    "\n",
    "#splitter = SklearnDataSplitter(splitter='RepeatedKFold', n_repeats=2, n_splits=3)\n",
    "#splitter.evaluate(X=X,\n",
    "#                  y=y, \n",
    "#                  models=[model1],\n",
    "#                  preprocessor=preprocessor,\n",
    "#                  selectors=[selector1],\n",
    "#                  metrics=metrics,\n",
    "#                  plots=['Error'],\n",
    "#                  savepath=savepath,\n",
    "#                  X_extra=X_extra,\n",
    "#                  nested_CV=True,\n",
    "#                  error_method='stdev_weak_learners', #stdev_weak_learners, jackknife_after_bootstrap\n",
    "#                  recalibrate_errors=True,\n",
    "#                  verbosity=2)"
   ]
  },
  {
   "cell_type": "code",
   "execution_count": 18,
   "metadata": {
    "id": "WyD66y3KKhuU"
   },
   "outputs": [],
   "source": [
    "from mastml.data_splitters import LeaveOutClusterCV\n",
    "from mastml.models import SklearnModel\n",
    "from sklearn.datasets import make_blobs"
   ]
  },
  {
   "cell_type": "code",
   "execution_count": 19,
   "metadata": {},
   "outputs": [],
   "source": [
    "splitter = LeaveOutClusterCV(\"KMeans\", n_clusters=15)"
   ]
  },
  {
   "cell_type": "code",
   "execution_count": 20,
   "metadata": {},
   "outputs": [],
   "source": [
    "splitter.evaluate(X=X, y=y,\n",
    "                  models=[model1],\n",
    "                  selectors=[selector1],\n",
    "                  savepath=savepath)"
   ]
  },
  {
   "cell_type": "code",
   "execution_count": null,
   "metadata": {},
   "outputs": [],
   "source": []
  }
 ],
 "metadata": {
  "accelerator": "GPU",
  "colab": {
   "authorship_tag": "ABX9TyMEVkHt3gXnG4BXBNcr+orE",
   "name": "MASTML_tutorial.ipynb",
   "provenance": []
  },
  "kernelspec": {
   "display_name": "Python 3",
   "language": "python",
   "name": "python3"
  },
  "language_info": {
   "codemirror_mode": {
    "name": "ipython",
    "version": 3
   },
   "file_extension": ".py",
   "mimetype": "text/x-python",
   "name": "python",
   "nbconvert_exporter": "python",
   "pygments_lexer": "ipython3",
   "version": "3.8.5"
  }
 },
 "nbformat": 4,
 "nbformat_minor": 1
}
