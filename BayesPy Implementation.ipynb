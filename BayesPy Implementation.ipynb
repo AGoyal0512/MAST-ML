{
 "cells": [
  {
   "cell_type": "code",
   "execution_count": 1,
   "metadata": {},
   "outputs": [
    {
     "name": "stderr",
     "output_type": "stream",
     "text": [
      "C:\\Users\\Zuf\\AppData\\Local\\Programs\\Python\\Python36-32\\lib\\site-packages\\h5py\\__init__.py:36: FutureWarning: Conversion of the second argument of issubdtype from `float` to `np.floating` is deprecated. In future, it will be treated as `np.float64 == np.dtype(float).type`.\n",
      "  from ._conv import register_converters as _register_converters\n"
     ]
    }
   ],
   "source": [
    "from bayespy.nodes import GaussianARD, Gamma, SumMultiply\n",
    "import numpy as np\n",
    "from bayespy.inference import VB\n",
    "from bayespy.inference.vmp.transformations import RotateGaussianARD\n",
    "from bayespy.inference.vmp.transformations import RotationOptimizer"
   ]
  },
  {
   "cell_type": "code",
   "execution_count": 2,
   "metadata": {},
   "outputs": [
    {
     "name": "stdout",
     "output_type": "stream",
     "text": [
      "Iteration 1: loglike=-2.227905e+03 (0.017 seconds)\n",
      "Iteration 2: loglike=-8.420459e+02 (0.013 seconds)\n",
      "Iteration 3: loglike=2.016591e+02 (0.012 seconds)\n",
      "Iteration 4: loglike=6.148010e+02 (0.013 seconds)\n",
      "Iteration 5: loglike=7.014539e+02 (0.015 seconds)\n",
      "Iteration 6: loglike=7.219884e+02 (0.023 seconds)\n",
      "Iteration 7: loglike=7.301854e+02 (0.021 seconds)\n",
      "Iteration 8: loglike=7.344520e+02 (0.019 seconds)\n",
      "Iteration 9: loglike=7.369154e+02 (0.016 seconds)\n",
      "Iteration 10: loglike=7.380599e+02 (0.017 seconds)\n",
      "Iteration 11: loglike=7.387343e+02 (0.018 seconds)\n",
      "Iteration 12: loglike=7.391367e+02 (0.023 seconds)\n",
      "Iteration 13: loglike=7.393935e+02 (0.016 seconds)\n",
      "Iteration 14: loglike=7.395490e+02 (0.022 seconds)\n",
      "Iteration 15: loglike=7.396500e+02 (0.014 seconds)\n",
      "Iteration 16: loglike=7.397124e+02 (0.018 seconds)\n",
      "Iteration 17: loglike=7.397520e+02 (0.009 seconds)\n",
      "Iteration 18: loglike=7.397763e+02 (0.015 seconds)\n",
      "Iteration 19: loglike=7.397913e+02 (0.012 seconds)\n",
      "Iteration 20: loglike=7.398007e+02 (0.013 seconds)\n",
      "Iteration 21: loglike=7.398065e+02 (0.014 seconds)\n",
      "Converged at iteration 21.\n"
     ]
    }
   ],
   "source": [
    "M = 20\n",
    "N = 100\n",
    "\n",
    "x = np.random.randn(N, 2)\n",
    "w = np.random.randn(M, 2)\n",
    "f = np.einsum('ik,jk->ij', w, x)\n",
    "y = f + 0.1*np.random.randn(M, N)\n",
    "\n",
    "D = 10\n",
    "\n",
    "X = GaussianARD(0, 1, plates=(1,N), shape=(D,))\n",
    "alpha = Gamma(1e-5, 1e-5, plates=(D,))\n",
    "C = GaussianARD(0, alpha, plates=(M,1), shape=(D,))\n",
    "F = SumMultiply('d,d->', X, C)\n",
    "tau = Gamma(1e-5, 1e-5)\n",
    "Y = GaussianARD(F, tau)\n",
    "\n",
    "Y.observe(y)\n",
    "\n",
    "Q = VB(Y, X, C, alpha, tau)\n",
    "C.initialize_from_random()\n",
    "\n",
    "rot_X = RotateGaussianARD(X)\n",
    "rot_C = RotateGaussianARD(C, alpha)\n",
    "\n",
    "R = RotationOptimizer(rot_X, rot_C, D)\n",
    "Q.set_callback(R.rotate)\n",
    "\n",
    "Q.update(repeat=1000)\n"
   ]
  },
  {
   "cell_type": "code",
   "execution_count": null,
   "metadata": {
    "collapsed": true
   },
   "outputs": [],
   "source": [
    "M = 4\n",
    "N = 112\n",
    "\n",
    "# x = np.random.randn(N, 2)\n",
    "# w = np.random.randn(M, 2)\n",
    "# f = np.einsum('ik,jk->ij', w, x)\n",
    "# y = f + 0.1*np.random.randn(M, N)\n",
    "\n",
    "D = 10\n",
    "\n",
    "X = GaussianARD(0, 1, plates=(1,N), shape=(D,))\n",
    "alpha = Gamma(1e-5, 1e-5, plates=(D,))\n",
    "C = GaussianARD(0, alpha, plates=(M,1), shape=(D,))\n",
    "F = SumMultiply('d,d->', X, C)\n",
    "tau = Gamma(1e-5, 1e-5)\n",
    "Y = GaussianARD(F, tau)\n",
    "\n",
    "Y.observe(y)\n",
    "\n",
    "Q = VB(Y, X, C, alpha, tau)\n",
    "C.initialize_from_random()\n",
    "\n",
    "rot_X = RotateGaussianARD(X)\n",
    "rot_C = RotateGaussianARD(C, alpha)\n",
    "\n",
    "R = RotationOptimizer(rot_X, rot_C, D)\n",
    "Q.set_callback(R.rotate)\n",
    "\n",
    "Q.update(repeat=1000)\n"
   ]
  },
  {
   "cell_type": "code",
   "execution_count": 7,
   "metadata": {},
   "outputs": [
    {
     "name": "stdout",
     "output_type": "stream",
     "text": [
      "Collecting hypertools\n",
      "  Using cached https://files.pythonhosted.org/packages/44/d8/74cf7678fe1eef8ee1843123ea7d94dba59f2c982c52d01a11035f010826/hypertools-0.5.0.tar.gz\n",
      "Requirement already satisfied: PPCA>=0.0.2 in c:\\users\\zuf\\appdata\\local\\programs\\python\\python36-32\\lib\\site-packages (from hypertools) (0.0.3)\n",
      "Requirement already satisfied: scikit-learn>=0.19.1 in c:\\users\\zuf\\appdata\\local\\programs\\python\\python36-32\\lib\\site-packages (from hypertools) (0.19.1)\n",
      "Requirement already satisfied: pandas>=0.18.0 in c:\\users\\zuf\\appdata\\local\\programs\\python\\python36-32\\lib\\site-packages (from hypertools) (0.22.0)\n",
      "Requirement already satisfied: seaborn>=0.8.1 in c:\\users\\zuf\\appdata\\local\\programs\\python\\python36-32\\lib\\site-packages (from hypertools) (0.8.1)\n",
      "Requirement already satisfied: matplotlib>=1.5.1 in c:\\users\\zuf\\appdata\\local\\programs\\python\\python36-32\\lib\\site-packages (from hypertools) (2.2.2)\n",
      "Requirement already satisfied: scipy>=1.0.0 in c:\\users\\zuf\\appdata\\local\\programs\\python\\python36-32\\lib\\site-packages (from hypertools) (1.0.1)\n",
      "Requirement already satisfied: numpy>=1.10.4 in c:\\users\\zuf\\appdata\\local\\programs\\python\\python36-32\\lib\\site-packages (from hypertools) (1.14.3)\n",
      "Collecting hdbscan>=0.8.11 (from hypertools)\n",
      "  Using cached https://files.pythonhosted.org/packages/c7/6a/92ecddb0d8c28266d8d4f9ab6f58ee543059aaade98e73b35de44a1c99f9/hdbscan-0.8.13.tar.gz\n",
      "Collecting umap-learn>=0.1.5 (from hypertools)\n",
      "  Using cached https://files.pythonhosted.org/packages/e5/d9/26bf2c04a5689e3bfb25149047c14ad3276bbe67b88b35e415caa8024dde/umap-learn-0.2.3.tar.gz\n",
      "Collecting future (from hypertools)\n",
      "  Using cached https://files.pythonhosted.org/packages/00/2b/8d082ddfed935f3608cc61140df6dcbf0edea1bc3ab52fb6c29ae3e81e85/future-0.16.0.tar.gz\n",
      "Collecting requests (from hypertools)\n",
      "  Using cached https://files.pythonhosted.org/packages/49/df/50aa1999ab9bde74656c2919d9c0c085fd2b3775fd3eca826012bef76d8c/requests-2.18.4-py2.py3-none-any.whl\n",
      "Collecting deepdish (from hypertools)\n",
      "  Using cached https://files.pythonhosted.org/packages/6e/39/2a47c852651982bc5eb39212ac110284dd20126bdc7b49bde401a0139f5d/deepdish-0.3.6-py2.py3-none-any.whl\n",
      "Requirement already satisfied: six in c:\\users\\zuf\\appdata\\local\\programs\\python\\python36-32\\lib\\site-packages (from hypertools) (1.11.0)\n",
      "Requirement already satisfied: pytz>=2011k in c:\\users\\zuf\\appdata\\local\\programs\\python\\python36-32\\lib\\site-packages (from pandas>=0.18.0->hypertools) (2018.4)\n",
      "Requirement already satisfied: python-dateutil>=2 in c:\\users\\zuf\\appdata\\local\\programs\\python\\python36-32\\lib\\site-packages (from pandas>=0.18.0->hypertools) (2.7.2)\n",
      "Requirement already satisfied: kiwisolver>=1.0.1 in c:\\users\\zuf\\appdata\\local\\programs\\python\\python36-32\\lib\\site-packages (from matplotlib>=1.5.1->hypertools) (1.0.1)\n",
      "Requirement already satisfied: cycler>=0.10 in c:\\users\\zuf\\appdata\\local\\programs\\python\\python36-32\\lib\\site-packages (from matplotlib>=1.5.1->hypertools) (0.10.0)\n",
      "Requirement already satisfied: pyparsing!=2.0.4,!=2.1.2,!=2.1.6,>=2.0.1 in c:\\users\\zuf\\appdata\\local\\programs\\python\\python36-32\\lib\\site-packages (from matplotlib>=1.5.1->hypertools) (2.2.0)\n",
      "Collecting numba>=0.34 (from umap-learn>=0.1.5->hypertools)\n",
      "  Using cached https://files.pythonhosted.org/packages/0c/9d/404cd28adda22ebff933612f0a634351ba00211c19e29b55c02a4a4b2078/numba-0.38.0-cp36-cp36m-win32.whl\n",
      "Collecting chardet<3.1.0,>=3.0.2 (from requests->hypertools)\n",
      "  Using cached https://files.pythonhosted.org/packages/bc/a9/01ffebfb562e4274b6487b4bb1ddec7ca55ec7510b22e4c51f14098443b8/chardet-3.0.4-py2.py3-none-any.whl\n",
      "Collecting urllib3<1.23,>=1.21.1 (from requests->hypertools)\n",
      "  Using cached https://files.pythonhosted.org/packages/63/cb/6965947c13a94236f6d4b8223e21beb4d576dc72e8130bd7880f600839b8/urllib3-1.22-py2.py3-none-any.whl\n",
      "Collecting certifi>=2017.4.17 (from requests->hypertools)\n",
      "  Using cached https://files.pythonhosted.org/packages/7c/e6/92ad559b7192d846975fc916b65f667c7b8c3a32bea7372340bfe9a15fa5/certifi-2018.4.16-py2.py3-none-any.whl\n",
      "Collecting idna<2.7,>=2.5 (from requests->hypertools)\n",
      "  Using cached https://files.pythonhosted.org/packages/27/cc/6dd9a3869f15c2edfab863b992838277279ce92663d334df9ecf5106f5c6/idna-2.6-py2.py3-none-any.whl\n",
      "Collecting tables (from deepdish->hypertools)\n",
      "  Using cached https://files.pythonhosted.org/packages/dc/a3/4ef86c0fb3aef08f47279cd43816e2d93336f4eb2e9c48111dfcb6b7a514/tables-3.4.3-cp36-cp36m-win32.whl\n",
      "Requirement already satisfied: setuptools in c:\\users\\zuf\\appdata\\local\\programs\\python\\python36-32\\lib\\site-packages (from kiwisolver>=1.0.1->matplotlib>=1.5.1->hypertools) (39.0.1)\n",
      "Collecting llvmlite>=0.23.0dev0 (from numba>=0.34->umap-learn>=0.1.5->hypertools)\n",
      "  Using cached https://files.pythonhosted.org/packages/35/5d/3bf73268e0d80e5f0acb79576d91c520d0e1062d445265479ca977b89896/llvmlite-0.23.0-cp36-cp36m-win32.whl\n",
      "Collecting numexpr>=2.5.2 (from tables->deepdish->hypertools)\n",
      "  Using cached https://files.pythonhosted.org/packages/8d/76/cf9148d68f3e524f6bdaf7074d56d526de5d8a2feffbf5e2a8251758b825/numexpr-2.6.5-cp36-none-win32.whl\n",
      "Installing collected packages: hdbscan, llvmlite, numba, umap-learn, future, chardet, urllib3, certifi, idna, requests, numexpr, tables, deepdish, hypertools\n",
      "  Running setup.py install for hdbscan: started\n",
      "    Running setup.py install for hdbscan: finished with status 'error'\n",
      "    Complete output from command C:\\Users\\Zuf\\AppData\\Local\\Programs\\Python\\Python36-32\\python.exe -u -c \"import setuptools, tokenize;__file__='C:\\\\Users\\\\Zuf\\\\AppData\\\\Local\\\\Temp\\\\pip-install-b8774p5k\\\\hdbscan\\\\setup.py';f=getattr(tokenize, 'open', open)(__file__);code=f.read().replace('\\r\\n', '\\n');f.close();exec(compile(code, __file__, 'exec'))\" install --record C:\\Users\\Zuf\\AppData\\Local\\Temp\\pip-record-44jep9yq\\install-record.txt --single-version-externally-managed --compile:\n",
      "    C:\\Users\\Zuf\\AppData\\Local\\Temp\\pip-install-b8774p5k\\hdbscan\\setup.py:8: UserWarning: No module named 'Cython'\n",
      "      warnings.warn(e.args[0])\n",
      "    running install\n",
      "    running build\n",
      "    running build_py\n",
      "    creating build\n",
      "    creating build\\lib.win32-3.6\n",
      "    creating build\\lib.win32-3.6\\hdbscan\n",
      "    copying hdbscan\\hdbscan_.py -> build\\lib.win32-3.6\\hdbscan\n",
      "    copying hdbscan\\plots.py -> build\\lib.win32-3.6\\hdbscan\n",
      "    copying hdbscan\\prediction.py -> build\\lib.win32-3.6\\hdbscan\n",
      "    copying hdbscan\\robust_single_linkage_.py -> build\\lib.win32-3.6\\hdbscan\n",
      "    copying hdbscan\\validity.py -> build\\lib.win32-3.6\\hdbscan\n",
      "    copying hdbscan\\__init__.py -> build\\lib.win32-3.6\\hdbscan\n",
      "    creating build\\lib.win32-3.6\\hdbscan\\tests\n",
      "    copying hdbscan\\tests\\test_hdbscan.py -> build\\lib.win32-3.6\\hdbscan\\tests\n",
      "    copying hdbscan\\tests\\test_rsl.py -> build\\lib.win32-3.6\\hdbscan\\tests\n",
      "    copying hdbscan\\tests\\__init__.py -> build\\lib.win32-3.6\\hdbscan\\tests\n",
      "    running build_ext\n",
      "    building 'hdbscan._hdbscan_tree' extension\n",
      "    error: Microsoft Visual C++ 14.0 is required. Get it with \"Microsoft Visual C++ Build Tools\": http://landinghub.visualstudio.com/visual-cpp-build-tools\n",
      "    \n",
      "    ----------------------------------------\n"
     ]
    },
    {
     "name": "stderr",
     "output_type": "stream",
     "text": [
      "Command \"C:\\Users\\Zuf\\AppData\\Local\\Programs\\Python\\Python36-32\\python.exe -u -c \"import setuptools, tokenize;__file__='C:\\\\Users\\\\Zuf\\\\AppData\\\\Local\\\\Temp\\\\pip-install-b8774p5k\\\\hdbscan\\\\setup.py';f=getattr(tokenize, 'open', open)(__file__);code=f.read().replace('\\r\\n', '\\n');f.close();exec(compile(code, __file__, 'exec'))\" install --record C:\\Users\\Zuf\\AppData\\Local\\Temp\\pip-record-44jep9yq\\install-record.txt --single-version-externally-managed --compile\" failed with error code 1 in C:\\Users\\Zuf\\AppData\\Local\\Temp\\pip-install-b8774p5k\\hdbscan\\\n"
     ]
    }
   ],
   "source": [
    "import sys\n",
    "!{sys.executable} -m pip install hypertools"
   ]
  },
  {
   "cell_type": "code",
   "execution_count": 8,
   "metadata": {},
   "outputs": [
    {
     "ename": "ModuleNotFoundError",
     "evalue": "No module named 'hypertools'",
     "output_type": "error",
     "traceback": [
      "\u001b[1;31m---------------------------------------------------------------------------\u001b[0m",
      "\u001b[1;31mModuleNotFoundError\u001b[0m                       Traceback (most recent call last)",
      "\u001b[1;32m<ipython-input-8-c0cc7d315eb5>\u001b[0m in \u001b[0;36m<module>\u001b[1;34m()\u001b[0m\n\u001b[0;32m      2\u001b[0m \u001b[1;32mimport\u001b[0m \u001b[0mnumpy\u001b[0m \u001b[1;32mas\u001b[0m \u001b[0mnp\u001b[0m\u001b[1;33m\u001b[0m\u001b[0m\n\u001b[0;32m      3\u001b[0m \u001b[1;32mfrom\u001b[0m \u001b[0mcopy\u001b[0m \u001b[1;32mimport\u001b[0m \u001b[0mcopy\u001b[0m\u001b[1;33m\u001b[0m\u001b[0m\n\u001b[1;32m----> 4\u001b[1;33m \u001b[1;32mimport\u001b[0m \u001b[0mhypertools\u001b[0m \u001b[1;32mas\u001b[0m \u001b[0mhyp\u001b[0m\u001b[1;33m\u001b[0m\u001b[0m\n\u001b[0m\u001b[0;32m      5\u001b[0m \u001b[1;33m\u001b[0m\u001b[0m\n\u001b[0;32m      6\u001b[0m \u001b[1;31m# simulate data\u001b[0m\u001b[1;33m\u001b[0m\u001b[1;33m\u001b[0m\u001b[0m\n",
      "\u001b[1;31mModuleNotFoundError\u001b[0m: No module named 'hypertools'"
     ]
    }
   ],
   "source": [
    "from scipy.linalg import toeplitz\n",
    "import numpy as np\n",
    "from copy import copy\n",
    "import hypertools as hyp\n",
    "\n",
    "# simulate data\n",
    "K = 10 - toeplitz(np.arange(10))\n",
    "data1 = np.cumsum(np.random.multivariate_normal(np.zeros(10), K, 250), axis=0)\n",
    "data2 = copy(data1)\n",
    "\n",
    "# simulate missing data\n",
    "missing = .1\n",
    "inds = [(i,j) for i in range(data2.shape[0]) for j in range(data2.shape[1])]\n",
    "missing_data = [inds[i] for i in np.random.choice(int(len(inds)), int(len(inds)*missing))]\n",
    "for i,j in missing_data:\n",
    "    data2[i,j]=np.nan\n",
    "\n",
    "# plot\n",
    "hyp.plot([data1, data2], linestyle=['-',':'], legend=['Original', 'PPCA'])"
   ]
  },
  {
   "cell_type": "code",
   "execution_count": null,
   "metadata": {
    "collapsed": true
   },
   "outputs": [],
   "source": []
  }
 ],
 "metadata": {
  "kernelspec": {
   "display_name": "Python 3",
   "language": "python",
   "name": "python3"
  },
  "language_info": {
   "codemirror_mode": {
    "name": "ipython",
    "version": 3
   },
   "file_extension": ".py",
   "mimetype": "text/x-python",
   "name": "python",
   "nbconvert_exporter": "python",
   "pygments_lexer": "ipython3",
   "version": "3.6.1"
  }
 },
 "nbformat": 4,
 "nbformat_minor": 2
}
