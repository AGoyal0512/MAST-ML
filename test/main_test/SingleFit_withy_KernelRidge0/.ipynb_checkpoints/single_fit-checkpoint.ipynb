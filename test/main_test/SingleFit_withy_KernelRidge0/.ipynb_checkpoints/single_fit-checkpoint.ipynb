{
 "cells": [
  {
   "cell_type": "code",
   "execution_count": 1,
   "metadata": {},
   "outputs": [
    {
     "name": "stderr",
     "output_type": "stream",
     "text": [
      "/Users/ttm3/anaconda3/envs/skunkworks/lib/python3.5/site-packages/matplotlib/axes/_axes.py:531: UserWarning: No labelled objects found. Use label='...' kwarg on individual plots.\n",
      "  warnings.warn(\"No labelled objects found. \"\n"
     ]
    },
    {
     "ename": "AttributeError",
     "evalue": "'NoneType' object has no attribute 'get_frame'",
     "output_type": "error",
     "traceback": [
      "\u001b[0;31m---------------------------------------------------------------------------\u001b[0m",
      "\u001b[0;31mAttributeError\u001b[0m                            Traceback (most recent call last)",
      "\u001b[0;32m<ipython-input-1-0f3086c73c91>\u001b[0m in \u001b[0;36m<module>\u001b[0;34m()\u001b[0m\n\u001b[1;32m     73\u001b[0m                 \u001b[0mfontsize\u001b[0m\u001b[0;34m=\u001b[0m\u001b[0msmallfont\u001b[0m\u001b[0;34m,\u001b[0m\u001b[0;34m\u001b[0m\u001b[0m\n\u001b[1;32m     74\u001b[0m                 )\n\u001b[0;32m---> 75\u001b[0;31m \u001b[0mlgd\u001b[0m\u001b[0;34m.\u001b[0m\u001b[0mget_frame\u001b[0m\u001b[0;34m(\u001b[0m\u001b[0;34m)\u001b[0m\u001b[0;34m.\u001b[0m\u001b[0mset_alpha\u001b[0m\u001b[0;34m(\u001b[0m\u001b[0;36m0.5\u001b[0m\u001b[0;34m)\u001b[0m \u001b[0;31m#translucent legend\u001b[0m\u001b[0;34m\u001b[0m\u001b[0m\n\u001b[0m\u001b[1;32m     76\u001b[0m \u001b[0;34m\u001b[0m\u001b[0m\n\u001b[1;32m     77\u001b[0m \u001b[0mplt\u001b[0m\u001b[0;34m.\u001b[0m\u001b[0msavefig\u001b[0m\u001b[0;34m(\u001b[0m\u001b[0;34m\"single_fit_nb\"\u001b[0m\u001b[0;34m,\u001b[0m \u001b[0mbbox_inches\u001b[0m\u001b[0;34m=\u001b[0m\u001b[0;34m\"tight\"\u001b[0m\u001b[0;34m)\u001b[0m\u001b[0;34m\u001b[0m\u001b[0m\n",
      "\u001b[0;31mAttributeError\u001b[0m: 'NoneType' object has no attribute 'get_frame'"
     ]
    }
   ],
   "source": [
    "        #Loaded from /Users/ttm3/TTMUW_2015/DBTT/analysis_reproduction_testing/MAST-ml-private/test/main_test/SingleFit_withy_KernelRidge0/single_fit.pickle\n",
    "        \n",
    "        import matplotlib\n",
    "        import matplotlib.pyplot as plt\n",
    "        import numpy as np\n",
    "        from numpy import array\n",
    "        matplotlib.rcParams.update({'font.size': 18})\n",
    "        smallfont = 0.85*matplotlib.rcParams['font.size']\n",
    "        plt.figure(figsize=(8,6)) #size in inches\n",
    "        \n",
    "        plt.xlabel('Measured target')\n",
    "        plt.ylabel('Target prediction')\n",
    "        ax = plt.gca()\n",
    "        #ax.margins(0.5,0.5) #set margins so points are not cut off\n",
    "        #ax.set_xscale('log', nonposx='clip') #set log scale\n",
    "        #ax.set_xlim([-10.0, 10.0]) #set limits on x axis. Similar for y axis.\n",
    "        ax.set_xticks([-1.5, -1.0, -0.5, 0.0, 0.5, 1.0, 1.5])\n",
    "        #ax.set_xticklabels([\"a\",\"b\",\"c\",\"d\",\"e\"],rotation=90) #set tick labels\n",
    "        ax.set_yticks([-1.5, -1.0, -0.5, 0.0, 0.5, 1.0, 1.5])\n",
    "        #\n",
    "        ### Set additional dashed gridline at x=0\n",
    "        #ax.set_xticks(np.array([0]),minor=True)\n",
    "        #ax.xaxis.grid(which='minor', linestyle='--')\n",
    "        #\n",
    "        ### Add diagonal guideline\n",
    "        #plt.plot([-10,10],[-10,10],'--', color='gray')\n",
    "        #\n",
    "        ### Do not use scientific ticks with an automatic multiplier\n",
    "        #y_formatter = matplotlib.ticker.ScalarFormatter()\n",
    "        #y_formatter.set_useOffset(False)\n",
    "        #y_formatter.set_scientific(False)\n",
    "        #ax.yaxis.set_major_formatter(y_formatter)\n",
    "        #\n",
    "        ### Set xticks as times\n",
    "        #import time\n",
    "        #my_xticks = ax.get_xticks()\n",
    "        #adjusted_xticks = list()\n",
    "        #for tidx in range(0, len(my_xticks)):\n",
    "        #    mytick = time.strftime(\"format string\", time.localtime(my_xticks[tidx]))\n",
    "        #               #see time.strftime for format strings to use\n",
    "        #    adjusted_xticks.append(mytick)\n",
    "        #    ax.set_xticklabels(adjusted_xticks, rotation=90.0)\n",
    "        #\n",
    "        ### Use a second y axis with the same x axis\n",
    "        #ax2 = ax.twinx()\n",
    "        #ax2.set_ylabel(\"second label\")\n",
    "        #ax2.plot(...) #line on second axis, for example, cut a plt.plot section\n",
    "        #              #from above and paste it here, making it ax2.plot\n",
    "        #ax2.errorbar(...) #line with errorbar on second axis, for example, cut\n",
    "        #                  # a plt.errorbar section from above, making it\n",
    "        #                  # (_, caps, _)=ax2.errorbar(...)\n",
    "        #ax2.legend() #legend for entries on second axis. \n",
    "        \n",
    "        \n",
    "                \n",
    "        plt.annotate(\"RMSE: 0.088\", \n",
    "                    xy=(0.05, 0.88), xycoords='axes fraction',\n",
    "                    fontsize=smallfont)\n",
    "\n",
    "                                \n",
    "        plt.annotate(\"R-squared: 0.983\", \n",
    "                    xy=(0.05, 0.81), xycoords='axes fraction',\n",
    "                    fontsize=smallfont)\n",
    "\n",
    "                \n",
    "        \n",
    "        plt.plot([-1.5,1.5],[-1.5,1.5],linestyle='--', color='gray')\n",
    "        \n",
    "        lgd = ax.legend(loc='lower center', #location\n",
    "                        ncol=2, #number of columns\n",
    "                        numpoints=1, #number of points\n",
    "                        bbox_to_anchor=(0.5,1), #anchor against the figure axes; this anchor pins the lower center point to x=half axis and y=full axis\n",
    "                        fontsize=smallfont,\n",
    "                        )\n",
    "        lgd.get_frame().set_alpha(0.5) #translucent legend\n",
    "        \n",
    "        plt.savefig(\"single_fit_nb\", bbox_inches=\"tight\")\n",
    "        plt.show()\n",
    "        \n"
   ]
  },
  {
   "cell_type": "code",
   "execution_count": null,
   "metadata": {
    "collapsed": true
   },
   "outputs": [],
   "source": []
  }
 ],
 "metadata": {
  "kernelspec": {
   "display_name": "Python 3",
   "language": "python",
   "name": "python3"
  },
  "language_info": {
   "codemirror_mode": {
    "name": "ipython",
    "version": 3
   },
   "file_extension": ".py",
   "mimetype": "text/x-python",
   "name": "python",
   "nbconvert_exporter": "python",
   "pygments_lexer": "ipython3",
   "version": "3.5.2"
  }
 },
 "nbformat": 4,
 "nbformat_minor": 2
}
