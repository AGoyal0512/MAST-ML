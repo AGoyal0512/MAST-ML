{
 "cells": [
  {
   "cell_type": "code",
   "execution_count": 1,
   "metadata": {},
   "outputs": [
    {
     "name": "stderr",
     "output_type": "stream",
     "text": [
      "/Users/ttm3/anaconda3/envs/skunkworks/lib/python3.5/site-packages/matplotlib/axes/_axes.py:531: UserWarning: No labelled objects found. Use label='...' kwarg on individual plots.\n",
      "  warnings.warn(\"No labelled objects found. \"\n"
     ]
    },
    {
     "data": {
      "image/png": "[encoded data removed]",
      "text/plain": [
       "<matplotlib.figure.Figure at 0x105821898>"
      ]
     },
     "metadata": {},
     "output_type": "display_data"
    }
   ],
   "source": [
    "        #Loaded from leave_out_group.pickle\n",
    "        \n",
    "        import matplotlib\n",
    "        import matplotlib.pyplot as plt\n",
    "        import numpy as np\n",
    "        from numpy import array\n",
    "        from numpy import nan\n",
    "        matplotlib.rcParams.update({'font.size': 18})\n",
    "        smallfont = 0.85*matplotlib.rcParams['font.size']\n",
    "        plt.figure(figsize=(8,6)) #size in inches\n",
    "        \n",
    "                \n",
    "\n",
    "        _line0_x = array([0, 4])\n",
    "\n",
    "        \n",
    "                \n",
    "\n",
    "        _line0_y = array([0, 0])\n",
    "\n",
    "        \n",
    "        plt.plot(_line0_x, _line0_y, label='_line0',\n",
    "                color='.3', linestyle='--', linewidth='1.0',\n",
    "                marker='None', markersize='6.0', markeredgewidth='0.5',\n",
    "                markeredgecolor='.3', markerfacecolor='.3')\n",
    "        \n",
    "        plt.xlabel('Group')\n",
    "        plt.ylabel('RMSE (arb. units)')\n",
    "        ax = plt.gca()\n",
    "        #ax.margins(0.5,0.5) #set margins so points are not cut off\n",
    "        #ax.set_xscale('log', nonposx='clip') #set log scale\n",
    "        #ax.set_xlim([-10.0, 10.0]) #set limits on x axis. Similar for y axis.\n",
    "        ax.set_xticks([-1.0, 0.0, 1.0, 2.0, 3.0, 4.0, 5.0])\n",
    "        #ax.set_xticklabels([\"a\",\"b\",\"c\",\"d\",\"e\"],rotation=90) #set tick labels\n",
    "        ax.set_yticks([-0.05, 0.0, 0.05, 0.10000000000000002, 0.15000000000000002, 0.2])\n",
    "        #\n",
    "        ### Set additional dashed gridline at x=0\n",
    "        #ax.set_xticks(np.array([0]),minor=True)\n",
    "        #ax.xaxis.grid(which='minor', linestyle='--')\n",
    "        #\n",
    "        ### Add diagonal guideline\n",
    "        #plt.plot([-10,10],[-10,10],'--', color='gray')\n",
    "        #\n",
    "        ### Do not use scientific ticks with an automatic multiplier\n",
    "        #y_formatter = matplotlib.ticker.ScalarFormatter()\n",
    "        #y_formatter.set_useOffset(False)\n",
    "        #y_formatter.set_scientific(False)\n",
    "        #ax.yaxis.set_major_formatter(y_formatter)\n",
    "        #\n",
    "        ### Set xticks as times\n",
    "        #import time\n",
    "        #my_xticks = ax.get_xticks()\n",
    "        #adjusted_xticks = list()\n",
    "        #for tidx in range(0, len(my_xticks)):\n",
    "        #    mytick = time.strftime(\"format string\", time.localtime(my_xticks[tidx]))\n",
    "        #               #see time.strftime for format strings to use\n",
    "        #    adjusted_xticks.append(mytick)\n",
    "        #    ax.set_xticklabels(adjusted_xticks, rotation=90.0)\n",
    "        #\n",
    "        ### Use a second y axis with the same x axis\n",
    "        #ax2 = ax.twinx()\n",
    "        #ax2.set_ylabel(\"second label\")\n",
    "        #ax2.plot(...) #line on second axis, for example, cut a plt.plot section\n",
    "        #              #from above and paste it here, making it ax2.plot\n",
    "        #ax2.errorbar(...) #line with errorbar on second axis, for example, cut\n",
    "        #                  # a plt.errorbar section from above, making it\n",
    "        #                  # (_, caps, _)=ax2.errorbar(...)\n",
    "        #ax2.legend() #legend for entries on second axis. \n",
    "        \n",
    "        \n",
    "                \n",
    "        plt.annotate(\"Mean RMSE: 0.13\", \n",
    "                    xy=(0.05, 0.88), xycoords='axes fraction',\n",
    "                    fontsize=smallfont)\n",
    "\n",
    "                                \n",
    "        plt.annotate(\"D\", \n",
    "                    xy=(3, 0.12675362978400001), xycoords='data',\n",
    "                    fontsize=smallfont)\n",
    "\n",
    "                                \n",
    "        plt.annotate(\"B\", \n",
    "                    xy=(1, 0.13016756500500001), xycoords='data',\n",
    "                    fontsize=smallfont)\n",
    "\n",
    "                                \n",
    "        plt.annotate(\"A\", \n",
    "                    xy=(0, 0.153725597248), xycoords='data',\n",
    "                    fontsize=smallfont)\n",
    "\n",
    "                \n",
    "        \n",
    "        lgd = ax.legend(loc='lower center', #location\n",
    "                        ncol=2, #number of columns\n",
    "                        numpoints=1, #number of points\n",
    "                        bbox_to_anchor=(0.5,1), #anchor against the figure axes; this anchor pins the lower center point to x=half axis and y=full axis\n",
    "                        fontsize=smallfont,\n",
    "                        )\n",
    "        if not (lgd is None): #lgd is None if there are no labeled lines\n",
    "            lgd.get_frame().set_alpha(0.5) #translucent legend\n",
    "        \n",
    "        plt.savefig(\"leave_out_group_nb\", bbox_inches=\"tight\")\n",
    "        plt.show()\n",
    "        \n"
   ]
  },
  {
   "cell_type": "code",
   "execution_count": null,
   "metadata": {
    "collapsed": true
   },
   "outputs": [],
   "source": []
  }
 ],
 "metadata": {
  "kernelspec": {
   "display_name": "Python 3",
   "language": "python",
   "name": "python3"
  },
  "language_info": {
   "codemirror_mode": {
    "name": "ipython",
    "version": 3
   },
   "file_extension": ".py",
   "mimetype": "text/x-python",
   "name": "python",
   "nbconvert_exporter": "python",
   "pygments_lexer": "ipython3",
   "version": "3.5.2"
  }
 },
 "nbformat": 4,
 "nbformat_minor": 2
}
