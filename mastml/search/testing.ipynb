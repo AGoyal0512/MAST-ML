{
 "cells": [
  {
   "cell_type": "code",
   "execution_count": 1,
   "metadata": {},
   "outputs": [],
   "source": [
    "import sys\n",
    "sys.path.insert(0, '/Users/lhm/git/mast')"
   ]
  },
  {
   "cell_type": "code",
   "execution_count": 2,
   "metadata": {
    "scrolled": false
   },
   "outputs": [],
   "source": [
    "import numpy as np\n",
    "import pandas as pd\n",
    "from sklearn.linear_model import LinearRegression\n",
    "from sklearn.metrics import mean_squared_error\n",
    "from sklearn.svm import NuSVR\n",
    "\n",
    "from mastml.search.genetic_search import GeneticSearch\n",
    "from mastml.search.data_handler import DataHandler"
   ]
  },
  {
   "cell_type": "code",
   "execution_count": 3,
   "metadata": {
    "scrolled": false
   },
   "outputs": [],
   "source": [
    "x1    = np.random.random(50)\n",
    "x2    = np.random.random(50)\n",
    "noise = np.random.random(50)\n",
    "y = x1 * x2 + 3*x1 + 5 + 2*noise\n",
    "\n",
    "X = np.column_stack([x1,x2])\n",
    "data = np.column_stack([x1, x2, y])\n",
    "df = pd.DataFrame(data, columns=['a', 'b', 'y'])"
   ]
  },
  {
   "cell_type": "code",
   "execution_count": 4,
   "metadata": {
    "scrolled": false
   },
   "outputs": [
    {
     "data": {
      "text/html": [
       "<div>\n",
       "<style scoped>\n",
       "    .dataframe tbody tr th:only-of-type {\n",
       "        vertical-align: middle;\n",
       "    }\n",
       "\n",
       "    .dataframe tbody tr th {\n",
       "        vertical-align: top;\n",
       "    }\n",
       "\n",
       "    .dataframe thead th {\n",
       "        text-align: right;\n",
       "    }\n",
       "</style>\n",
       "<table border=\"1\" class=\"dataframe\">\n",
       "  <thead>\n",
       "    <tr style=\"text-align: right;\">\n",
       "      <th></th>\n",
       "      <th>a</th>\n",
       "      <th>b</th>\n",
       "      <th>y</th>\n",
       "    </tr>\n",
       "  </thead>\n",
       "  <tbody>\n",
       "    <tr>\n",
       "      <th>0</th>\n",
       "      <td>0.071616</td>\n",
       "      <td>0.180564</td>\n",
       "      <td>5.980515</td>\n",
       "    </tr>\n",
       "    <tr>\n",
       "      <th>1</th>\n",
       "      <td>0.736822</td>\n",
       "      <td>0.014010</td>\n",
       "      <td>8.773320</td>\n",
       "    </tr>\n",
       "    <tr>\n",
       "      <th>2</th>\n",
       "      <td>0.600872</td>\n",
       "      <td>0.082067</td>\n",
       "      <td>7.686649</td>\n",
       "    </tr>\n",
       "    <tr>\n",
       "      <th>3</th>\n",
       "      <td>0.680979</td>\n",
       "      <td>0.750184</td>\n",
       "      <td>8.459691</td>\n",
       "    </tr>\n",
       "    <tr>\n",
       "      <th>4</th>\n",
       "      <td>0.191694</td>\n",
       "      <td>0.091678</td>\n",
       "      <td>7.289198</td>\n",
       "    </tr>\n",
       "  </tbody>\n",
       "</table>\n",
       "</div>"
      ],
      "text/plain": [
       "          a         b         y\n",
       "0  0.071616  0.180564  5.980515\n",
       "1  0.736822  0.014010  8.773320\n",
       "2  0.600872  0.082067  7.686649\n",
       "3  0.680979  0.750184  8.459691\n",
       "4  0.191694  0.091678  7.289198"
      ]
     },
     "execution_count": 4,
     "metadata": {},
     "output_type": "execute_result"
    }
   ],
   "source": [
    "df.head()"
   ]
  },
  {
   "cell_type": "code",
   "execution_count": 5,
   "metadata": {},
   "outputs": [
    {
     "name": "stderr",
     "output_type": "stream",
     "text": [
      "/usr/local/lib/python3.6/site-packages/sklearn/linear_model/base.py:509: RuntimeWarning: internal gelsd driver lwork query error, required iwork dimension not returned. This is likely the result of LAPACK bug 0038, fixed in LAPACK 3.2.2 (released July 21, 2010). Falling back to 'gelss' driver.\n",
      "  linalg.lstsq(X, y)\n"
     ]
    },
    {
     "data": {
      "text/plain": [
       "0.5408904991242812"
      ]
     },
     "execution_count": 5,
     "metadata": {},
     "output_type": "execute_result"
    }
   ],
   "source": [
    "smart_guy = LinearRegression() #NuSVR()\n",
    "smart_guy.fit(X, y)\n",
    "y_pred = smart_guy.predict(X)\n",
    "mean_squared_error(y, y_pred)**0.5"
   ]
  },
  {
   "cell_type": "code",
   "execution_count": 6,
   "metadata": {
    "scrolled": false
   },
   "outputs": [],
   "source": [
    "dh = DataHandler(df, input_features=['a','b'], target_feature='y')\n",
    "dh_test = DataHandler(df[['a','b']], input_features=['a','b'], target_feature='y')\n",
    "dh_train = DataHandler(df[['y']], input_features=['a','b'], target_feature='y')"
   ]
  },
  {
   "cell_type": "code",
   "execution_count": 7,
   "metadata": {
    "scrolled": false
   },
   "outputs": [],
   "source": [
    "model = NuSVR()"
   ]
  },
  {
   "cell_type": "code",
   "execution_count": 8,
   "metadata": {
    "scrolled": false
   },
   "outputs": [],
   "source": [
    "params = ['model;shrinking;bool;discrete;True:False',\n",
    "          'model;nu;float;continuous;0.1:0.9:2',\n",
    "          'model;tol;float;continuous-log;-6:-2:2',]\n",
    "gs = GeneticSearch(params, dh, dh, model, './results/', num_folds=5, max_generations=1, ga_pop_size=3, processors=1)"
   ]
  },
  {
   "cell_type": "code",
   "execution_count": 9,
   "metadata": {
    "scrolled": false
   },
   "outputs": [
    {
     "name": "stdout",
     "output_type": "stream",
     "text": [
      "running\n",
      "Generation 0 Fri Jun 29 00:12:40 2018\n"
     ]
    },
    {
     "name": "stderr",
     "output_type": "stream",
     "text": [
      "/Users/lhm/git/mast/mastml/search/grid_search.py:754: FutureWarning: set_value is deprecated and will be removed in a future release. Please use .at[] or .iat[] accessors instead\n",
      "  flat_results.set_value(pct, colname, val)\n",
      "/Users/lhm/git/mast/mastml/search/grid_search.py:755: FutureWarning: set_value is deprecated and will be removed in a future release. Please use .at[] or .iat[] accessors instead\n",
      "  flat_results.set_value(pct, 'rmse', rmse)\n",
      "/Users/lhm/git/mast/mastml/search/grid_search.py:756: FutureWarning: set_value is deprecated and will be removed in a future release. Please use .at[] or .iat[] accessors instead\n",
      "  flat_results.set_value(pct, 'key', pkey)\n"
     ]
    },
    {
     "name": "stdout",
     "output_type": "stream",
     "text": [
      "Individual 0/3\n",
      "Individual 1/3\n",
      "Individual 2/3\n",
      "Fri Jun 29 00:12:40 2018\n",
      "Results gen 0, rmse 0.506: ['model;shrinking;True\\n', 'model;nu;0.9\\n', 'model;tol;0.01\\n']\n"
     ]
    }
   ],
   "source": [
    "import matplotlib.pyplot as plt\n",
    "plt.interactive(False)\n",
    "def ignore_me(*args, **kwargs):\n",
    "    print('outch', args, kwargs)\n",
    "    \n",
    "plt.show = ignore_me\n",
    "\n",
    "\n",
    "gs.run()"
   ]
  }
 ],
 "metadata": {
  "kernelspec": {
   "display_name": "Python 3",
   "language": "python",
   "name": "python3"
  },
  "language_info": {
   "codemirror_mode": {
    "name": "ipython",
    "version": 3
   },
   "file_extension": ".py",
   "mimetype": "text/x-python",
   "name": "python",
   "nbconvert_exporter": "python",
   "pygments_lexer": "ipython3",
   "version": "3.6.5"
  }
 },
 "nbformat": 4,
 "nbformat_minor": 2
}
