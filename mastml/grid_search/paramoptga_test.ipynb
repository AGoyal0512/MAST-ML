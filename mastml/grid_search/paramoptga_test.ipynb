{
 "cells": [
  {
   "cell_type": "code",
   "execution_count": 1,
   "metadata": {
    "scrolled": false
   },
   "outputs": [],
   "source": [
    "from ParamOptGA import ParamOptGA as POG\n",
    "from DataHandler import DataHandler\n",
    "import pandas as pd\n",
    "from sklearn.linear_model import LinearRegression\n",
    "from sklearn.metrics import mean_squared_error\n",
    "from sklearn.svm import NuSVR\n",
    "import numpy as np\n",
    "from sklearn.datasets import load_boston"
   ]
  },
  {
   "cell_type": "code",
   "execution_count": 2,
   "metadata": {
    "scrolled": false
   },
   "outputs": [],
   "source": [
    "x1 = np.random.random(size=(50,))\n",
    "x2 = np.random.random(size=(50,))\n",
    "noise = np.random.random(size=(50,))\n",
    "y = x1 * x2 + 3*x1 + 5 + 2*noise\n",
    "\n",
    "X = np.column_stack([x1,x2])\n",
    "data = np.column_stack([x1, x2, y])\n",
    "df = pd.DataFrame(data, columns=['a', 'b', 'y'])\n",
    "\n",
    "#data = load_boston"
   ]
  },
  {
   "cell_type": "code",
   "execution_count": 3,
   "metadata": {
    "scrolled": false
   },
   "outputs": [
    {
     "data": {
      "text/html": [
       "<div>\n",
       "<style scoped>\n",
       "    .dataframe tbody tr th:only-of-type {\n",
       "        vertical-align: middle;\n",
       "    }\n",
       "\n",
       "    .dataframe tbody tr th {\n",
       "        vertical-align: top;\n",
       "    }\n",
       "\n",
       "    .dataframe thead th {\n",
       "        text-align: right;\n",
       "    }\n",
       "</style>\n",
       "<table border=\"1\" class=\"dataframe\">\n",
       "  <thead>\n",
       "    <tr style=\"text-align: right;\">\n",
       "      <th></th>\n",
       "      <th>a</th>\n",
       "      <th>b</th>\n",
       "      <th>y</th>\n",
       "    </tr>\n",
       "  </thead>\n",
       "  <tbody>\n",
       "    <tr>\n",
       "      <th>0</th>\n",
       "      <td>0.982064</td>\n",
       "      <td>0.169036</td>\n",
       "      <td>8.371174</td>\n",
       "    </tr>\n",
       "    <tr>\n",
       "      <th>1</th>\n",
       "      <td>0.438667</td>\n",
       "      <td>0.982649</td>\n",
       "      <td>7.889547</td>\n",
       "    </tr>\n",
       "    <tr>\n",
       "      <th>2</th>\n",
       "      <td>0.635540</td>\n",
       "      <td>0.265647</td>\n",
       "      <td>8.169143</td>\n",
       "    </tr>\n",
       "    <tr>\n",
       "      <th>3</th>\n",
       "      <td>0.973520</td>\n",
       "      <td>0.374664</td>\n",
       "      <td>9.982103</td>\n",
       "    </tr>\n",
       "    <tr>\n",
       "      <th>4</th>\n",
       "      <td>0.013294</td>\n",
       "      <td>0.923858</td>\n",
       "      <td>6.355648</td>\n",
       "    </tr>\n",
       "  </tbody>\n",
       "</table>\n",
       "</div>"
      ],
      "text/plain": [
       "          a         b         y\n",
       "0  0.982064  0.169036  8.371174\n",
       "1  0.438667  0.982649  7.889547\n",
       "2  0.635540  0.265647  8.169143\n",
       "3  0.973520  0.374664  9.982103\n",
       "4  0.013294  0.923858  6.355648"
      ]
     },
     "execution_count": 3,
     "metadata": {},
     "output_type": "execute_result"
    }
   ],
   "source": [
    "df.head()"
   ]
  },
  {
   "cell_type": "code",
   "execution_count": 4,
   "metadata": {},
   "outputs": [
    {
     "name": "stderr",
     "output_type": "stream",
     "text": [
      "/usr/local/lib/python3.6/site-packages/sklearn/linear_model/base.py:509: RuntimeWarning: internal gelsd driver lwork query error, required iwork dimension not returned. This is likely the result of LAPACK bug 0038, fixed in LAPACK 3.2.2 (released July 21, 2010). Falling back to 'gelss' driver.\n",
      "  linalg.lstsq(X, y)\n"
     ]
    },
    {
     "data": {
      "text/plain": [
       "0.5846757189639391"
      ]
     },
     "execution_count": 4,
     "metadata": {},
     "output_type": "execute_result"
    }
   ],
   "source": [
    "smart_guy = LinearRegression() #NuSVR()\n",
    "smart_guy.fit(X, y)\n",
    "y_pred = smart_guy.predict(X)\n",
    "mean_squared_error(y, y_pred)**0.5"
   ]
  },
  {
   "cell_type": "code",
   "execution_count": 5,
   "metadata": {
    "scrolled": false
   },
   "outputs": [],
   "source": [
    "dh = DataHandler(df, input_features=['a','b'], target_feature='y')\n",
    "dh_test = DataHandler(df[['a','b']], input_features=['a','b'], target_feature='y')\n",
    "dh_train = DataHandler(df[['y']], input_features=['a','b'], target_feature='y')"
   ]
  },
  {
   "cell_type": "code",
   "execution_count": 6,
   "metadata": {
    "scrolled": false
   },
   "outputs": [],
   "source": [
    "model = NuSVR()"
   ]
  },
  {
   "cell_type": "code",
   "execution_count": 7,
   "metadata": {
    "scrolled": false
   },
   "outputs": [],
   "source": [
    "params = ['model;shrinking;bool;discrete;True:False',\n",
    "          'model;nu;float;continuous;0.1:0.9:2',\n",
    "          'model;tol;float;continuous-log;-6:-2:2',]\n",
    "pog = POG(params, dh, dh, model, './results/', num_folds=5, max_generations=1, ga_pop_size=3, processors=1)"
   ]
  },
  {
   "cell_type": "code",
   "execution_count": 8,
   "metadata": {
    "scrolled": false
   },
   "outputs": [
    {
     "name": "stdout",
     "output_type": "stream",
     "text": [
      "running\n",
      "Generation 0 Thu Jun 28 19:52:40 2018\n",
      "Individual 0/3\n",
      "Individual 1/3\n",
      "Individual 2/3\n",
      "Thu Jun 28 19:52:40 2018\n",
      "Results gen 0, rmse 0.631: ['model;shrinking;True\\n', 'model;nu;0.9\\n', 'model;tol;1e-06\\n']\n"
     ]
    },
    {
     "name": "stderr",
     "output_type": "stream",
     "text": [
      "/Users/lhm/git/mast/mastml/grid_search/ParamGridSearch.py:740: FutureWarning: set_value is deprecated and will be removed in a future release. Please use .at[] or .iat[] accessors instead\n",
      "  flat_results.set_value(pct, colname, val)\n",
      "/Users/lhm/git/mast/mastml/grid_search/ParamGridSearch.py:741: FutureWarning: set_value is deprecated and will be removed in a future release. Please use .at[] or .iat[] accessors instead\n",
      "  flat_results.set_value(pct, 'rmse', rmse)\n",
      "/Users/lhm/git/mast/mastml/grid_search/ParamGridSearch.py:742: FutureWarning: set_value is deprecated and will be removed in a future release. Please use .at[] or .iat[] accessors instead\n",
      "  flat_results.set_value(pct, 'key', pkey)\n"
     ]
    }
   ],
   "source": [
    "import matplotlib.pyplot as plt\n",
    "plt.interactive(False)\n",
    "def ignore_me(*args, **kwargs):\n",
    "    print('outch', args, kwargs)\n",
    "    \n",
    "plt.show = ignore_me\n",
    "\n",
    "\n",
    "pog.run()"
   ]
  }
 ],
 "metadata": {
  "kernelspec": {
   "display_name": "Python 3",
   "language": "python",
   "name": "python3"
  },
  "language_info": {
   "codemirror_mode": {
    "name": "ipython",
    "version": 3
   },
   "file_extension": ".py",
   "mimetype": "text/x-python",
   "name": "python",
   "nbconvert_exporter": "python",
   "pygments_lexer": "ipython3",
   "version": "3.6.5"
  }
 },
 "nbformat": 4,
 "nbformat_minor": 2
}
