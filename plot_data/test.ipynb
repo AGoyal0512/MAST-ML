{
 "cells": [
  {
   "cell_type": "code",
   "execution_count": null,
   "metadata": {},
   "outputs": [],
   "source": [
    "        %pylab inline\n",
    "        import matplotlib\n",
    "        import matplotlib.pyplot as plt\n",
    "        plt.figure()\n",
    "        plt.plot([1,2,3],[2,3,4],'b-')\n",
    "        plt.show()\n",
    "        plt.savefig(\"figure.fig\")\n",
    "        "
   ]
  }
 ],
 "metadata": {},
 "nbformat": 4,
 "nbformat_minor": 2
}
